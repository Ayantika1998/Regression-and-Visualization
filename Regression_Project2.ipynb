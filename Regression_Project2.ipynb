{
  "nbformat": 4,
  "nbformat_minor": 0,
  "metadata": {
    "colab": {
      "name": "Regression Project.ipynb",
      "provenance": [],
      "collapsed_sections": [],
      "toc_visible": true
    },
    "kernelspec": {
      "name": "python3",
      "display_name": "Python 3"
    },
    "language_info": {
      "name": "python"
    }
  },
  "cells": [
    {
      "cell_type": "markdown",
      "metadata": {
        "id": "HojdoBG9Kc4C"
      },
      "source": [
        "# **Medical Cost Prediction : Visualisation and Modeling**"
      ]
    },
    {
      "cell_type": "markdown",
      "metadata": {
        "id": "GBqkHJ4trpt8"
      },
      "source": [
        "# **Importing Library**"
      ]
    },
    {
      "cell_type": "code",
      "metadata": {
        "id": "FE1T54YgpXZ2"
      },
      "source": [
        "import numpy as np  # for linear algebra\n",
        "import pandas as pd #  for data processing, CSV file I/O (e.g. pd.read_csv)\n",
        "import matplotlib.pyplot as plt #for visualization\n",
        "import seaborn as sns #for visualization\n",
        "from scipy.stats import norm \n",
        "from scipy import stats"
      ],
      "execution_count": 217,
      "outputs": []
    },
    {
      "cell_type": "markdown",
      "metadata": {
        "id": "Fnzbfkz-rvrV"
      },
      "source": [
        "# **Loading and checking dataset**"
      ]
    },
    {
      "cell_type": "code",
      "metadata": {
        "id": "gIe61I2rrvIu"
      },
      "source": [
        "dataset = pd.read_csv('insurance.csv')"
      ],
      "execution_count": 218,
      "outputs": []
    },
    {
      "cell_type": "code",
      "metadata": {
        "colab": {
          "base_uri": "https://localhost:8080/"
        },
        "id": "tokWSPkKsMYF",
        "outputId": "7ecaf557-4bcb-4268-95d5-8f699b630d5f"
      },
      "source": [
        "print('\\nNumber of rows and columns in the data set: ',dataset.shape) #printing no. of rows and coloumns"
      ],
      "execution_count": 219,
      "outputs": [
        {
          "output_type": "stream",
          "name": "stdout",
          "text": [
            "\n",
            "Number of rows and columns in the data set:  (1338, 7)\n"
          ]
        }
      ]
    },
    {
      "cell_type": "code",
      "metadata": {
        "colab": {
          "base_uri": "https://localhost:8080/",
          "height": 206
        },
        "id": "iC_pALdBtv2c",
        "outputId": "341f647c-8521-47dc-f643-85f869913492"
      },
      "source": [
        "dataset.head() # printing top few rows and columns in the dataset"
      ],
      "execution_count": 220,
      "outputs": [
        {
          "output_type": "execute_result",
          "data": {
            "text/html": [
              "<div>\n",
              "<style scoped>\n",
              "    .dataframe tbody tr th:only-of-type {\n",
              "        vertical-align: middle;\n",
              "    }\n",
              "\n",
              "    .dataframe tbody tr th {\n",
              "        vertical-align: top;\n",
              "    }\n",
              "\n",
              "    .dataframe thead th {\n",
              "        text-align: right;\n",
              "    }\n",
              "</style>\n",
              "<table border=\"1\" class=\"dataframe\">\n",
              "  <thead>\n",
              "    <tr style=\"text-align: right;\">\n",
              "      <th></th>\n",
              "      <th>age</th>\n",
              "      <th>sex</th>\n",
              "      <th>bmi</th>\n",
              "      <th>children</th>\n",
              "      <th>smoker</th>\n",
              "      <th>region</th>\n",
              "      <th>charges</th>\n",
              "    </tr>\n",
              "  </thead>\n",
              "  <tbody>\n",
              "    <tr>\n",
              "      <th>0</th>\n",
              "      <td>19</td>\n",
              "      <td>female</td>\n",
              "      <td>27.900</td>\n",
              "      <td>0</td>\n",
              "      <td>yes</td>\n",
              "      <td>southwest</td>\n",
              "      <td>16884.92400</td>\n",
              "    </tr>\n",
              "    <tr>\n",
              "      <th>1</th>\n",
              "      <td>18</td>\n",
              "      <td>male</td>\n",
              "      <td>33.770</td>\n",
              "      <td>1</td>\n",
              "      <td>no</td>\n",
              "      <td>southeast</td>\n",
              "      <td>1725.55230</td>\n",
              "    </tr>\n",
              "    <tr>\n",
              "      <th>2</th>\n",
              "      <td>28</td>\n",
              "      <td>male</td>\n",
              "      <td>33.000</td>\n",
              "      <td>3</td>\n",
              "      <td>no</td>\n",
              "      <td>southeast</td>\n",
              "      <td>4449.46200</td>\n",
              "    </tr>\n",
              "    <tr>\n",
              "      <th>3</th>\n",
              "      <td>33</td>\n",
              "      <td>male</td>\n",
              "      <td>22.705</td>\n",
              "      <td>0</td>\n",
              "      <td>no</td>\n",
              "      <td>northwest</td>\n",
              "      <td>21984.47061</td>\n",
              "    </tr>\n",
              "    <tr>\n",
              "      <th>4</th>\n",
              "      <td>32</td>\n",
              "      <td>male</td>\n",
              "      <td>28.880</td>\n",
              "      <td>0</td>\n",
              "      <td>no</td>\n",
              "      <td>northwest</td>\n",
              "      <td>3866.85520</td>\n",
              "    </tr>\n",
              "  </tbody>\n",
              "</table>\n",
              "</div>"
            ],
            "text/plain": [
              "   age     sex     bmi  children smoker     region      charges\n",
              "0   19  female  27.900         0    yes  southwest  16884.92400\n",
              "1   18    male  33.770         1     no  southeast   1725.55230\n",
              "2   28    male  33.000         3     no  southeast   4449.46200\n",
              "3   33    male  22.705         0     no  northwest  21984.47061\n",
              "4   32    male  28.880         0     no  northwest   3866.85520"
            ]
          },
          "metadata": {},
          "execution_count": 220
        }
      ]
    },
    {
      "cell_type": "code",
      "metadata": {
        "colab": {
          "base_uri": "https://localhost:8080/"
        },
        "id": "Br45zRCzt9SP",
        "outputId": "f4b857c5-1222-42ac-8cca-97e57d6e54dc"
      },
      "source": [
        "print('Data Info')\n",
        "dataset.info() # checking no. of non_numerical coloumns"
      ],
      "execution_count": 221,
      "outputs": [
        {
          "output_type": "stream",
          "name": "stdout",
          "text": [
            "Data Info\n",
            "<class 'pandas.core.frame.DataFrame'>\n",
            "RangeIndex: 1338 entries, 0 to 1337\n",
            "Data columns (total 7 columns):\n",
            " #   Column    Non-Null Count  Dtype  \n",
            "---  ------    --------------  -----  \n",
            " 0   age       1338 non-null   int64  \n",
            " 1   sex       1338 non-null   object \n",
            " 2   bmi       1338 non-null   float64\n",
            " 3   children  1338 non-null   int64  \n",
            " 4   smoker    1338 non-null   object \n",
            " 5   region    1338 non-null   object \n",
            " 6   charges   1338 non-null   float64\n",
            "dtypes: float64(2), int64(2), object(3)\n",
            "memory usage: 73.3+ KB\n"
          ]
        }
      ]
    },
    {
      "cell_type": "markdown",
      "metadata": {
        "id": "EdD8-TjavH-I"
      },
      "source": [
        "float64 : bmi, charges\n",
        "\n",
        "int64 : age, children\n",
        "\n",
        "object : sex, smoker, region"
      ]
    },
    {
      "cell_type": "markdown",
      "metadata": {
        "id": "Fqj8DnYR6Eg6"
      },
      "source": [
        "## **Data Dictionary**\n",
        "\n",
        "**Independent Varriable**\n",
        "\n",
        "* age: age of primary beneficiary\n",
        "\n",
        "* sex: insurance contractor gender, female, male\n",
        "\n",
        "* bmi: Body mass index, providing an understanding of body, weights that are   relatively high or low relative to height, objective index of body weight (kg / m ^ 2) using the ratio of height to weight, ideally 18.5 to 24.9\n",
        "\n",
        "* children: Number of children covered by health insurance / Number of dependents\n",
        "\n",
        "* smoker: Smoking\n",
        "\n",
        "* region: the beneficiary's residential area in the US, northeast, southeast, southwest, northwest\n",
        "\n",
        "**Dependent Varriable**\n",
        "\n",
        "* charges: Individual medical costs billed by health insurance item\n",
        "\n",
        "\n"
      ]
    },
    {
      "cell_type": "markdown",
      "source": [
        "# **Exploratory Data Analysis(EDA)**"
      ],
      "metadata": {
        "id": "zJKntWa6NbhJ"
      }
    },
    {
      "cell_type": "markdown",
      "metadata": {
        "id": "NcwWoCQGwB1d"
      },
      "source": [
        "### **Tabulation of the effects of attributes on target attributes and other attributes**"
      ]
    },
    {
      "cell_type": "markdown",
      "metadata": {
        "id": "yYFLZfm7wbsE"
      },
      "source": [
        "**Effects of attribute Sex on dependent varriable Charges**"
      ]
    },
    {
      "cell_type": "code",
      "metadata": {
        "colab": {
          "base_uri": "https://localhost:8080/",
          "height": 112
        },
        "id": "yq62jdFAvbl7",
        "outputId": "19084f8f-b5f0-46a8-fd49-54382adfbdb3"
      },
      "source": [
        "dataset[[\"sex\",\"charges\"]].groupby([\"sex\"], as_index = False).mean().sort_values(by = \"charges\",ascending = False).style.background_gradient(\"Blues\")"
      ],
      "execution_count": 222,
      "outputs": [
        {
          "output_type": "execute_result",
          "data": {
            "text/html": [
              "<style  type=\"text/css\" >\n",
              "#T_b9d2dc90_5d15_11ec_95e2_0242ac1c0002row0_col1{\n",
              "            background-color:  #08306b;\n",
              "            color:  #f1f1f1;\n",
              "        }#T_b9d2dc90_5d15_11ec_95e2_0242ac1c0002row1_col1{\n",
              "            background-color:  #f7fbff;\n",
              "            color:  #000000;\n",
              "        }</style><table id=\"T_b9d2dc90_5d15_11ec_95e2_0242ac1c0002\" class=\"dataframe\"><thead>    <tr>        <th class=\"blank level0\" ></th>        <th class=\"col_heading level0 col0\" >sex</th>        <th class=\"col_heading level0 col1\" >charges</th>    </tr></thead><tbody>\n",
              "                <tr>\n",
              "                        <th id=\"T_b9d2dc90_5d15_11ec_95e2_0242ac1c0002level0_row0\" class=\"row_heading level0 row0\" >1</th>\n",
              "                        <td id=\"T_b9d2dc90_5d15_11ec_95e2_0242ac1c0002row0_col0\" class=\"data row0 col0\" >male</td>\n",
              "                        <td id=\"T_b9d2dc90_5d15_11ec_95e2_0242ac1c0002row0_col1\" class=\"data row0 col1\" >13956.751178</td>\n",
              "            </tr>\n",
              "            <tr>\n",
              "                        <th id=\"T_b9d2dc90_5d15_11ec_95e2_0242ac1c0002level0_row1\" class=\"row_heading level0 row1\" >0</th>\n",
              "                        <td id=\"T_b9d2dc90_5d15_11ec_95e2_0242ac1c0002row1_col0\" class=\"data row1 col0\" >female</td>\n",
              "                        <td id=\"T_b9d2dc90_5d15_11ec_95e2_0242ac1c0002row1_col1\" class=\"data row1 col1\" >12569.578844</td>\n",
              "            </tr>\n",
              "    </tbody></table>"
            ],
            "text/plain": [
              "<pandas.io.formats.style.Styler at 0x7f9e2453fa90>"
            ]
          },
          "metadata": {},
          "execution_count": 222
        }
      ]
    },
    {
      "cell_type": "markdown",
      "metadata": {
        "id": "brBcYeyJzmaI"
      },
      "source": [
        "From the above table it is seen that for the given dataset medical expenses of male are higher than that of female"
      ]
    },
    {
      "cell_type": "markdown",
      "metadata": {
        "id": "Ypwgeit-z18G"
      },
      "source": [
        "**Effects of no. of children on dependent varriable Charges**"
      ]
    },
    {
      "cell_type": "code",
      "metadata": {
        "colab": {
          "base_uri": "https://localhost:8080/",
          "height": 237
        },
        "id": "l5f1oZKvyNCg",
        "outputId": "0fc3bacf-5eb9-4b5f-b5f7-c4d4b101730f"
      },
      "source": [
        "dataset[[\"children\",\"charges\"]].groupby([\"children\"], as_index = False).mean().sort_values(by = \"charges\",ascending = False).style.background_gradient(\"Blues\")"
      ],
      "execution_count": 223,
      "outputs": [
        {
          "output_type": "execute_result",
          "data": {
            "text/html": [
              "<style  type=\"text/css\" >\n",
              "#T_b9d7329a_5d15_11ec_95e2_0242ac1c0002row0_col0,#T_b9d7329a_5d15_11ec_95e2_0242ac1c0002row3_col1{\n",
              "            background-color:  #4a98c9;\n",
              "            color:  #000000;\n",
              "        }#T_b9d7329a_5d15_11ec_95e2_0242ac1c0002row0_col1,#T_b9d7329a_5d15_11ec_95e2_0242ac1c0002row5_col0{\n",
              "            background-color:  #08306b;\n",
              "            color:  #f1f1f1;\n",
              "        }#T_b9d7329a_5d15_11ec_95e2_0242ac1c0002row1_col0{\n",
              "            background-color:  #94c4df;\n",
              "            color:  #000000;\n",
              "        }#T_b9d7329a_5d15_11ec_95e2_0242ac1c0002row1_col1{\n",
              "            background-color:  #083a7a;\n",
              "            color:  #f1f1f1;\n",
              "        }#T_b9d7329a_5d15_11ec_95e2_0242ac1c0002row2_col0{\n",
              "            background-color:  #1764ab;\n",
              "            color:  #f1f1f1;\n",
              "        }#T_b9d7329a_5d15_11ec_95e2_0242ac1c0002row2_col1{\n",
              "            background-color:  #1c6bb0;\n",
              "            color:  #f1f1f1;\n",
              "        }#T_b9d7329a_5d15_11ec_95e2_0242ac1c0002row3_col0{\n",
              "            background-color:  #d0e1f2;\n",
              "            color:  #000000;\n",
              "        }#T_b9d7329a_5d15_11ec_95e2_0242ac1c0002row4_col0,#T_b9d7329a_5d15_11ec_95e2_0242ac1c0002row5_col1{\n",
              "            background-color:  #f7fbff;\n",
              "            color:  #000000;\n",
              "        }#T_b9d7329a_5d15_11ec_95e2_0242ac1c0002row4_col1{\n",
              "            background-color:  #5ca4d0;\n",
              "            color:  #000000;\n",
              "        }</style><table id=\"T_b9d7329a_5d15_11ec_95e2_0242ac1c0002\" class=\"dataframe\"><thead>    <tr>        <th class=\"blank level0\" ></th>        <th class=\"col_heading level0 col0\" >children</th>        <th class=\"col_heading level0 col1\" >charges</th>    </tr></thead><tbody>\n",
              "                <tr>\n",
              "                        <th id=\"T_b9d7329a_5d15_11ec_95e2_0242ac1c0002level0_row0\" class=\"row_heading level0 row0\" >3</th>\n",
              "                        <td id=\"T_b9d7329a_5d15_11ec_95e2_0242ac1c0002row0_col0\" class=\"data row0 col0\" >3</td>\n",
              "                        <td id=\"T_b9d7329a_5d15_11ec_95e2_0242ac1c0002row0_col1\" class=\"data row0 col1\" >15355.318367</td>\n",
              "            </tr>\n",
              "            <tr>\n",
              "                        <th id=\"T_b9d7329a_5d15_11ec_95e2_0242ac1c0002level0_row1\" class=\"row_heading level0 row1\" >2</th>\n",
              "                        <td id=\"T_b9d7329a_5d15_11ec_95e2_0242ac1c0002row1_col0\" class=\"data row1 col0\" >2</td>\n",
              "                        <td id=\"T_b9d7329a_5d15_11ec_95e2_0242ac1c0002row1_col1\" class=\"data row1 col1\" >15073.563734</td>\n",
              "            </tr>\n",
              "            <tr>\n",
              "                        <th id=\"T_b9d7329a_5d15_11ec_95e2_0242ac1c0002level0_row2\" class=\"row_heading level0 row2\" >4</th>\n",
              "                        <td id=\"T_b9d7329a_5d15_11ec_95e2_0242ac1c0002row2_col0\" class=\"data row2 col0\" >4</td>\n",
              "                        <td id=\"T_b9d7329a_5d15_11ec_95e2_0242ac1c0002row2_col1\" class=\"data row2 col1\" >13850.656311</td>\n",
              "            </tr>\n",
              "            <tr>\n",
              "                        <th id=\"T_b9d7329a_5d15_11ec_95e2_0242ac1c0002level0_row3\" class=\"row_heading level0 row3\" >1</th>\n",
              "                        <td id=\"T_b9d7329a_5d15_11ec_95e2_0242ac1c0002row3_col0\" class=\"data row3 col0\" >1</td>\n",
              "                        <td id=\"T_b9d7329a_5d15_11ec_95e2_0242ac1c0002row3_col1\" class=\"data row3 col1\" >12731.171832</td>\n",
              "            </tr>\n",
              "            <tr>\n",
              "                        <th id=\"T_b9d7329a_5d15_11ec_95e2_0242ac1c0002level0_row4\" class=\"row_heading level0 row4\" >0</th>\n",
              "                        <td id=\"T_b9d7329a_5d15_11ec_95e2_0242ac1c0002row4_col0\" class=\"data row4 col0\" >0</td>\n",
              "                        <td id=\"T_b9d7329a_5d15_11ec_95e2_0242ac1c0002row4_col1\" class=\"data row4 col1\" >12365.975602</td>\n",
              "            </tr>\n",
              "            <tr>\n",
              "                        <th id=\"T_b9d7329a_5d15_11ec_95e2_0242ac1c0002level0_row5\" class=\"row_heading level0 row5\" >5</th>\n",
              "                        <td id=\"T_b9d7329a_5d15_11ec_95e2_0242ac1c0002row5_col0\" class=\"data row5 col0\" >5</td>\n",
              "                        <td id=\"T_b9d7329a_5d15_11ec_95e2_0242ac1c0002row5_col1\" class=\"data row5 col1\" >8786.035247</td>\n",
              "            </tr>\n",
              "    </tbody></table>"
            ],
            "text/plain": [
              "<pandas.io.formats.style.Styler at 0x7f9e24d7f050>"
            ]
          },
          "metadata": {},
          "execution_count": 223
        }
      ]
    },
    {
      "cell_type": "markdown",
      "metadata": {
        "id": "7cAZPhwM0f-B"
      },
      "source": [
        "From the above table it is seen that those who have 5 childrens tend to have less medical expenses"
      ]
    },
    {
      "cell_type": "markdown",
      "metadata": {
        "id": "Mj_Ue-Ze0p_0"
      },
      "source": [
        "**Effects of attribute Smoker on dependent varriable Charges**"
      ]
    },
    {
      "cell_type": "code",
      "metadata": {
        "colab": {
          "base_uri": "https://localhost:8080/",
          "height": 112
        },
        "id": "bj3jFw0fyW4D",
        "outputId": "279f275d-1ce3-48af-9728-35285e252db3"
      },
      "source": [
        "dataset[[\"smoker\",\"charges\"]].groupby([\"smoker\"], as_index = False).mean().sort_values(by = \"smoker\",ascending = False).style.background_gradient(\"Blues\")"
      ],
      "execution_count": 224,
      "outputs": [
        {
          "output_type": "execute_result",
          "data": {
            "text/html": [
              "<style  type=\"text/css\" >\n",
              "#T_b9db565e_5d15_11ec_95e2_0242ac1c0002row0_col1{\n",
              "            background-color:  #08306b;\n",
              "            color:  #f1f1f1;\n",
              "        }#T_b9db565e_5d15_11ec_95e2_0242ac1c0002row1_col1{\n",
              "            background-color:  #f7fbff;\n",
              "            color:  #000000;\n",
              "        }</style><table id=\"T_b9db565e_5d15_11ec_95e2_0242ac1c0002\" class=\"dataframe\"><thead>    <tr>        <th class=\"blank level0\" ></th>        <th class=\"col_heading level0 col0\" >smoker</th>        <th class=\"col_heading level0 col1\" >charges</th>    </tr></thead><tbody>\n",
              "                <tr>\n",
              "                        <th id=\"T_b9db565e_5d15_11ec_95e2_0242ac1c0002level0_row0\" class=\"row_heading level0 row0\" >1</th>\n",
              "                        <td id=\"T_b9db565e_5d15_11ec_95e2_0242ac1c0002row0_col0\" class=\"data row0 col0\" >yes</td>\n",
              "                        <td id=\"T_b9db565e_5d15_11ec_95e2_0242ac1c0002row0_col1\" class=\"data row0 col1\" >32050.231832</td>\n",
              "            </tr>\n",
              "            <tr>\n",
              "                        <th id=\"T_b9db565e_5d15_11ec_95e2_0242ac1c0002level0_row1\" class=\"row_heading level0 row1\" >0</th>\n",
              "                        <td id=\"T_b9db565e_5d15_11ec_95e2_0242ac1c0002row1_col0\" class=\"data row1 col0\" >no</td>\n",
              "                        <td id=\"T_b9db565e_5d15_11ec_95e2_0242ac1c0002row1_col1\" class=\"data row1 col1\" >8434.268298</td>\n",
              "            </tr>\n",
              "    </tbody></table>"
            ],
            "text/plain": [
              "<pandas.io.formats.style.Styler at 0x7f9e244e1bd0>"
            ]
          },
          "metadata": {},
          "execution_count": 224
        }
      ]
    },
    {
      "cell_type": "markdown",
      "metadata": {
        "id": "hlaCwhqN1G9V"
      },
      "source": [
        "We see that smokers have more medical expenses than non-smokers.\n",
        "\n",
        "The difference is great, it can have a lot of influence on the model. We can use this by examining it better in the model part."
      ]
    },
    {
      "cell_type": "markdown",
      "metadata": {
        "id": "vFgVYmYJ1SBM"
      },
      "source": [
        "**Effects of attribute Region on dependent varriable Charges**"
      ]
    },
    {
      "cell_type": "code",
      "metadata": {
        "colab": {
          "base_uri": "https://localhost:8080/",
          "height": 174
        },
        "id": "zRruz5iN1aHf",
        "outputId": "8894fe23-06f2-48eb-ec3a-1e1270c5142c"
      },
      "source": [
        "dataset[[\"region\",\"charges\"]].groupby([\"region\"], as_index = False).mean().sort_values(by = \"charges\",ascending = False).style.background_gradient(\"Blues\")"
      ],
      "execution_count": 225,
      "outputs": [
        {
          "output_type": "execute_result",
          "data": {
            "text/html": [
              "<style  type=\"text/css\" >\n",
              "#T_b9deda5e_5d15_11ec_95e2_0242ac1c0002row0_col1{\n",
              "            background-color:  #08306b;\n",
              "            color:  #f1f1f1;\n",
              "        }#T_b9deda5e_5d15_11ec_95e2_0242ac1c0002row1_col1{\n",
              "            background-color:  #82bbdb;\n",
              "            color:  #000000;\n",
              "        }#T_b9deda5e_5d15_11ec_95e2_0242ac1c0002row2_col1{\n",
              "            background-color:  #f2f7fd;\n",
              "            color:  #000000;\n",
              "        }#T_b9deda5e_5d15_11ec_95e2_0242ac1c0002row3_col1{\n",
              "            background-color:  #f7fbff;\n",
              "            color:  #000000;\n",
              "        }</style><table id=\"T_b9deda5e_5d15_11ec_95e2_0242ac1c0002\" class=\"dataframe\"><thead>    <tr>        <th class=\"blank level0\" ></th>        <th class=\"col_heading level0 col0\" >region</th>        <th class=\"col_heading level0 col1\" >charges</th>    </tr></thead><tbody>\n",
              "                <tr>\n",
              "                        <th id=\"T_b9deda5e_5d15_11ec_95e2_0242ac1c0002level0_row0\" class=\"row_heading level0 row0\" >2</th>\n",
              "                        <td id=\"T_b9deda5e_5d15_11ec_95e2_0242ac1c0002row0_col0\" class=\"data row0 col0\" >southeast</td>\n",
              "                        <td id=\"T_b9deda5e_5d15_11ec_95e2_0242ac1c0002row0_col1\" class=\"data row0 col1\" >14735.411438</td>\n",
              "            </tr>\n",
              "            <tr>\n",
              "                        <th id=\"T_b9deda5e_5d15_11ec_95e2_0242ac1c0002level0_row1\" class=\"row_heading level0 row1\" >0</th>\n",
              "                        <td id=\"T_b9deda5e_5d15_11ec_95e2_0242ac1c0002row1_col0\" class=\"data row1 col0\" >northeast</td>\n",
              "                        <td id=\"T_b9deda5e_5d15_11ec_95e2_0242ac1c0002row1_col1\" class=\"data row1 col1\" >13406.384516</td>\n",
              "            </tr>\n",
              "            <tr>\n",
              "                        <th id=\"T_b9deda5e_5d15_11ec_95e2_0242ac1c0002level0_row2\" class=\"row_heading level0 row2\" >1</th>\n",
              "                        <td id=\"T_b9deda5e_5d15_11ec_95e2_0242ac1c0002row2_col0\" class=\"data row2 col0\" >northwest</td>\n",
              "                        <td id=\"T_b9deda5e_5d15_11ec_95e2_0242ac1c0002row2_col1\" class=\"data row2 col1\" >12417.575374</td>\n",
              "            </tr>\n",
              "            <tr>\n",
              "                        <th id=\"T_b9deda5e_5d15_11ec_95e2_0242ac1c0002level0_row3\" class=\"row_heading level0 row3\" >3</th>\n",
              "                        <td id=\"T_b9deda5e_5d15_11ec_95e2_0242ac1c0002row3_col0\" class=\"data row3 col0\" >southwest</td>\n",
              "                        <td id=\"T_b9deda5e_5d15_11ec_95e2_0242ac1c0002row3_col1\" class=\"data row3 col1\" >12346.937377</td>\n",
              "            </tr>\n",
              "    </tbody></table>"
            ],
            "text/plain": [
              "<pandas.io.formats.style.Styler at 0x7f9e34b6ced0>"
            ]
          },
          "metadata": {},
          "execution_count": 225
        }
      ]
    },
    {
      "cell_type": "markdown",
      "metadata": {
        "id": "VKWCNZmE1sJ0"
      },
      "source": [
        "We see that people belong to southeast have highest medical expenses followed by northeast people"
      ]
    },
    {
      "cell_type": "markdown",
      "metadata": {
        "id": "EN_BLZgW173k"
      },
      "source": [
        "**Effects of attribute Region on other features**"
      ]
    },
    {
      "cell_type": "code",
      "metadata": {
        "colab": {
          "base_uri": "https://localhost:8080/",
          "height": 302
        },
        "id": "T5fSv-4R2MHj",
        "outputId": "4f5a0b68-4a9a-442b-fe75-c08a27bb97ad"
      },
      "source": [
        "region = dataset.groupby(\"region\", as_index=False)[\"age\",\"bmi\",\"children\",\"charges\"].mean().sort_values(\"age\",ascending=False).style.background_gradient(\"Blues\")\n",
        "print(\"Average value of other properties by region \\n\")\n",
        "region"
      ],
      "execution_count": 226,
      "outputs": [
        {
          "output_type": "stream",
          "name": "stdout",
          "text": [
            "Average value of other properties by region \n",
            "\n"
          ]
        },
        {
          "output_type": "stream",
          "name": "stderr",
          "text": [
            "/usr/local/lib/python3.7/dist-packages/ipykernel_launcher.py:1: FutureWarning:\n",
            "\n",
            "Indexing with multiple keys (implicitly converted to a tuple of keys) will be deprecated, use a list instead.\n",
            "\n"
          ]
        },
        {
          "output_type": "execute_result",
          "data": {
            "text/html": [
              "<style  type=\"text/css\" >\n",
              "#T_b9e43d50_5d15_11ec_95e2_0242ac1c0002row0_col1,#T_b9e43d50_5d15_11ec_95e2_0242ac1c0002row2_col3,#T_b9e43d50_5d15_11ec_95e2_0242ac1c0002row3_col2,#T_b9e43d50_5d15_11ec_95e2_0242ac1c0002row3_col4{\n",
              "            background-color:  #08306b;\n",
              "            color:  #f1f1f1;\n",
              "        }#T_b9e43d50_5d15_11ec_95e2_0242ac1c0002row0_col2{\n",
              "            background-color:  #a9cfe5;\n",
              "            color:  #000000;\n",
              "        }#T_b9e43d50_5d15_11ec_95e2_0242ac1c0002row0_col3{\n",
              "            background-color:  #084082;\n",
              "            color:  #f1f1f1;\n",
              "        }#T_b9e43d50_5d15_11ec_95e2_0242ac1c0002row0_col4,#T_b9e43d50_5d15_11ec_95e2_0242ac1c0002row1_col2,#T_b9e43d50_5d15_11ec_95e2_0242ac1c0002row1_col3,#T_b9e43d50_5d15_11ec_95e2_0242ac1c0002row3_col1{\n",
              "            background-color:  #f7fbff;\n",
              "            color:  #000000;\n",
              "        }#T_b9e43d50_5d15_11ec_95e2_0242ac1c0002row1_col1{\n",
              "            background-color:  #3e8ec4;\n",
              "            color:  #000000;\n",
              "        }#T_b9e43d50_5d15_11ec_95e2_0242ac1c0002row1_col4{\n",
              "            background-color:  #82bbdb;\n",
              "            color:  #000000;\n",
              "        }#T_b9e43d50_5d15_11ec_95e2_0242ac1c0002row2_col1{\n",
              "            background-color:  #6caed6;\n",
              "            color:  #000000;\n",
              "        }#T_b9e43d50_5d15_11ec_95e2_0242ac1c0002row2_col2{\n",
              "            background-color:  #f6faff;\n",
              "            color:  #000000;\n",
              "        }#T_b9e43d50_5d15_11ec_95e2_0242ac1c0002row2_col4,#T_b9e43d50_5d15_11ec_95e2_0242ac1c0002row3_col3{\n",
              "            background-color:  #f2f7fd;\n",
              "            color:  #000000;\n",
              "        }</style><table id=\"T_b9e43d50_5d15_11ec_95e2_0242ac1c0002\" class=\"dataframe\"><thead>    <tr>        <th class=\"blank level0\" ></th>        <th class=\"col_heading level0 col0\" >region</th>        <th class=\"col_heading level0 col1\" >age</th>        <th class=\"col_heading level0 col2\" >bmi</th>        <th class=\"col_heading level0 col3\" >children</th>        <th class=\"col_heading level0 col4\" >charges</th>    </tr></thead><tbody>\n",
              "                <tr>\n",
              "                        <th id=\"T_b9e43d50_5d15_11ec_95e2_0242ac1c0002level0_row0\" class=\"row_heading level0 row0\" >3</th>\n",
              "                        <td id=\"T_b9e43d50_5d15_11ec_95e2_0242ac1c0002row0_col0\" class=\"data row0 col0\" >southwest</td>\n",
              "                        <td id=\"T_b9e43d50_5d15_11ec_95e2_0242ac1c0002row0_col1\" class=\"data row0 col1\" >39.455385</td>\n",
              "                        <td id=\"T_b9e43d50_5d15_11ec_95e2_0242ac1c0002row0_col2\" class=\"data row0 col2\" >30.596615</td>\n",
              "                        <td id=\"T_b9e43d50_5d15_11ec_95e2_0242ac1c0002row0_col3\" class=\"data row0 col3\" >1.141538</td>\n",
              "                        <td id=\"T_b9e43d50_5d15_11ec_95e2_0242ac1c0002row0_col4\" class=\"data row0 col4\" >12346.937377</td>\n",
              "            </tr>\n",
              "            <tr>\n",
              "                        <th id=\"T_b9e43d50_5d15_11ec_95e2_0242ac1c0002level0_row1\" class=\"row_heading level0 row1\" >0</th>\n",
              "                        <td id=\"T_b9e43d50_5d15_11ec_95e2_0242ac1c0002row1_col0\" class=\"data row1 col0\" >northeast</td>\n",
              "                        <td id=\"T_b9e43d50_5d15_11ec_95e2_0242ac1c0002row1_col1\" class=\"data row1 col1\" >39.268519</td>\n",
              "                        <td id=\"T_b9e43d50_5d15_11ec_95e2_0242ac1c0002row1_col2\" class=\"data row1 col2\" >29.173503</td>\n",
              "                        <td id=\"T_b9e43d50_5d15_11ec_95e2_0242ac1c0002row1_col3\" class=\"data row1 col3\" >1.046296</td>\n",
              "                        <td id=\"T_b9e43d50_5d15_11ec_95e2_0242ac1c0002row1_col4\" class=\"data row1 col4\" >13406.384516</td>\n",
              "            </tr>\n",
              "            <tr>\n",
              "                        <th id=\"T_b9e43d50_5d15_11ec_95e2_0242ac1c0002level0_row2\" class=\"row_heading level0 row2\" >1</th>\n",
              "                        <td id=\"T_b9e43d50_5d15_11ec_95e2_0242ac1c0002row2_col0\" class=\"data row2 col0\" >northwest</td>\n",
              "                        <td id=\"T_b9e43d50_5d15_11ec_95e2_0242ac1c0002row2_col1\" class=\"data row2 col1\" >39.196923</td>\n",
              "                        <td id=\"T_b9e43d50_5d15_11ec_95e2_0242ac1c0002row2_col2\" class=\"data row2 col2\" >29.199785</td>\n",
              "                        <td id=\"T_b9e43d50_5d15_11ec_95e2_0242ac1c0002row2_col3\" class=\"data row2 col3\" >1.147692</td>\n",
              "                        <td id=\"T_b9e43d50_5d15_11ec_95e2_0242ac1c0002row2_col4\" class=\"data row2 col4\" >12417.575374</td>\n",
              "            </tr>\n",
              "            <tr>\n",
              "                        <th id=\"T_b9e43d50_5d15_11ec_95e2_0242ac1c0002level0_row3\" class=\"row_heading level0 row3\" >2</th>\n",
              "                        <td id=\"T_b9e43d50_5d15_11ec_95e2_0242ac1c0002row3_col0\" class=\"data row3 col0\" >southeast</td>\n",
              "                        <td id=\"T_b9e43d50_5d15_11ec_95e2_0242ac1c0002row3_col1\" class=\"data row3 col1\" >38.939560</td>\n",
              "                        <td id=\"T_b9e43d50_5d15_11ec_95e2_0242ac1c0002row3_col2\" class=\"data row3 col2\" >33.355989</td>\n",
              "                        <td id=\"T_b9e43d50_5d15_11ec_95e2_0242ac1c0002row3_col3\" class=\"data row3 col3\" >1.049451</td>\n",
              "                        <td id=\"T_b9e43d50_5d15_11ec_95e2_0242ac1c0002row3_col4\" class=\"data row3 col4\" >14735.411438</td>\n",
              "            </tr>\n",
              "    </tbody></table>"
            ],
            "text/plain": [
              "<pandas.io.formats.style.Styler at 0x7f9e2483e690>"
            ]
          },
          "metadata": {},
          "execution_count": 226
        }
      ]
    },
    {
      "cell_type": "markdown",
      "metadata": {
        "id": "-v5V6QQN53sp"
      },
      "source": [
        "**Effects of attribute sex on other features**"
      ]
    },
    {
      "cell_type": "code",
      "metadata": {
        "colab": {
          "base_uri": "https://localhost:8080/",
          "height": 240
        },
        "id": "WIMT_93N3u8F",
        "outputId": "cc5f19a7-c01a-4872-e5f2-3ff2abd7f533"
      },
      "source": [
        "sex = dataset.groupby(\"sex\", as_index=False)[\"age\",\"bmi\",\"children\",\"charges\"].mean().sort_values(\"age\",ascending=False).style.background_gradient(\"Blues\")\n",
        "print(\"Average value of other properties by sex \\n\")\n",
        "sex"
      ],
      "execution_count": 227,
      "outputs": [
        {
          "output_type": "stream",
          "name": "stdout",
          "text": [
            "Average value of other properties by sex \n",
            "\n"
          ]
        },
        {
          "output_type": "stream",
          "name": "stderr",
          "text": [
            "/usr/local/lib/python3.7/dist-packages/ipykernel_launcher.py:1: FutureWarning:\n",
            "\n",
            "Indexing with multiple keys (implicitly converted to a tuple of keys) will be deprecated, use a list instead.\n",
            "\n"
          ]
        },
        {
          "output_type": "execute_result",
          "data": {
            "text/html": [
              "<style  type=\"text/css\" >\n",
              "#T_b9e97e14_5d15_11ec_95e2_0242ac1c0002row0_col1,#T_b9e97e14_5d15_11ec_95e2_0242ac1c0002row1_col2,#T_b9e97e14_5d15_11ec_95e2_0242ac1c0002row1_col3,#T_b9e97e14_5d15_11ec_95e2_0242ac1c0002row1_col4{\n",
              "            background-color:  #08306b;\n",
              "            color:  #f1f1f1;\n",
              "        }#T_b9e97e14_5d15_11ec_95e2_0242ac1c0002row0_col2,#T_b9e97e14_5d15_11ec_95e2_0242ac1c0002row0_col3,#T_b9e97e14_5d15_11ec_95e2_0242ac1c0002row0_col4,#T_b9e97e14_5d15_11ec_95e2_0242ac1c0002row1_col1{\n",
              "            background-color:  #f7fbff;\n",
              "            color:  #000000;\n",
              "        }</style><table id=\"T_b9e97e14_5d15_11ec_95e2_0242ac1c0002\" class=\"dataframe\"><thead>    <tr>        <th class=\"blank level0\" ></th>        <th class=\"col_heading level0 col0\" >sex</th>        <th class=\"col_heading level0 col1\" >age</th>        <th class=\"col_heading level0 col2\" >bmi</th>        <th class=\"col_heading level0 col3\" >children</th>        <th class=\"col_heading level0 col4\" >charges</th>    </tr></thead><tbody>\n",
              "                <tr>\n",
              "                        <th id=\"T_b9e97e14_5d15_11ec_95e2_0242ac1c0002level0_row0\" class=\"row_heading level0 row0\" >0</th>\n",
              "                        <td id=\"T_b9e97e14_5d15_11ec_95e2_0242ac1c0002row0_col0\" class=\"data row0 col0\" >female</td>\n",
              "                        <td id=\"T_b9e97e14_5d15_11ec_95e2_0242ac1c0002row0_col1\" class=\"data row0 col1\" >39.503021</td>\n",
              "                        <td id=\"T_b9e97e14_5d15_11ec_95e2_0242ac1c0002row0_col2\" class=\"data row0 col2\" >30.377749</td>\n",
              "                        <td id=\"T_b9e97e14_5d15_11ec_95e2_0242ac1c0002row0_col3\" class=\"data row0 col3\" >1.074018</td>\n",
              "                        <td id=\"T_b9e97e14_5d15_11ec_95e2_0242ac1c0002row0_col4\" class=\"data row0 col4\" >12569.578844</td>\n",
              "            </tr>\n",
              "            <tr>\n",
              "                        <th id=\"T_b9e97e14_5d15_11ec_95e2_0242ac1c0002level0_row1\" class=\"row_heading level0 row1\" >1</th>\n",
              "                        <td id=\"T_b9e97e14_5d15_11ec_95e2_0242ac1c0002row1_col0\" class=\"data row1 col0\" >male</td>\n",
              "                        <td id=\"T_b9e97e14_5d15_11ec_95e2_0242ac1c0002row1_col1\" class=\"data row1 col1\" >38.917160</td>\n",
              "                        <td id=\"T_b9e97e14_5d15_11ec_95e2_0242ac1c0002row1_col2\" class=\"data row1 col2\" >30.943129</td>\n",
              "                        <td id=\"T_b9e97e14_5d15_11ec_95e2_0242ac1c0002row1_col3\" class=\"data row1 col3\" >1.115385</td>\n",
              "                        <td id=\"T_b9e97e14_5d15_11ec_95e2_0242ac1c0002row1_col4\" class=\"data row1 col4\" >13956.751178</td>\n",
              "            </tr>\n",
              "    </tbody></table>"
            ],
            "text/plain": [
              "<pandas.io.formats.style.Styler at 0x7f9e24726610>"
            ]
          },
          "metadata": {},
          "execution_count": 227
        }
      ]
    },
    {
      "cell_type": "markdown",
      "metadata": {
        "id": "gS0bxjZb9fCb"
      },
      "source": [
        "**Effects of attribute smoker on other features**"
      ]
    },
    {
      "cell_type": "code",
      "metadata": {
        "colab": {
          "base_uri": "https://localhost:8080/",
          "height": 240
        },
        "id": "GA1C7cqF9Y8H",
        "outputId": "16c39ebc-66b2-480a-8300-c82253309e8c"
      },
      "source": [
        "smoker = dataset.groupby(\"smoker\", as_index=False)[\"age\",\"bmi\",\"children\",\"charges\"].mean().sort_values(\"age\",ascending=False).style.background_gradient(\"Blues\")\n",
        "print(\"Average value of other properties by smoker \\n\")\n",
        "smoker"
      ],
      "execution_count": 228,
      "outputs": [
        {
          "output_type": "stream",
          "name": "stdout",
          "text": [
            "Average value of other properties by smoker \n",
            "\n"
          ]
        },
        {
          "output_type": "stream",
          "name": "stderr",
          "text": [
            "/usr/local/lib/python3.7/dist-packages/ipykernel_launcher.py:1: FutureWarning:\n",
            "\n",
            "Indexing with multiple keys (implicitly converted to a tuple of keys) will be deprecated, use a list instead.\n",
            "\n"
          ]
        },
        {
          "output_type": "execute_result",
          "data": {
            "text/html": [
              "<style  type=\"text/css\" >\n",
              "#T_b9ef55a0_5d15_11ec_95e2_0242ac1c0002row0_col1,#T_b9ef55a0_5d15_11ec_95e2_0242ac1c0002row1_col2,#T_b9ef55a0_5d15_11ec_95e2_0242ac1c0002row1_col3,#T_b9ef55a0_5d15_11ec_95e2_0242ac1c0002row1_col4{\n",
              "            background-color:  #08306b;\n",
              "            color:  #f1f1f1;\n",
              "        }#T_b9ef55a0_5d15_11ec_95e2_0242ac1c0002row0_col2,#T_b9ef55a0_5d15_11ec_95e2_0242ac1c0002row0_col3,#T_b9ef55a0_5d15_11ec_95e2_0242ac1c0002row0_col4,#T_b9ef55a0_5d15_11ec_95e2_0242ac1c0002row1_col1{\n",
              "            background-color:  #f7fbff;\n",
              "            color:  #000000;\n",
              "        }</style><table id=\"T_b9ef55a0_5d15_11ec_95e2_0242ac1c0002\" class=\"dataframe\"><thead>    <tr>        <th class=\"blank level0\" ></th>        <th class=\"col_heading level0 col0\" >smoker</th>        <th class=\"col_heading level0 col1\" >age</th>        <th class=\"col_heading level0 col2\" >bmi</th>        <th class=\"col_heading level0 col3\" >children</th>        <th class=\"col_heading level0 col4\" >charges</th>    </tr></thead><tbody>\n",
              "                <tr>\n",
              "                        <th id=\"T_b9ef55a0_5d15_11ec_95e2_0242ac1c0002level0_row0\" class=\"row_heading level0 row0\" >0</th>\n",
              "                        <td id=\"T_b9ef55a0_5d15_11ec_95e2_0242ac1c0002row0_col0\" class=\"data row0 col0\" >no</td>\n",
              "                        <td id=\"T_b9ef55a0_5d15_11ec_95e2_0242ac1c0002row0_col1\" class=\"data row0 col1\" >39.385338</td>\n",
              "                        <td id=\"T_b9ef55a0_5d15_11ec_95e2_0242ac1c0002row0_col2\" class=\"data row0 col2\" >30.651795</td>\n",
              "                        <td id=\"T_b9ef55a0_5d15_11ec_95e2_0242ac1c0002row0_col3\" class=\"data row0 col3\" >1.090226</td>\n",
              "                        <td id=\"T_b9ef55a0_5d15_11ec_95e2_0242ac1c0002row0_col4\" class=\"data row0 col4\" >8434.268298</td>\n",
              "            </tr>\n",
              "            <tr>\n",
              "                        <th id=\"T_b9ef55a0_5d15_11ec_95e2_0242ac1c0002level0_row1\" class=\"row_heading level0 row1\" >1</th>\n",
              "                        <td id=\"T_b9ef55a0_5d15_11ec_95e2_0242ac1c0002row1_col0\" class=\"data row1 col0\" >yes</td>\n",
              "                        <td id=\"T_b9ef55a0_5d15_11ec_95e2_0242ac1c0002row1_col1\" class=\"data row1 col1\" >38.514599</td>\n",
              "                        <td id=\"T_b9ef55a0_5d15_11ec_95e2_0242ac1c0002row1_col2\" class=\"data row1 col2\" >30.708449</td>\n",
              "                        <td id=\"T_b9ef55a0_5d15_11ec_95e2_0242ac1c0002row1_col3\" class=\"data row1 col3\" >1.113139</td>\n",
              "                        <td id=\"T_b9ef55a0_5d15_11ec_95e2_0242ac1c0002row1_col4\" class=\"data row1 col4\" >32050.231832</td>\n",
              "            </tr>\n",
              "    </tbody></table>"
            ],
            "text/plain": [
              "<pandas.io.formats.style.Styler at 0x7f9e317b37d0>"
            ]
          },
          "metadata": {},
          "execution_count": 228
        }
      ]
    },
    {
      "cell_type": "markdown",
      "metadata": {
        "id": "eDc6fVHn-Slm"
      },
      "source": [
        "**Effects of attribute children on other features**"
      ]
    },
    {
      "cell_type": "code",
      "metadata": {
        "colab": {
          "base_uri": "https://localhost:8080/",
          "height": 365
        },
        "id": "AWzPDBlB92Eh",
        "outputId": "f244e714-02ba-4263-cc89-877fd35252f1"
      },
      "source": [
        "children = dataset.groupby(\"children\", as_index=False)[\"age\",\"bmi\",\"charges\"].mean().sort_values(\"age\",ascending=False).style.background_gradient(\"Blues\")\n",
        "print(\"Average value of other properties by children \\n\")\n",
        "children"
      ],
      "execution_count": 229,
      "outputs": [
        {
          "output_type": "stream",
          "name": "stdout",
          "text": [
            "Average value of other properties by children \n",
            "\n"
          ]
        },
        {
          "output_type": "stream",
          "name": "stderr",
          "text": [
            "/usr/local/lib/python3.7/dist-packages/ipykernel_launcher.py:1: FutureWarning:\n",
            "\n",
            "Indexing with multiple keys (implicitly converted to a tuple of keys) will be deprecated, use a list instead.\n",
            "\n"
          ]
        },
        {
          "output_type": "execute_result",
          "data": {
            "text/html": [
              "<style  type=\"text/css\" >\n",
              "#T_b9f53088_5d15_11ec_95e2_0242ac1c0002row0_col0,#T_b9f53088_5d15_11ec_95e2_0242ac1c0002row1_col3{\n",
              "            background-color:  #4a98c9;\n",
              "            color:  #000000;\n",
              "        }#T_b9f53088_5d15_11ec_95e2_0242ac1c0002row0_col1,#T_b9f53088_5d15_11ec_95e2_0242ac1c0002row0_col3,#T_b9f53088_5d15_11ec_95e2_0242ac1c0002row3_col2,#T_b9f53088_5d15_11ec_95e2_0242ac1c0002row5_col0{\n",
              "            background-color:  #08306b;\n",
              "            color:  #f1f1f1;\n",
              "        }#T_b9f53088_5d15_11ec_95e2_0242ac1c0002row0_col2{\n",
              "            background-color:  #4997c9;\n",
              "            color:  #000000;\n",
              "        }#T_b9f53088_5d15_11ec_95e2_0242ac1c0002row1_col0{\n",
              "            background-color:  #d0e1f2;\n",
              "            color:  #000000;\n",
              "        }#T_b9f53088_5d15_11ec_95e2_0242ac1c0002row1_col1{\n",
              "            background-color:  #3c8cc3;\n",
              "            color:  #000000;\n",
              "        }#T_b9f53088_5d15_11ec_95e2_0242ac1c0002row1_col2,#T_b9f53088_5d15_11ec_95e2_0242ac1c0002row3_col1{\n",
              "            background-color:  #549fcd;\n",
              "            color:  #000000;\n",
              "        }#T_b9f53088_5d15_11ec_95e2_0242ac1c0002row2_col0{\n",
              "            background-color:  #94c4df;\n",
              "            color:  #000000;\n",
              "        }#T_b9f53088_5d15_11ec_95e2_0242ac1c0002row2_col1{\n",
              "            background-color:  #3d8dc4;\n",
              "            color:  #000000;\n",
              "        }#T_b9f53088_5d15_11ec_95e2_0242ac1c0002row2_col2{\n",
              "            background-color:  #1d6cb1;\n",
              "            color:  #f1f1f1;\n",
              "        }#T_b9f53088_5d15_11ec_95e2_0242ac1c0002row2_col3{\n",
              "            background-color:  #083a7a;\n",
              "            color:  #f1f1f1;\n",
              "        }#T_b9f53088_5d15_11ec_95e2_0242ac1c0002row3_col0{\n",
              "            background-color:  #1764ab;\n",
              "            color:  #f1f1f1;\n",
              "        }#T_b9f53088_5d15_11ec_95e2_0242ac1c0002row3_col3{\n",
              "            background-color:  #1c6bb0;\n",
              "            color:  #f1f1f1;\n",
              "        }#T_b9f53088_5d15_11ec_95e2_0242ac1c0002row4_col0,#T_b9f53088_5d15_11ec_95e2_0242ac1c0002row5_col1,#T_b9f53088_5d15_11ec_95e2_0242ac1c0002row5_col2,#T_b9f53088_5d15_11ec_95e2_0242ac1c0002row5_col3{\n",
              "            background-color:  #f7fbff;\n",
              "            color:  #000000;\n",
              "        }#T_b9f53088_5d15_11ec_95e2_0242ac1c0002row4_col1{\n",
              "            background-color:  #75b4d8;\n",
              "            color:  #000000;\n",
              "        }#T_b9f53088_5d15_11ec_95e2_0242ac1c0002row4_col2{\n",
              "            background-color:  #61a7d2;\n",
              "            color:  #000000;\n",
              "        }#T_b9f53088_5d15_11ec_95e2_0242ac1c0002row4_col3{\n",
              "            background-color:  #5ca4d0;\n",
              "            color:  #000000;\n",
              "        }</style><table id=\"T_b9f53088_5d15_11ec_95e2_0242ac1c0002\" class=\"dataframe\"><thead>    <tr>        <th class=\"blank level0\" ></th>        <th class=\"col_heading level0 col0\" >children</th>        <th class=\"col_heading level0 col1\" >age</th>        <th class=\"col_heading level0 col2\" >bmi</th>        <th class=\"col_heading level0 col3\" >charges</th>    </tr></thead><tbody>\n",
              "                <tr>\n",
              "                        <th id=\"T_b9f53088_5d15_11ec_95e2_0242ac1c0002level0_row0\" class=\"row_heading level0 row0\" >3</th>\n",
              "                        <td id=\"T_b9f53088_5d15_11ec_95e2_0242ac1c0002row0_col0\" class=\"data row0 col0\" >3</td>\n",
              "                        <td id=\"T_b9f53088_5d15_11ec_95e2_0242ac1c0002row0_col1\" class=\"data row0 col1\" >41.566879</td>\n",
              "                        <td id=\"T_b9f53088_5d15_11ec_95e2_0242ac1c0002row0_col2\" class=\"data row0 col2\" >30.684331</td>\n",
              "                        <td id=\"T_b9f53088_5d15_11ec_95e2_0242ac1c0002row0_col3\" class=\"data row0 col3\" >15355.318367</td>\n",
              "            </tr>\n",
              "            <tr>\n",
              "                        <th id=\"T_b9f53088_5d15_11ec_95e2_0242ac1c0002level0_row1\" class=\"row_heading level0 row1\" >1</th>\n",
              "                        <td id=\"T_b9f53088_5d15_11ec_95e2_0242ac1c0002row1_col0\" class=\"data row1 col0\" >1</td>\n",
              "                        <td id=\"T_b9f53088_5d15_11ec_95e2_0242ac1c0002row1_col1\" class=\"data row1 col1\" >39.453704</td>\n",
              "                        <td id=\"T_b9f53088_5d15_11ec_95e2_0242ac1c0002row1_col2\" class=\"data row1 col2\" >30.623148</td>\n",
              "                        <td id=\"T_b9f53088_5d15_11ec_95e2_0242ac1c0002row1_col3\" class=\"data row1 col3\" >12731.171832</td>\n",
              "            </tr>\n",
              "            <tr>\n",
              "                        <th id=\"T_b9f53088_5d15_11ec_95e2_0242ac1c0002level0_row2\" class=\"row_heading level0 row2\" >2</th>\n",
              "                        <td id=\"T_b9f53088_5d15_11ec_95e2_0242ac1c0002row2_col0\" class=\"data row2 col0\" >2</td>\n",
              "                        <td id=\"T_b9f53088_5d15_11ec_95e2_0242ac1c0002row2_col1\" class=\"data row2 col1\" >39.445833</td>\n",
              "                        <td id=\"T_b9f53088_5d15_11ec_95e2_0242ac1c0002row2_col2\" class=\"data row2 col2\" >30.978104</td>\n",
              "                        <td id=\"T_b9f53088_5d15_11ec_95e2_0242ac1c0002row2_col3\" class=\"data row2 col3\" >15073.563734</td>\n",
              "            </tr>\n",
              "            <tr>\n",
              "                        <th id=\"T_b9f53088_5d15_11ec_95e2_0242ac1c0002level0_row3\" class=\"row_heading level0 row3\" >4</th>\n",
              "                        <td id=\"T_b9f53088_5d15_11ec_95e2_0242ac1c0002row3_col0\" class=\"data row3 col0\" >4</td>\n",
              "                        <td id=\"T_b9f53088_5d15_11ec_95e2_0242ac1c0002row3_col1\" class=\"data row3 col1\" >39.000000</td>\n",
              "                        <td id=\"T_b9f53088_5d15_11ec_95e2_0242ac1c0002row3_col2\" class=\"data row3 col2\" >31.391200</td>\n",
              "                        <td id=\"T_b9f53088_5d15_11ec_95e2_0242ac1c0002row3_col3\" class=\"data row3 col3\" >13850.656311</td>\n",
              "            </tr>\n",
              "            <tr>\n",
              "                        <th id=\"T_b9f53088_5d15_11ec_95e2_0242ac1c0002level0_row4\" class=\"row_heading level0 row4\" >0</th>\n",
              "                        <td id=\"T_b9f53088_5d15_11ec_95e2_0242ac1c0002row4_col0\" class=\"data row4 col0\" >0</td>\n",
              "                        <td id=\"T_b9f53088_5d15_11ec_95e2_0242ac1c0002row4_col1\" class=\"data row4 col1\" >38.444251</td>\n",
              "                        <td id=\"T_b9f53088_5d15_11ec_95e2_0242ac1c0002row4_col2\" class=\"data row4 col2\" >30.550296</td>\n",
              "                        <td id=\"T_b9f53088_5d15_11ec_95e2_0242ac1c0002row4_col3\" class=\"data row4 col3\" >12365.975602</td>\n",
              "            </tr>\n",
              "            <tr>\n",
              "                        <th id=\"T_b9f53088_5d15_11ec_95e2_0242ac1c0002level0_row5\" class=\"row_heading level0 row5\" >5</th>\n",
              "                        <td id=\"T_b9f53088_5d15_11ec_95e2_0242ac1c0002row5_col0\" class=\"data row5 col0\" >5</td>\n",
              "                        <td id=\"T_b9f53088_5d15_11ec_95e2_0242ac1c0002row5_col1\" class=\"data row5 col1\" >35.611111</td>\n",
              "                        <td id=\"T_b9f53088_5d15_11ec_95e2_0242ac1c0002row5_col2\" class=\"data row5 col2\" >29.605000</td>\n",
              "                        <td id=\"T_b9f53088_5d15_11ec_95e2_0242ac1c0002row5_col3\" class=\"data row5 col3\" >8786.035247</td>\n",
              "            </tr>\n",
              "    </tbody></table>"
            ],
            "text/plain": [
              "<pandas.io.formats.style.Styler at 0x7f9e2460a610>"
            ]
          },
          "metadata": {},
          "execution_count": 229
        }
      ]
    },
    {
      "cell_type": "markdown",
      "metadata": {
        "id": "3u08IZ77FSAi"
      },
      "source": [
        "## **Plots**"
      ]
    },
    {
      "cell_type": "markdown",
      "metadata": {
        "id": "2ZFK3IGcFghW"
      },
      "source": [
        "**Correlation Plot**"
      ]
    },
    {
      "cell_type": "code",
      "metadata": {
        "colab": {
          "base_uri": "https://localhost:8080/",
          "height": 275
        },
        "id": "-9fFA1nPFTz6",
        "outputId": "13c6bdcb-a254-41c3-e7aa-5d0d04e0a2cc"
      },
      "source": [
        "corr = dataset.corr()\n",
        "sns.heatmap(corr, cmap = 'Wistia', annot= True);"
      ],
      "execution_count": 230,
      "outputs": [
        {
          "output_type": "display_data",
          "data": {
            "image/png": "[encoded data removed]",
            "text/plain": [
              "<Figure size 432x288 with 2 Axes>"
            ]
          },
          "metadata": {}
        }
      ]
    },
    {
      "cell_type": "markdown",
      "metadata": {
        "id": "BORO2MHMFq5u"
      },
      "source": [
        "This plots clearly shows that thier no correlation among valiables.\n",
        "\n"
      ]
    },
    {
      "cell_type": "markdown",
      "metadata": {
        "id": "lgQfWbW2F6VH"
      },
      "source": [
        "**Scatter Plot**"
      ]
    },
    {
      "cell_type": "code",
      "metadata": {
        "colab": {
          "base_uri": "https://localhost:8080/",
          "height": 542
        },
        "id": "zsKAFt9XEjsF",
        "outputId": "9eeafbb6-e742-4b7e-ff51-6a65fc7bd36d"
      },
      "source": [
        "import plotly.express as px\n",
        "fig = px.scatter_matrix(dataset, color = 'charges')\n",
        "fig.show()"
      ],
      "execution_count": 231,
      "outputs": [
        {
          "output_type": "display_data",
          "data": {
            "text/html": [
              "<html>\n",
              "<head><meta charset=\"utf-8\" /></head>\n",
              "<body>\n",
              "    <div>\n",
              "            <script src=\"https://cdnjs.cloudflare.com/ajax/libs/mathjax/2.7.5/MathJax.js?config=TeX-AMS-MML_SVG\"></script><script type=\"text/javascript\">if (window.MathJax) {MathJax.Hub.Config({SVG: {font: \"STIX-Web\"}});}</script>\n",
              "                <script type=\"text/javascript\">window.PlotlyConfig = {MathJaxConfig: 'local'};</script>\n",
              "        <script src=\"https://cdn.plot.ly/plotly-latest.min.js\"></script>    \n",
              "            <div id=\"e47adc89-5a0c-4afc-8ae7-d994d2fc405e\" class=\"plotly-graph-div\" style=\"height:525px; width:100%;\"></div>\n",
              "            <script type=\"text/javascript\">\n",
              "                \n",
              "                    window.PLOTLYENV=window.PLOTLYENV || {};\n",
              "                    \n",
              "                if (document.getElementById(\"e47adc89-5a0c-4afc-8ae7-d994d2fc405e\")) {\n",
              "                    Plotly.newPlot(\n",
              "                        'e47adc89-5a0c-4afc-8ae7-d994d2fc405e',\n",
              "                        [{\"dimensions\": [{\"axis\": {\"matches\": true}, \"label\": \"age\", \"values\": [19, 18, 28, 33, 32, 31, 46, 37, 37, 60, 25, 62, 23, 56, 27, 19, 52, 23, 56, 30, 60, 30, 18, 34, 37, 59, 63, 55, 23, 31, 22, 18, 19, 63, 28, 19, 62, 26, 35, 60, 24, 31, 41, 37, 38, 55, 18, 28, 60, 36, 18, 21, 48, 36, 40, 58, 58, 18, 53, 34, 43, 25, 64, 28, 20, 19, 61, 40, 40, 28, 27, 31, 53, 58, 44, 57, 29, 21, 22, 41, 31, 45, 22, 48, 37, 45, 57, 56, 46, 55, 21, 53, 59, 35, 64, 28, 54, 55, 56, 38, 41, 30, 18, 61, 34, 20, 19, 26, 29, 63, 54, 55, 37, 21, 52, 60, 58, 29, 49, 37, 44, 18, 20, 44, 47, 26, 19, 52, 32, 38, 59, 61, 53, 19, 20, 22, 19, 22, 54, 22, 34, 26, 34, 29, 30, 29, 46, 51, 53, 19, 35, 48, 32, 42, 40, 44, 48, 18, 30, 50, 42, 18, 54, 32, 37, 47, 20, 32, 19, 27, 63, 49, 18, 35, 24, 63, 38, 54, 46, 41, 58, 18, 22, 44, 44, 36, 26, 30, 41, 29, 61, 36, 25, 56, 18, 19, 39, 45, 51, 64, 19, 48, 60, 27, 46, 28, 59, 35, 63, 40, 20, 40, 24, 34, 45, 41, 53, 27, 26, 24, 34, 53, 32, 19, 42, 55, 28, 58, 41, 47, 42, 59, 19, 59, 39, 40, 18, 31, 19, 44, 23, 33, 55, 40, 63, 54, 60, 24, 19, 29, 18, 63, 54, 27, 50, 55, 56, 38, 51, 19, 58, 20, 52, 19, 53, 46, 40, 59, 45, 49, 18, 50, 41, 50, 25, 47, 19, 22, 59, 51, 40, 54, 30, 55, 52, 46, 46, 63, 59, 52, 28, 29, 25, 22, 25, 18, 19, 47, 31, 48, 36, 53, 56, 28, 57, 29, 28, 30, 58, 41, 50, 19, 43, 49, 27, 52, 50, 54, 44, 32, 34, 26, 34, 57, 29, 40, 27, 45, 64, 52, 61, 52, 61, 56, 43, 64, 60, 62, 50, 46, 24, 62, 60, 63, 49, 34, 33, 46, 36, 19, 57, 50, 30, 33, 18, 46, 46, 47, 23, 18, 48, 35, 19, 21, 21, 49, 56, 42, 44, 18, 61, 57, 42, 26, 20, 23, 39, 24, 64, 62, 27, 55, 55, 35, 44, 19, 58, 50, 26, 24, 48, 19, 48, 49, 46, 46, 43, 21, 64, 18, 51, 47, 64, 49, 31, 52, 33, 47, 38, 32, 19, 44, 26, 25, 19, 43, 52, 36, 64, 63, 64, 61, 40, 25, 48, 45, 38, 18, 21, 27, 19, 29, 42, 60, 31, 60, 22, 35, 52, 26, 31, 33, 18, 59, 56, 45, 60, 56, 40, 35, 39, 30, 24, 20, 32, 59, 55, 57, 56, 40, 49, 42, 62, 56, 19, 30, 60, 56, 28, 18, 27, 18, 19, 47, 54, 61, 24, 25, 21, 23, 63, 49, 18, 51, 48, 31, 54, 19, 44, 53, 19, 61, 18, 61, 21, 20, 31, 45, 44, 62, 29, 43, 51, 19, 38, 37, 22, 21, 24, 57, 56, 27, 51, 19, 39, 58, 20, 45, 35, 31, 50, 32, 51, 38, 42, 18, 19, 51, 46, 18, 57, 62, 59, 37, 64, 38, 33, 46, 46, 53, 34, 20, 63, 54, 54, 49, 28, 54, 25, 43, 63, 32, 62, 52, 25, 28, 46, 34, 35, 19, 46, 54, 27, 50, 18, 19, 38, 41, 49, 48, 31, 18, 30, 62, 57, 58, 22, 31, 52, 25, 59, 19, 39, 32, 19, 33, 21, 34, 61, 38, 58, 47, 20, 21, 41, 46, 42, 34, 43, 52, 18, 51, 56, 64, 19, 51, 27, 59, 28, 30, 47, 38, 18, 34, 20, 47, 56, 49, 19, 55, 30, 37, 49, 18, 59, 29, 36, 33, 58, 44, 53, 24, 29, 40, 51, 64, 19, 35, 39, 56, 33, 42, 61, 23, 43, 48, 39, 40, 18, 58, 49, 53, 48, 45, 59, 52, 26, 27, 48, 57, 37, 57, 32, 18, 64, 43, 49, 40, 62, 40, 30, 29, 36, 41, 44, 45, 55, 60, 56, 49, 21, 19, 39, 53, 33, 53, 42, 40, 47, 27, 21, 47, 20, 24, 27, 26, 53, 41, 56, 23, 21, 50, 53, 34, 47, 33, 51, 49, 31, 36, 18, 50, 43, 20, 24, 60, 49, 60, 51, 58, 51, 53, 62, 19, 50, 30, 41, 29, 18, 41, 35, 53, 24, 48, 59, 49, 37, 26, 23, 29, 45, 27, 53, 31, 50, 50, 34, 19, 47, 28, 37, 21, 64, 58, 24, 31, 39, 47, 30, 18, 22, 23, 33, 27, 45, 57, 47, 42, 64, 38, 61, 53, 44, 19, 41, 51, 40, 45, 35, 53, 30, 18, 51, 50, 31, 35, 60, 21, 29, 62, 39, 19, 22, 53, 39, 27, 30, 30, 58, 33, 42, 64, 21, 18, 23, 45, 40, 19, 18, 25, 46, 33, 54, 28, 36, 20, 24, 23, 47, 33, 45, 26, 18, 44, 60, 64, 56, 36, 41, 39, 63, 36, 28, 58, 36, 42, 36, 56, 35, 59, 21, 59, 23, 57, 53, 60, 51, 23, 27, 55, 37, 61, 46, 53, 49, 20, 48, 25, 25, 57, 37, 38, 55, 36, 51, 40, 18, 57, 61, 25, 50, 26, 42, 43, 44, 23, 49, 33, 41, 37, 22, 23, 21, 51, 25, 32, 57, 36, 22, 57, 64, 36, 54, 47, 62, 61, 43, 19, 18, 19, 49, 60, 26, 49, 60, 26, 27, 44, 63, 32, 22, 18, 59, 44, 33, 24, 43, 45, 61, 35, 62, 62, 38, 34, 43, 50, 19, 57, 62, 41, 26, 39, 46, 45, 32, 59, 44, 39, 18, 53, 18, 50, 18, 19, 62, 56, 42, 37, 42, 25, 57, 51, 30, 44, 34, 31, 54, 24, 43, 48, 19, 29, 63, 46, 52, 35, 51, 44, 21, 39, 50, 34, 22, 19, 26, 29, 48, 26, 45, 36, 54, 34, 31, 27, 20, 44, 43, 45, 34, 24, 26, 38, 50, 38, 27, 39, 39, 63, 33, 36, 30, 24, 24, 48, 47, 29, 28, 47, 25, 51, 48, 43, 61, 48, 38, 59, 19, 26, 54, 21, 51, 22, 47, 18, 47, 21, 19, 23, 54, 37, 46, 55, 30, 18, 61, 54, 22, 45, 22, 19, 35, 18, 20, 28, 55, 43, 43, 22, 25, 49, 44, 64, 49, 47, 27, 55, 48, 45, 24, 32, 24, 57, 59, 36, 29, 42, 48, 39, 63, 54, 37, 63, 21, 54, 60, 32, 47, 21, 28, 63, 18, 32, 38, 32, 62, 39, 55, 57, 52, 56, 47, 55, 23, 22, 50, 18, 51, 22, 52, 25, 33, 53, 29, 58, 37, 54, 49, 50, 26, 45, 54, 38, 48, 28, 23, 55, 41, 25, 33, 30, 23, 46, 53, 27, 23, 63, 55, 35, 34, 19, 39, 27, 57, 52, 28, 50, 44, 26, 33, 19, 50, 41, 52, 39, 50, 52, 60, 20, 55, 42, 18, 58, 43, 35, 48, 36, 19, 23, 20, 32, 43, 34, 30, 18, 41, 35, 57, 29, 32, 37, 18, 43, 56, 38, 29, 22, 52, 40, 23, 31, 42, 24, 25, 48, 23, 45, 20, 62, 43, 23, 31, 41, 58, 48, 31, 19, 19, 41, 40, 31, 37, 46, 22, 51, 18, 35, 59, 36, 37, 59, 36, 39, 18, 52, 27, 18, 40, 29, 46, 38, 30, 40, 50, 20, 41, 33, 38, 42, 56, 58, 52, 20, 54, 58, 45, 26, 63, 58, 37, 25, 52, 64, 22, 28, 18, 28, 45, 33, 18, 32, 24, 19, 20, 40, 34, 42, 51, 54, 55, 52, 32, 28, 41, 43, 49, 64, 55, 24, 20, 45, 26, 25, 43, 35, 26, 57, 22, 32, 39, 25, 48, 47, 18, 18, 61, 47, 28, 36, 20, 44, 38, 19, 21, 46, 58, 20, 18, 28, 33, 19, 45, 62, 25, 43, 42, 24, 29, 32, 25, 41, 42, 33, 34, 19, 30, 18, 19, 18, 35, 39, 31, 62, 62, 42, 31, 61, 42, 51, 23, 52, 57, 23, 52, 50, 18, 18, 21, 61]}, {\"axis\": {\"matches\": true}, \"label\": \"sex\", \"values\": [\"female\", \"male\", \"male\", \"male\", \"male\", \"female\", \"female\", \"female\", \"male\", \"female\", \"male\", \"female\", \"male\", \"female\", \"male\", \"male\", \"female\", \"male\", \"male\", \"male\", \"female\", \"female\", \"male\", \"female\", \"male\", \"female\", \"female\", \"female\", \"male\", \"male\", \"male\", \"female\", \"female\", \"male\", \"male\", \"male\", \"female\", \"male\", \"male\", \"male\", \"female\", \"female\", \"male\", \"female\", \"male\", \"male\", \"female\", \"female\", \"female\", \"male\", \"female\", \"female\", \"male\", \"male\", \"female\", \"male\", \"female\", \"male\", \"female\", \"female\", \"male\", \"male\", \"male\", \"female\", \"female\", \"female\", \"female\", \"male\", \"female\", \"male\", \"female\", \"male\", \"female\", \"male\", \"male\", \"male\", \"female\", \"male\", \"female\", \"female\", \"male\", \"female\", \"male\", \"female\", \"female\", \"male\", \"female\", \"female\", \"female\", \"female\", \"female\", \"female\", \"male\", \"male\", \"female\", \"female\", \"female\", \"male\", \"male\", \"male\", \"female\", \"male\", \"female\", \"female\", \"female\", \"male\", \"female\", \"male\", \"male\", \"male\", \"male\", \"female\", \"male\", \"female\", \"male\", \"male\", \"male\", \"female\", \"female\", \"female\", \"male\", \"male\", \"female\", \"male\", \"female\", \"female\", \"female\", \"female\", \"female\", \"male\", \"female\", \"female\", \"female\", \"male\", \"female\", \"female\", \"male\", \"male\", \"female\", \"female\", \"male\", \"male\", \"male\", \"male\", \"male\", \"female\", \"male\", \"female\", \"female\", \"male\", \"male\", \"male\", \"female\", \"female\", \"female\", \"male\", \"male\", \"male\", \"male\", \"female\", \"female\", \"female\", \"male\", \"female\", \"male\", \"male\", \"female\", \"female\", \"female\", \"male\", \"male\", \"male\", \"male\", \"female\", \"female\", \"female\", \"male\", \"male\", \"female\", \"female\", \"male\", \"female\", \"male\", \"female\", \"male\", \"male\", \"female\", \"female\", \"female\", \"female\", \"male\", \"female\", \"male\", \"female\", \"male\", \"male\", \"female\", \"female\", \"female\", \"female\", \"female\", \"female\", \"female\", \"female\", \"male\", \"female\", \"male\", \"male\", \"female\", \"male\", \"male\", \"male\", \"male\", \"female\", \"female\", \"female\", \"female\", \"male\", \"female\", \"female\", \"female\", \"female\", \"male\", \"male\", \"male\", \"male\", \"male\", \"female\", \"female\", \"male\", \"female\", \"female\", \"female\", \"male\", \"male\", \"female\", \"female\", \"male\", \"male\", \"male\", \"female\", \"female\", \"female\", \"male\", \"female\", \"male\", \"female\", \"male\", \"male\", \"male\", \"male\", \"female\", \"male\", \"male\", \"male\", \"female\", \"male\", \"female\", \"male\", \"male\", \"female\", \"female\", \"male\", \"male\", \"female\", \"male\", \"male\", \"female\", \"male\", \"male\", \"male\", \"male\", \"male\", \"male\", \"male\", \"female\", \"male\", \"female\", \"male\", \"female\", \"female\", \"male\", \"male\", \"female\", \"female\", \"male\", \"female\", \"female\", \"female\", \"male\", \"female\", \"male\", \"male\", \"female\", \"male\", \"male\", \"male\", \"male\", \"male\", \"female\", \"male\", \"female\", \"female\", \"female\", \"female\", \"male\", \"female\", \"female\", \"male\", \"female\", \"male\", \"female\", \"male\", \"male\", \"female\", \"male\", \"male\", \"male\", \"female\", \"male\", \"male\", \"female\", \"male\", \"male\", \"male\", \"male\", \"female\", \"male\", \"female\", \"male\", \"female\", \"male\", \"female\", \"female\", \"female\", \"male\", \"male\", \"male\", \"male\", \"female\", \"female\", \"male\", \"female\", \"male\", \"female\", \"female\", \"male\", \"male\", \"female\", \"male\", \"female\", \"female\", \"female\", \"male\", \"female\", \"male\", \"male\", \"male\", \"male\", \"female\", \"female\", \"male\", \"female\", \"female\", \"female\", \"female\", \"female\", \"female\", \"male\", \"male\", \"female\", \"female\", \"female\", \"male\", \"male\", \"female\", \"female\", \"male\", \"female\", \"male\", \"female\", \"male\", \"male\", \"female\", \"male\", \"male\", \"female\", \"male\", \"female\", \"female\", \"male\", \"female\", \"male\", \"male\", \"female\", \"male\", \"female\", \"male\", \"male\", \"female\", \"female\", \"male\", \"female\", \"male\", \"male\", \"female\", \"female\", \"female\", \"male\", \"male\", \"male\", \"female\", \"female\", \"male\", \"female\", \"female\", \"male\", \"female\", \"male\", \"female\", \"male\", \"male\", \"male\", \"male\", \"male\", \"male\", \"female\", \"female\", \"female\", \"female\", \"male\", \"female\", \"male\", \"female\", \"male\", \"male\", \"male\", \"male\", \"female\", \"male\", \"female\", \"female\", \"male\", \"female\", \"male\", \"female\", \"male\", \"female\", \"female\", \"male\", \"male\", \"male\", \"male\", \"male\", \"male\", \"male\", \"female\", \"female\", \"male\", \"female\", \"female\", \"male\", \"female\", \"male\", \"male\", \"female\", \"female\", \"female\", \"female\", \"female\", \"male\", \"female\", \"female\", \"female\", \"male\", \"male\", \"male\", \"male\", \"male\", \"male\", \"male\", \"male\", \"female\", \"female\", \"male\", \"female\", \"female\", \"male\", \"female\", \"male\", \"female\", \"female\", \"female\", \"male\", \"male\", \"male\", \"female\", \"male\", \"female\", \"female\", \"male\", \"male\", \"male\", \"male\", \"female\", \"male\", \"male\", \"male\", \"female\", \"female\", \"male\", \"male\", \"male\", \"male\", \"male\", \"male\", \"male\", \"male\", \"female\", \"male\", \"female\", \"female\", \"female\", \"female\", \"male\", \"female\", \"female\", \"female\", \"male\", \"male\", \"male\", \"female\", \"male\", \"male\", \"male\", \"male\", \"female\", \"female\", \"female\", \"male\", \"female\", \"female\", \"female\", \"female\", \"male\", \"male\", \"male\", \"female\", \"female\", \"female\", \"male\", \"female\", \"male\", \"female\", \"female\", \"male\", \"male\", \"male\", \"female\", \"male\", \"female\", \"female\", \"male\", \"male\", \"female\", \"female\", \"female\", \"male\", \"female\", \"male\", \"female\", \"female\", \"female\", \"female\", \"female\", \"female\", \"male\", \"female\", \"male\", \"female\", \"male\", \"male\", \"male\", \"female\", \"male\", \"female\", \"male\", \"female\", \"female\", \"female\", \"female\", \"male\", \"male\", \"female\", \"male\", \"female\", \"female\", \"female\", \"male\", \"female\", \"female\", \"male\", \"female\", \"female\", \"female\", \"female\", \"female\", \"female\", \"male\", \"male\", \"female\", \"female\", \"female\", \"female\", \"female\", \"female\", \"female\", \"male\", \"female\", \"female\", \"male\", \"male\", \"female\", \"male\", \"male\", \"female\", \"male\", \"male\", \"male\", \"female\", \"male\", \"male\", \"female\", \"male\", \"male\", \"male\", \"female\", \"female\", \"male\", \"male\", \"male\", \"male\", \"male\", \"female\", \"male\", \"male\", \"male\", \"female\", \"male\", \"female\", \"female\", \"female\", \"female\", \"female\", \"female\", \"female\", \"female\", \"male\", \"female\", \"female\", \"male\", \"female\", \"female\", \"male\", \"female\", \"male\", \"male\", \"female\", \"male\", \"female\", \"male\", \"female\", \"male\", \"female\", \"female\", \"male\", \"female\", \"male\", \"male\", \"female\", \"female\", \"male\", \"male\", \"male\", \"female\", \"male\", \"male\", \"male\", \"female\", \"male\", \"male\", \"male\", \"male\", \"male\", \"female\", \"female\", \"female\", \"male\", \"male\", \"female\", \"female\", \"female\", \"male\", \"female\", \"female\", \"female\", \"female\", \"male\", \"female\", \"female\", \"male\", \"female\", \"female\", \"male\", \"female\", \"male\", \"female\", \"male\", \"female\", \"female\", \"female\", \"male\", \"male\", \"male\", \"female\", \"female\", \"male\", \"female\", \"female\", \"female\", \"male\", \"male\", \"female\", \"female\", \"female\", \"female\", \"female\", \"male\", \"male\", \"male\", \"male\", \"male\", \"male\", \"female\", \"male\", \"female\", \"male\", \"male\", \"female\", \"male\", \"female\", \"male\", \"male\", \"female\", \"male\", \"male\", \"female\", \"female\", \"male\", \"male\", \"female\", \"male\", \"male\", \"male\", \"female\", \"female\", \"male\", \"female\", \"female\", \"female\", \"male\", \"female\", \"female\", \"female\", \"male\", \"male\", \"male\", \"male\", \"male\", \"male\", \"male\", \"male\", \"male\", \"female\", \"female\", \"female\", \"male\", \"male\", \"male\", \"female\", \"female\", \"male\", \"female\", \"male\", \"female\", \"male\", \"male\", \"female\", \"female\", \"male\", \"female\", \"female\", \"male\", \"female\", \"male\", \"female\", \"female\", \"female\", \"male\", \"male\", \"female\", \"female\", \"male\", \"male\", \"male\", \"female\", \"female\", \"male\", \"female\", \"female\", \"male\", \"male\", \"female\", \"female\", \"male\", \"female\", \"male\", \"male\", \"male\", \"male\", \"male\", \"female\", \"female\", \"male\", \"male\", \"male\", \"male\", \"female\", \"female\", \"female\", \"male\", \"male\", \"female\", \"female\", \"male\", \"female\", \"female\", \"male\", \"female\", \"male\", \"female\", \"male\", \"female\", \"female\", \"female\", \"female\", \"female\", \"male\", \"female\", \"male\", \"female\", \"female\", \"female\", \"female\", \"male\", \"male\", \"male\", \"male\", \"male\", \"female\", \"male\", \"female\", \"male\", \"male\", \"male\", \"female\", \"female\", \"male\", \"male\", \"female\", \"male\", \"male\", \"female\", \"female\", \"male\", \"male\", \"male\", \"female\", \"male\", \"male\", \"female\", \"female\", \"male\", \"male\", \"male\", \"female\", \"female\", \"male\", \"female\", \"female\", \"male\", \"male\", \"male\", \"male\", \"female\", \"female\", \"male\", \"female\", \"male\", \"female\", \"male\", \"male\", \"female\", \"female\", \"male\", \"female\", \"female\", \"male\", \"female\", \"female\", \"female\", \"female\", \"male\", \"male\", \"male\", \"male\", \"female\", \"female\", \"female\", \"male\", \"male\", \"female\", \"male\", \"female\", \"male\", \"female\", \"male\", \"female\", \"male\", \"male\", \"male\", \"female\", \"female\", \"male\", \"male\", \"female\", \"male\", \"male\", \"male\", \"male\", \"male\", \"male\", \"female\", \"male\", \"male\", \"male\", \"male\", \"male\", \"male\", \"male\", \"female\", \"female\", \"female\", \"male\", \"male\", \"male\", \"male\", \"male\", \"male\", \"female\", \"female\", \"female\", \"female\", \"female\", \"male\", \"male\", \"male\", \"male\", \"female\", \"female\", \"male\", \"male\", \"male\", \"female\", \"male\", \"female\", \"male\", \"female\", \"male\", \"female\", \"female\", \"female\", \"female\", \"male\", \"female\", \"female\", \"female\", \"female\", \"female\", \"female\", \"male\", \"male\", \"male\", \"male\", \"male\", \"male\", \"male\", \"male\", \"male\", \"male\", \"female\", \"male\", \"female\", \"male\", \"female\", \"male\", \"female\", \"female\", \"female\", \"female\", \"male\", \"female\", \"male\", \"male\", \"female\", \"female\", \"male\", \"male\", \"male\", \"female\", \"female\", \"female\", \"female\", \"male\", \"male\", \"female\", \"male\", \"female\", \"male\", \"male\", \"female\", \"male\", \"male\", \"female\", \"male\", \"female\", \"female\", \"male\", \"female\", \"male\", \"female\", \"male\", \"male\", \"male\", \"female\", \"male\", \"female\", \"female\", \"female\", \"male\", \"male\", \"male\", \"male\", \"male\", \"female\", \"female\", \"male\", \"male\", \"male\", \"female\", \"male\", \"male\", \"male\", \"female\", \"female\", \"female\", \"female\", \"male\", \"male\", \"male\", \"male\", \"male\", \"male\", \"male\", \"female\", \"female\", \"male\", \"male\", \"male\", \"male\", \"male\", \"female\", \"male\", \"female\", \"female\", \"female\", \"female\", \"male\", \"female\", \"female\", \"female\", \"male\", \"male\", \"male\", \"male\", \"female\", \"female\", \"female\", \"male\", \"male\", \"female\", \"male\", \"female\", \"female\", \"male\", \"male\", \"male\", \"male\", \"male\", \"female\", \"female\", \"male\", \"female\", \"female\", \"female\", \"female\", \"male\", \"female\", \"male\", \"female\", \"female\", \"male\", \"male\", \"female\", \"male\", \"female\", \"female\", \"female\", \"male\", \"female\", \"male\", \"female\", \"female\", \"male\", \"male\", \"male\", \"male\", \"female\", \"male\", \"male\", \"female\", \"female\", \"female\", \"female\", \"female\", \"female\", \"male\", \"female\", \"female\", \"female\", \"female\", \"male\", \"male\", \"female\", \"female\", \"female\", \"male\", \"female\", \"male\", \"female\", \"male\", \"female\", \"female\", \"male\", \"male\", \"female\", \"female\", \"female\", \"female\", \"male\", \"female\", \"female\", \"female\", \"female\", \"female\", \"male\", \"male\", \"female\", \"female\", \"female\", \"female\", \"female\", \"female\", \"female\", \"female\", \"female\", \"female\", \"male\", \"male\", \"female\", \"male\", \"male\", \"male\", \"male\", \"female\", \"male\", \"female\", \"male\", \"female\", \"male\", \"male\", \"male\", \"male\", \"female\", \"female\", \"male\", \"male\", \"male\", \"female\", \"female\", \"female\", \"male\", \"male\", \"female\", \"male\", \"female\", \"male\", \"male\", \"male\", \"male\", \"male\", \"female\", \"female\", \"male\", \"female\", \"male\", \"female\", \"female\", \"male\", \"female\", \"male\", \"male\", \"female\", \"female\", \"male\", \"male\", \"female\", \"male\", \"female\", \"male\", \"male\", \"male\", \"male\", \"female\", \"female\", \"female\", \"female\", \"female\", \"male\", \"female\", \"female\", \"male\", \"female\", \"female\", \"female\", \"male\", \"female\", \"male\", \"female\", \"male\", \"male\", \"female\", \"male\", \"male\", \"male\", \"male\", \"female\", \"female\", \"male\", \"female\", \"female\", \"female\", \"female\", \"male\", \"male\", \"female\", \"female\", \"female\", \"male\", \"male\", \"female\", \"male\", \"male\", \"male\", \"male\", \"male\", \"male\", \"female\", \"male\", \"female\", \"male\", \"male\", \"female\", \"male\", \"male\", \"female\", \"female\", \"male\", \"female\", \"male\", \"male\", \"female\", \"male\", \"female\", \"female\", \"male\", \"female\", \"male\", \"male\", \"female\", \"male\", \"male\", \"male\", \"female\", \"male\", \"male\", \"female\", \"male\", \"female\", \"male\", \"female\", \"female\", \"female\", \"male\", \"female\", \"female\", \"female\", \"female\"]}, {\"axis\": {\"matches\": true}, \"label\": \"bmi\", \"values\": [27.9, 33.77, 33.0, 22.705, 28.88, 25.74, 33.44, 27.74, 29.83, 25.84, 26.22, 26.29, 34.4, 39.82, 42.13, 24.6, 30.78, 23.845, 40.3, 35.3, 36.005, 32.4, 34.1, 31.92, 28.025, 27.72, 23.085, 32.775, 17.385, 36.3, 35.6, 26.315, 28.6, 28.31, 36.4, 20.425, 32.965, 20.8, 36.67, 39.9, 26.6, 36.63, 21.78, 30.8, 37.05, 37.3, 38.665, 34.77, 24.53, 35.2, 35.625, 33.63, 28.0, 34.43, 28.69, 36.955, 31.825, 31.68, 22.88, 37.335, 27.36, 33.66, 24.7, 25.935, 22.42, 28.9, 39.1, 26.315, 36.19, 23.98, 24.75, 28.5, 28.1, 32.01, 27.4, 34.01, 29.59, 35.53, 39.805, 32.965, 26.885, 38.285, 37.62, 41.23, 34.8, 22.895, 31.16, 27.2, 27.74, 26.98, 39.49, 24.795, 29.83, 34.77, 31.3, 37.62, 30.8, 38.28, 19.95, 19.3, 31.6, 25.46, 30.115, 29.92, 27.5, 28.025, 28.4, 30.875, 27.94, 35.09, 33.63, 29.7, 30.8, 35.72, 32.205, 28.595, 49.06, 27.94, 27.17, 23.37, 37.1, 23.75, 28.975, 31.35, 33.915, 28.785, 28.3, 37.4, 17.765, 34.7, 26.505, 22.04, 35.9, 25.555, 28.785, 28.05, 34.1, 25.175, 31.9, 36.0, 22.42, 32.49, 25.3, 29.735, 28.69, 38.83, 30.495, 37.73, 37.43, 28.4, 24.13, 29.7, 37.145, 23.37, 25.46, 39.52, 24.42, 25.175, 35.53, 27.83, 26.6, 36.85, 39.6, 29.8, 29.64, 28.215, 37.0, 33.155, 31.825, 18.905, 41.47, 30.3, 15.96, 34.8, 33.345, 37.7, 27.835, 29.2, 28.9, 33.155, 28.595, 38.28, 19.95, 26.41, 30.69, 41.895, 29.92, 30.9, 32.2, 32.11, 31.57, 26.2, 25.74, 26.6, 34.43, 30.59, 32.8, 28.6, 18.05, 39.33, 32.11, 32.23, 24.035, 36.08, 22.3, 28.88, 26.4, 27.74, 31.8, 41.23, 33.0, 30.875, 28.5, 26.73, 30.9, 37.1, 26.6, 23.1, 29.92, 23.21, 33.7, 33.25, 30.8, 34.8, 24.64, 33.88, 38.06, 41.91, 31.635, 25.46, 36.195, 27.83, 17.8, 27.5, 24.51, 22.22, 26.73, 38.39, 29.07, 38.06, 36.67, 22.135, 26.8, 35.3, 27.74, 30.02, 38.06, 35.86, 20.9, 28.975, 17.29, 32.2, 34.21, 30.3, 31.825, 25.365, 33.63, 40.15, 24.415, 31.92, 25.2, 26.84, 24.32, 36.955, 38.06, 42.35, 19.8, 32.395, 30.2, 25.84, 29.37, 34.2, 37.05, 27.455, 27.55, 26.6, 20.615, 24.3, 31.79, 21.56, 28.12, 40.565, 27.645, 32.395, 31.2, 26.62, 48.07, 26.22, 36.765, 26.4, 33.4, 29.64, 45.54, 28.82, 26.8, 22.99, 27.7, 25.41, 34.39, 28.88, 27.55, 22.61, 37.51, 33.0, 38.0, 33.345, 27.5, 33.33, 34.865, 33.06, 26.6, 24.7, 35.97, 35.86, 31.4, 33.25, 32.205, 32.775, 27.645, 37.335, 25.27, 29.64, 30.8, 40.945, 27.2, 34.105, 23.21, 36.48, 33.8, 36.7, 36.385, 27.36, 31.16, 28.785, 35.72, 34.5, 25.74, 27.55, 32.3, 27.72, 27.6, 30.02, 27.55, 36.765, 41.47, 29.26, 35.75, 33.345, 29.92, 27.835, 23.18, 25.6, 27.7, 35.245, 38.28, 27.6, 43.89, 29.83, 41.91, 20.79, 32.3, 30.5, 21.7, 26.4, 21.89, 30.78, 32.3, 24.985, 32.015, 30.4, 21.09, 22.23, 33.155, 32.9, 33.33, 28.31, 24.89, 40.15, 30.115, 31.46, 17.955, 30.685, 33.0, 43.34, 22.135, 34.4, 39.05, 25.365, 22.61, 30.21, 35.625, 37.43, 31.445, 31.35, 32.3, 19.855, 34.4, 31.02, 25.6, 38.17, 20.6, 47.52, 32.965, 32.3, 20.4, 38.38, 24.31, 23.6, 21.12, 30.03, 17.48, 20.235, 17.195, 23.9, 35.15, 35.64, 34.1, 22.6, 39.16, 26.98, 33.88, 35.86, 32.775, 30.59, 30.2, 24.31, 27.265, 29.165, 16.815, 30.4, 33.1, 20.235, 26.9, 30.5, 28.595, 33.11, 31.73, 28.9, 46.75, 29.45, 32.68, 33.5, 43.01, 36.52, 26.695, 33.1, 29.64, 25.65, 29.6, 38.6, 29.6, 24.13, 23.4, 29.735, 46.53, 37.4, 30.14, 30.495, 39.6, 33.0, 36.63, 30.0, 38.095, 25.935, 25.175, 28.38, 28.7, 33.82, 24.32, 24.09, 32.67, 30.115, 29.8, 33.345, 25.1, 28.31, 28.5, 35.625, 36.85, 32.56, 41.325, 37.51, 31.35, 39.5, 34.3, 31.065, 21.47, 28.7, 38.06, 31.16, 32.9, 25.08, 25.08, 43.4, 25.7, 27.93, 23.6, 28.7, 23.98, 39.2, 34.4, 26.03, 23.21, 30.25, 28.93, 30.875, 31.35, 23.75, 25.27, 28.7, 32.11, 33.66, 22.42, 30.4, 28.3, 35.7, 35.31, 30.495, 31.0, 30.875, 27.36, 44.22, 33.915, 37.73, 26.07, 33.88, 30.59, 25.8, 39.425, 25.46, 42.13, 31.73, 29.7, 36.19, 40.48, 28.025, 38.9, 30.2, 28.05, 31.35, 38.0, 31.79, 36.3, 47.41, 30.21, 25.84, 35.435, 46.7, 28.595, 46.2, 30.8, 28.93, 21.4, 31.73, 41.325, 23.8, 33.44, 34.21, 34.105, 35.53, 19.95, 32.68, 30.5, 44.77, 32.12, 30.495, 40.565, 30.59, 31.9, 40.565, 29.1, 37.29, 43.12, 36.86, 34.295, 27.17, 26.84, 38.095, 30.2, 23.465, 25.46, 30.59, 45.43, 23.65, 20.7, 28.27, 20.235, 30.21, 35.91, 30.69, 29.0, 19.57, 31.13, 21.85, 40.26, 33.725, 29.48, 33.25, 32.6, 37.525, 39.16, 31.635, 25.3, 39.05, 28.31, 34.1, 25.175, 23.655, 26.98, 37.8, 29.37, 34.8, 33.155, 19.0, 33.0, 36.63, 28.595, 25.6, 33.11, 37.1, 31.4, 34.1, 21.3, 33.535, 28.785, 26.03, 28.88, 42.46, 38.0, 38.95, 36.1, 29.3, 35.53, 22.705, 39.7, 38.19, 24.51, 38.095, 26.41, 33.66, 42.4, 28.31, 33.915, 34.96, 35.31, 30.78, 26.22, 23.37, 28.5, 32.965, 42.68, 39.6, 31.13, 36.3, 35.2, 25.3, 42.4, 33.155, 35.91, 28.785, 46.53, 23.98, 31.54, 33.66, 22.99, 38.06, 28.7, 32.775, 32.015, 29.81, 31.57, 31.16, 29.7, 31.02, 43.89, 21.375, 40.81, 31.35, 36.1, 23.18, 17.4, 20.3, 35.3, 24.32, 18.5, 26.41, 26.125, 41.69, 24.1, 31.13, 27.36, 36.2, 32.395, 23.655, 34.8, 40.185, 32.3, 35.75, 33.725, 39.27, 34.87, 44.745, 41.47, 26.41, 29.545, 32.9, 38.06, 28.69, 30.495, 27.74, 35.2, 23.54, 30.685, 40.47, 22.6, 28.9, 22.61, 24.32, 36.67, 33.44, 40.66, 36.6, 37.4, 35.4, 27.075, 39.05, 28.405, 21.755, 40.28, 36.08, 24.42, 21.4, 30.1, 27.265, 32.1, 34.77, 38.39, 23.7, 31.73, 35.5, 24.035, 29.15, 34.105, 26.62, 26.41, 30.115, 27.0, 21.755, 36.0, 30.875, 26.4, 28.975, 37.905, 22.77, 33.63, 27.645, 22.8, 27.83, 37.43, 38.17, 34.58, 35.2, 27.1, 26.03, 25.175, 31.825, 32.3, 29.0, 39.7, 19.475, 36.1, 26.7, 36.48, 28.88, 34.2, 33.33, 32.3, 39.805, 34.32, 28.88, 24.4, 41.14, 35.97, 27.6, 29.26, 27.7, 36.955, 36.86, 22.515, 29.92, 41.8, 27.6, 23.18, 20.9, 31.92, 28.5, 44.22, 22.895, 33.1, 24.795, 26.18, 35.97, 22.3, 42.24, 26.51, 35.815, 41.42, 36.575, 30.14, 25.84, 30.8, 42.94, 21.01, 22.515, 34.43, 31.46, 24.225, 37.1, 26.125, 35.53, 33.7, 17.67, 31.13, 29.81, 24.32, 31.825, 31.79, 28.025, 30.78, 21.85, 33.1, 25.84, 23.845, 34.39, 33.82, 35.97, 31.5, 28.31, 23.465, 31.35, 31.1, 24.7, 32.78, 29.81, 30.495, 32.45, 34.2, 50.38, 24.1, 32.775, 30.78, 32.3, 35.53, 23.75, 23.845, 29.6, 33.11, 24.13, 32.23, 28.1, 47.6, 28.0, 33.535, 19.855, 25.4, 29.9, 37.29, 43.7, 23.655, 24.3, 36.2, 29.48, 24.86, 30.1, 21.85, 28.12, 27.1, 33.44, 28.8, 29.5, 34.8, 27.36, 22.135, 37.05, 26.695, 28.93, 28.975, 30.02, 39.5, 33.63, 26.885, 29.04, 24.035, 38.94, 32.11, 44.0, 20.045, 25.555, 40.26, 22.515, 22.515, 40.92, 27.265, 36.85, 35.1, 29.355, 32.585, 32.34, 39.8, 24.6, 28.31, 31.73, 26.695, 27.5, 24.605, 33.99, 26.885, 22.895, 28.2, 34.21, 25.0, 33.2, 31.0, 35.815, 23.2, 32.11, 23.4, 20.1, 39.16, 34.21, 46.53, 32.5, 25.8, 35.3, 37.18, 27.5, 29.735, 24.225, 26.18, 29.48, 23.21, 46.09, 40.185, 22.61, 39.93, 35.8, 35.8, 34.2, 31.255, 29.7, 18.335, 42.9, 28.405, 30.2, 27.835, 39.49, 30.8, 26.79, 34.96, 36.67, 39.615, 25.9, 35.2, 24.795, 36.765, 27.1, 24.795, 25.365, 25.745, 34.32, 28.16, 23.56, 20.235, 40.5, 35.42, 22.895, 40.15, 29.15, 39.995, 29.92, 25.46, 21.375, 25.9, 30.59, 30.115, 25.8, 30.115, 27.645, 34.675, 20.52, 19.8, 27.835, 31.6, 28.27, 20.045, 23.275, 34.1, 36.85, 36.29, 26.885, 22.99, 32.7, 25.8, 29.6, 19.19, 31.73, 29.26, 28.215, 24.985, 27.74, 22.8, 20.13, 33.33, 32.3, 27.6, 25.46, 24.605, 34.2, 35.815, 32.68, 37.0, 31.02, 36.08, 23.32, 45.32, 34.6, 26.03, 18.715, 31.6, 17.29, 23.655, 35.2, 27.93, 21.565, 38.38, 23.0, 37.07, 30.495, 28.88, 27.265, 28.025, 23.085, 30.685, 25.8, 35.245, 24.7, 25.08, 52.58, 22.515, 30.9, 36.955, 26.41, 29.83, 29.8, 21.47, 27.645, 28.9, 31.79, 39.49, 33.82, 32.01, 27.94, 41.14, 28.595, 25.6, 25.3, 37.29, 42.655, 21.66, 31.9, 37.07, 31.445, 31.255, 28.88, 18.335, 29.59, 32.0, 26.03, 31.68, 33.66, 21.78, 27.835, 19.95, 31.5, 30.495, 18.3, 28.975, 31.54, 47.74, 22.1, 36.19, 29.83, 32.7, 30.4, 33.7, 31.35, 34.96, 33.77, 30.875, 33.99, 19.095, 28.6, 38.94, 36.08, 29.8, 31.24, 29.925, 26.22, 30.0, 20.35, 32.3, 38.39, 25.85, 26.315, 24.51, 32.67, 29.64, 33.33, 35.75, 19.95, 31.4, 38.17, 36.86, 32.395, 42.75, 25.08, 29.9, 35.86, 32.8, 18.6, 23.87, 45.9, 40.28, 18.335, 33.82, 28.12, 25.0, 22.23, 30.25, 32.49, 37.07, 32.6, 24.86, 32.34, 32.3, 32.775, 32.8, 31.92, 21.5, 34.1, 30.305, 36.48, 32.56, 35.815, 27.93, 22.135, 44.88, 23.18, 30.59, 41.1, 34.58, 42.13, 38.83, 28.215, 28.31, 26.125, 40.37, 24.6, 35.2, 34.105, 27.36, 26.7, 41.91, 29.26, 32.11, 27.1, 24.13, 27.4, 34.865, 29.81, 41.325, 29.925, 30.3, 27.36, 28.49, 23.56, 35.625, 32.68, 25.27, 28.0, 32.775, 21.755, 32.395, 36.575, 21.755, 27.93, 30.02, 33.55, 29.355, 25.8, 24.32, 40.375, 32.11, 32.3, 27.28, 17.86, 34.8, 33.4, 25.555, 37.1, 30.875, 34.1, 21.47, 33.3, 31.255, 39.14, 25.08, 37.29, 34.6, 30.21, 21.945, 24.97, 25.3, 24.42, 23.94, 39.82, 16.815, 37.18, 34.43, 30.305, 34.485, 21.8, 24.605, 23.3, 27.83, 31.065, 21.66, 28.215, 22.705, 42.13, 41.8, 36.96, 21.28, 33.11, 33.33, 24.3, 25.7, 29.4, 39.82, 33.63, 29.83, 19.8, 27.3, 29.3, 27.72, 37.9, 36.385, 27.645, 37.715, 23.18, 20.52, 37.1, 28.05, 29.9, 33.345, 23.76, 30.5, 31.065, 33.3, 27.5, 33.915, 34.485, 25.52, 27.61, 27.06, 23.7, 30.4, 29.735, 29.925, 26.79, 33.33, 27.645, 21.66, 30.03, 36.3, 24.32, 17.29, 25.9, 39.4, 34.32, 19.95, 34.9, 23.21, 25.745, 25.175, 22.0, 26.125, 26.51, 27.455, 25.745, 30.36, 30.875, 20.8, 27.8, 24.605, 27.72, 21.85, 28.12, 30.2, 32.2, 26.315, 26.695, 42.9, 34.7, 23.655, 28.31, 20.6, 53.13, 39.71, 26.315, 31.065, 26.695, 38.83, 40.37, 25.935, 33.535, 32.87, 30.03, 24.225, 38.6, 25.74, 33.4, 44.7, 30.97, 31.92, 36.85, 25.8, 29.07]}, {\"axis\": {\"matches\": true}, \"label\": \"children\", \"values\": [0, 1, 3, 0, 0, 0, 1, 3, 2, 0, 0, 0, 0, 0, 0, 1, 1, 0, 0, 0, 0, 1, 0, 1, 2, 3, 0, 2, 1, 2, 0, 0, 5, 0, 1, 0, 3, 0, 1, 0, 0, 2, 1, 2, 1, 0, 2, 0, 0, 1, 0, 2, 1, 0, 3, 2, 2, 2, 1, 2, 3, 4, 1, 1, 0, 0, 2, 1, 0, 3, 0, 5, 3, 1, 2, 0, 1, 0, 0, 0, 1, 0, 1, 4, 2, 2, 0, 0, 0, 0, 0, 1, 3, 2, 2, 1, 3, 0, 0, 0, 0, 0, 0, 3, 1, 1, 1, 2, 0, 0, 1, 2, 0, 0, 3, 0, 0, 1, 0, 2, 2, 0, 0, 1, 3, 0, 0, 0, 2, 2, 0, 0, 2, 0, 0, 0, 0, 0, 3, 0, 2, 1, 2, 2, 3, 3, 3, 1, 1, 1, 1, 0, 3, 0, 1, 0, 0, 0, 0, 3, 0, 0, 1, 2, 0, 4, 5, 3, 1, 3, 0, 0, 0, 1, 0, 0, 2, 1, 2, 3, 0, 0, 3, 0, 2, 3, 2, 3, 1, 2, 0, 0, 0, 1, 0, 0, 0, 2, 0, 0, 0, 1, 0, 0, 0, 1, 0, 2, 0, 1, 1, 4, 2, 1, 2, 2, 0, 0, 1, 0, 1, 0, 3, 0, 0, 3, 0, 0, 1, 2, 1, 3, 0, 1, 2, 2, 0, 2, 0, 1, 2, 1, 1, 3, 0, 0, 0, 0, 1, 1, 2, 2, 2, 3, 0, 3, 0, 0, 4, 0, 0, 1, 3, 0, 3, 3, 1, 3, 1, 1, 1, 2, 2, 1, 0, 2, 2, 0, 2, 1, 1, 3, 1, 1, 0, 1, 2, 0, 1, 3, 0, 1, 2, 0, 3, 0, 0, 1, 3, 1, 3, 3, 2, 2, 2, 2, 2, 1, 0, 2, 0, 0, 3, 0, 0, 0, 0, 0, 0, 1, 1, 4, 0, 0, 0, 1, 1, 2, 1, 0, 1, 0, 0, 0, 2, 0, 0, 1, 1, 1, 0, 0, 0, 0, 4, 3, 2, 1, 1, 0, 0, 0, 0, 0, 0, 0, 3, 3, 0, 0, 2, 1, 0, 1, 2, 1, 3, 2, 2, 3, 0, 0, 1, 2, 0, 0, 3, 0, 3, 1, 2, 0, 0, 2, 2, 0, 0, 2, 0, 3, 4, 0, 1, 1, 2, 0, 3, 0, 2, 0, 0, 1, 0, 3, 0, 2, 0, 1, 3, 1, 0, 1, 2, 5, 0, 1, 0, 2, 1, 0, 0, 0, 1, 0, 2, 5, 1, 0, 1, 3, 0, 2, 0, 0, 1, 3, 0, 3, 5, 0, 1, 0, 0, 1, 1, 0, 0, 0, 0, 1, 4, 1, 0, 0, 2, 0, 2, 0, 0, 3, 3, 0, 2, 0, 0, 1, 1, 2, 1, 1, 0, 0, 0, 0, 3, 1, 0, 0, 0, 0, 3, 2, 0, 1, 3, 0, 3, 0, 0, 1, 0, 0, 0, 0, 4, 0, 2, 2, 2, 0, 0, 0, 1, 0, 1, 3, 1, 2, 0, 0, 1, 0, 0, 0, 1, 0, 1, 2, 1, 0, 0, 0, 0, 0, 1, 0, 2, 1, 1, 0, 1, 0, 2, 0, 0, 1, 3, 2, 1, 0, 3, 2, 0, 0, 0, 2, 0, 2, 0, 0, 0, 0, 0, 2, 0, 2, 1, 0, 3, 0, 2, 0, 0, 1, 2, 0, 1, 2, 5, 2, 0, 1, 2, 1, 2, 0, 0, 1, 1, 0, 1, 0, 2, 1, 0, 1, 3, 1, 0, 1, 0, 1, 2, 1, 0, 1, 2, 1, 2, 2, 0, 0, 0, 3, 0, 0, 0, 0, 2, 2, 1, 2, 0, 3, 0, 1, 0, 2, 0, 0, 1, 4, 1, 0, 0, 0, 3, 1, 0, 0, 1, 0, 0, 2, 1, 0, 1, 2, 0, 4, 5, 3, 0, 3, 2, 3, 1, 3, 0, 0, 2, 1, 0, 2, 0, 2, 1, 2, 1, 4, 3, 1, 1, 0, 0, 2, 1, 2, 0, 1, 3, 0, 0, 0, 2, 0, 3, 3, 3, 2, 1, 0, 2, 0, 1, 2, 2, 0, 1, 1, 0, 1, 1, 0, 1, 0, 2, 1, 0, 2, 0, 0, 0, 1, 1, 2, 0, 3, 3, 0, 1, 2, 2, 0, 0, 0, 1, 1, 2, 0, 0, 3, 0, 0, 1, 3, 1, 1, 0, 1, 3, 1, 3, 1, 3, 1, 0, 2, 3, 2, 2, 0, 0, 0, 0, 1, 2, 0, 1, 0, 0, 0, 0, 0, 4, 2, 3, 0, 3, 0, 2, 1, 1, 0, 2, 0, 1, 1, 0, 2, 3, 2, 0, 0, 2, 3, 2, 0, 3, 0, 3, 0, 1, 1, 1, 3, 0, 0, 3, 0, 0, 0, 0, 0, 2, 0, 2, 1, 0, 0, 1, 0, 1, 0, 0, 0, 1, 0, 0, 1, 3, 3, 2, 2, 2, 0, 0, 3, 1, 0, 1, 0, 0, 2, 0, 2, 2, 1, 3, 1, 0, 0, 2, 0, 1, 2, 0, 0, 2, 0, 0, 0, 2, 0, 0, 0, 1, 1, 0, 0, 0, 2, 0, 2, 3, 0, 0, 0, 1, 0, 2, 3, 2, 0, 0, 2, 0, 1, 0, 3, 0, 1, 0, 1, 3, 0, 1, 5, 1, 2, 3, 1, 0, 3, 4, 1, 0, 0, 0, 1, 0, 4, 0, 2, 0, 0, 2, 1, 0, 0, 0, 0, 3, 0, 0, 2, 3, 1, 3, 0, 1, 0, 3, 1, 2, 0, 0, 0, 0, 1, 0, 0, 1, 0, 0, 2, 2, 1, 0, 1, 1, 1, 5, 0, 2, 0, 2, 5, 2, 0, 0, 1, 0, 0, 0, 1, 2, 1, 0, 3, 0, 2, 1, 2, 1, 1, 1, 1, 1, 1, 1, 0, 1, 3, 2, 1, 2, 1, 2, 5, 3, 0, 0, 0, 0, 0, 0, 1, 3, 0, 1, 0, 3, 1, 5, 1, 3, 1, 0, 0, 1, 2, 2, 1, 3, 3, 3, 0, 3, 0, 2, 0, 0, 0, 1, 2, 2, 3, 2, 1, 0, 2, 4, 1, 0, 0, 1, 2, 3, 2, 0, 3, 1, 1, 1, 0, 1, 0, 0, 2, 1, 0, 0, 0, 0, 3, 2, 1, 0, 2, 0, 0, 0, 0, 1, 2, 0, 1, 1, 0, 1, 0, 1, 3, 0, 0, 0, 0, 0, 1, 0, 1, 1, 3, 4, 1, 2, 0, 1, 1, 1, 0, 0, 2, 0, 1, 1, 0, 0, 3, 2, 1, 1, 1, 2, 5, 0, 0, 1, 0, 0, 0, 3, 0, 4, 4, 2, 0, 0, 1, 2, 3, 1, 0, 0, 0, 0, 2, 1, 3, 1, 3, 3, 3, 0, 1, 5, 2, 1, 3, 0, 2, 3, 1, 1, 0, 0, 2, 1, 0, 5, 2, 0, 0, 0, 3, 1, 0, 0, 0, 1, 3, 0, 2, 2, 3, 0, 0, 1, 0, 0, 0, 3, 1, 4, 3, 0, 2, 0, 0, 1, 2, 1, 0, 1, 0, 0, 2, 2, 1, 1, 2, 0, 2, 2, 0, 1, 1, 0, 0, 1, 0, 0, 1, 1, 2, 3, 0, 1, 0, 2, 1, 1, 0, 0, 3, 0, 0, 1, 2, 2, 2, 0, 1, 3, 1, 2, 2, 1, 1, 1, 2, 0, 2, 1, 0, 0, 2, 1, 3, 1, 2, 0, 0, 1, 1, 2, 2, 0, 0, 3, 0, 3, 0, 2, 0, 0, 0, 3, 1, 2, 2, 3, 0, 0, 5, 3, 4, 0, 1, 0, 0, 0, 4, 0, 0, 3, 1, 3, 0, 0, 1, 1, 1, 2, 0, 0, 0, 0, 3, 1, 0, 5, 1, 0, 0, 0, 0, 1, 2, 0, 2, 0, 1, 1, 0, 0, 1, 2, 1, 2, 0, 0, 3, 0, 1, 0, 2, 2, 1, 0, 3, 1, 0, 2, 0, 0, 4, 0, 2, 1, 0, 1, 2, 3, 1, 0, 0, 4, 2, 3, 0, 0, 2, 1, 0, 0, 1, 2, 2, 2, 0, 3, 3, 0, 0, 0, 0]}, {\"axis\": {\"matches\": true}, \"label\": \"smoker\", \"values\": [\"yes\", \"no\", \"no\", \"no\", \"no\", \"no\", \"no\", \"no\", \"no\", \"no\", \"no\", \"yes\", \"no\", \"no\", \"yes\", \"no\", \"no\", \"no\", \"no\", \"yes\", \"no\", \"no\", \"no\", \"yes\", \"no\", \"no\", \"no\", \"no\", \"no\", \"yes\", \"yes\", \"no\", \"no\", \"no\", \"yes\", \"no\", \"no\", \"no\", \"yes\", \"yes\", \"no\", \"no\", \"no\", \"no\", \"no\", \"no\", \"no\", \"no\", \"no\", \"yes\", \"no\", \"no\", \"yes\", \"yes\", \"no\", \"yes\", \"no\", \"yes\", \"yes\", \"no\", \"no\", \"no\", \"no\", \"no\", \"yes\", \"no\", \"no\", \"no\", \"no\", \"yes\", \"yes\", \"no\", \"no\", \"no\", \"no\", \"no\", \"no\", \"no\", \"no\", \"no\", \"no\", \"no\", \"yes\", \"no\", \"yes\", \"yes\", \"yes\", \"no\", \"no\", \"no\", \"no\", \"no\", \"yes\", \"no\", \"yes\", \"no\", \"no\", \"no\", \"yes\", \"yes\", \"no\", \"no\", \"no\", \"yes\", \"no\", \"yes\", \"no\", \"no\", \"no\", \"yes\", \"no\", \"no\", \"no\", \"no\", \"no\", \"no\", \"no\", \"yes\", \"no\", \"no\", \"no\", \"no\", \"no\", \"yes\", \"no\", \"no\", \"yes\", \"no\", \"yes\", \"no\", \"no\", \"no\", \"no\", \"no\", \"no\", \"no\", \"no\", \"no\", \"no\", \"no\", \"no\", \"no\", \"yes\", \"no\", \"yes\", \"no\", \"yes\", \"no\", \"no\", \"no\", \"no\", \"no\", \"no\", \"yes\", \"no\", \"no\", \"yes\", \"yes\", \"yes\", \"no\", \"yes\", \"yes\", \"no\", \"no\", \"no\", \"no\", \"no\", \"no\", \"no\", \"no\", \"no\", \"no\", \"no\", \"no\", \"no\", \"yes\", \"no\", \"no\", \"no\", \"no\", \"no\", \"no\", \"no\", \"no\", \"no\", \"yes\", \"no\", \"no\", \"no\", \"no\", \"no\", \"no\", \"no\", \"no\", \"no\", \"no\", \"no\", \"no\", \"no\", \"no\", \"no\", \"no\", \"no\", \"yes\", \"no\", \"no\", \"no\", \"yes\", \"no\", \"no\", \"no\", \"no\", \"no\", \"no\", \"no\", \"no\", \"no\", \"no\", \"no\", \"no\", \"no\", \"no\", \"no\", \"yes\", \"yes\", \"no\", \"no\", \"no\", \"no\", \"no\", \"no\", \"no\", \"no\", \"no\", \"no\", \"yes\", \"no\", \"no\", \"yes\", \"no\", \"yes\", \"no\", \"no\", \"no\", \"yes\", \"no\", \"no\", \"no\", \"no\", \"no\", \"yes\", \"yes\", \"yes\", \"no\", \"yes\", \"no\", \"yes\", \"no\", \"no\", \"yes\", \"no\", \"yes\", \"yes\", \"yes\", \"no\", \"yes\", \"yes\", \"no\", \"no\", \"no\", \"no\", \"yes\", \"no\", \"no\", \"no\", \"no\", \"no\", \"no\", \"no\", \"no\", \"yes\", \"yes\", \"no\", \"no\", \"no\", \"no\", \"no\", \"no\", \"yes\", \"no\", \"no\", \"no\", \"yes\", \"no\", \"no\", \"no\", \"yes\", \"yes\", \"yes\", \"no\", \"no\", \"yes\", \"no\", \"no\", \"no\", \"no\", \"no\", \"no\", \"no\", \"no\", \"no\", \"no\", \"yes\", \"no\", \"yes\", \"no\", \"no\", \"no\", \"no\", \"no\", \"no\", \"no\", \"yes\", \"no\", \"no\", \"no\", \"no\", \"yes\", \"yes\", \"no\", \"yes\", \"yes\", \"no\", \"no\", \"no\", \"no\", \"no\", \"no\", \"yes\", \"no\", \"no\", \"no\", \"no\", \"no\", \"no\", \"no\", \"no\", \"no\", \"no\", \"no\", \"no\", \"no\", \"no\", \"no\", \"no\", \"no\", \"no\", \"no\", \"no\", \"no\", \"no\", \"no\", \"yes\", \"no\", \"no\", \"no\", \"no\", \"no\", \"no\", \"no\", \"no\", \"no\", \"no\", \"yes\", \"no\", \"yes\", \"yes\", \"yes\", \"no\", \"no\", \"yes\", \"yes\", \"no\", \"no\", \"no\", \"no\", \"no\", \"no\", \"no\", \"no\", \"no\", \"no\", \"no\", \"no\", \"no\", \"no\", \"no\", \"no\", \"no\", \"no\", \"no\", \"no\", \"no\", \"no\", \"no\", \"no\", \"no\", \"no\", \"no\", \"no\", \"no\", \"yes\", \"yes\", \"no\", \"no\", \"no\", \"no\", \"yes\", \"no\", \"yes\", \"yes\", \"yes\", \"yes\", \"no\", \"no\", \"no\", \"no\", \"no\", \"no\", \"no\", \"no\", \"no\", \"no\", \"no\", \"no\", \"no\", \"no\", \"no\", \"no\", \"no\", \"no\", \"yes\", \"no\", \"no\", \"yes\", \"no\", \"no\", \"no\", \"no\", \"no\", \"no\", \"no\", \"no\", \"no\", \"no\", \"no\", \"no\", \"no\", \"no\", \"no\", \"no\", \"yes\", \"no\", \"no\", \"no\", \"yes\", \"no\", \"no\", \"no\", \"no\", \"no\", \"no\", \"no\", \"no\", \"yes\", \"yes\", \"yes\", \"no\", \"no\", \"no\", \"no\", \"no\", \"no\", \"no\", \"no\", \"no\", \"no\", \"no\", \"yes\", \"no\", \"no\", \"no\", \"no\", \"no\", \"yes\", \"no\", \"no\", \"no\", \"no\", \"no\", \"yes\", \"no\", \"yes\", \"yes\", \"no\", \"no\", \"no\", \"no\", \"no\", \"no\", \"no\", \"no\", \"no\", \"no\", \"yes\", \"no\", \"no\", \"no\", \"no\", \"no\", \"no\", \"no\", \"no\", \"no\", \"yes\", \"no\", \"no\", \"no\", \"no\", \"no\", \"yes\", \"no\", \"no\", \"no\", \"no\", \"no\", \"no\", \"no\", \"no\", \"no\", \"no\", \"no\", \"no\", \"yes\", \"no\", \"yes\", \"no\", \"no\", \"no\", \"yes\", \"no\", \"no\", \"no\", \"no\", \"no\", \"no\", \"no\", \"no\", \"yes\", \"no\", \"no\", \"no\", \"no\", \"no\", \"no\", \"no\", \"no\", \"no\", \"no\", \"yes\", \"no\", \"no\", \"no\", \"no\", \"no\", \"no\", \"no\", \"yes\", \"no\", \"no\", \"no\", \"no\", \"no\", \"no\", \"no\", \"no\", \"no\", \"yes\", \"no\", \"no\", \"no\", \"no\", \"no\", \"yes\", \"no\", \"no\", \"no\", \"no\", \"no\", \"no\", \"no\", \"no\", \"no\", \"no\", \"yes\", \"no\", \"no\", \"yes\", \"no\", \"yes\", \"no\", \"no\", \"no\", \"no\", \"no\", \"yes\", \"no\", \"yes\", \"yes\", \"no\", \"no\", \"yes\", \"no\", \"yes\", \"no\", \"no\", \"no\", \"no\", \"no\", \"yes\", \"no\", \"no\", \"no\", \"no\", \"no\", \"no\", \"no\", \"no\", \"yes\", \"no\", \"no\", \"yes\", \"no\", \"no\", \"no\", \"no\", \"no\", \"no\", \"no\", \"no\", \"no\", \"no\", \"no\", \"no\", \"no\", \"yes\", \"no\", \"no\", \"no\", \"no\", \"no\", \"no\", \"no\", \"no\", \"yes\", \"yes\", \"no\", \"yes\", \"yes\", \"no\", \"no\", \"no\", \"no\", \"no\", \"yes\", \"no\", \"no\", \"yes\", \"no\", \"no\", \"no\", \"no\", \"yes\", \"no\", \"no\", \"no\", \"no\", \"no\", \"no\", \"yes\", \"no\", \"no\", \"no\", \"no\", \"no\", \"no\", \"no\", \"yes\", \"no\", \"no\", \"no\", \"no\", \"no\", \"no\", \"no\", \"no\", \"yes\", \"no\", \"no\", \"no\", \"no\", \"no\", \"no\", \"no\", \"no\", \"no\", \"no\", \"no\", \"no\", \"no\", \"no\", \"no\", \"no\", \"no\", \"no\", \"yes\", \"no\", \"yes\", \"no\", \"no\", \"yes\", \"no\", \"no\", \"no\", \"no\", \"no\", \"yes\", \"no\", \"yes\", \"yes\", \"no\", \"yes\", \"yes\", \"no\", \"no\", \"no\", \"no\", \"no\", \"no\", \"no\", \"yes\", \"no\", \"no\", \"no\", \"no\", \"no\", \"no\", \"yes\", \"no\", \"yes\", \"no\", \"no\", \"yes\", \"no\", \"no\", \"no\", \"no\", \"no\", \"no\", \"no\", \"no\", \"no\", \"no\", \"yes\", \"no\", \"no\", \"no\", \"no\", \"no\", \"no\", \"yes\", \"no\", \"no\", \"yes\", \"no\", \"no\", \"no\", \"no\", \"no\", \"no\", \"no\", \"no\", \"no\", \"yes\", \"no\", \"yes\", \"no\", \"no\", \"no\", \"yes\", \"no\", \"no\", \"no\", \"yes\", \"no\", \"no\", \"no\", \"no\", \"no\", \"no\", \"no\", \"no\", \"no\", \"no\", \"no\", \"no\", \"no\", \"no\", \"yes\", \"yes\", \"no\", \"no\", \"no\", \"no\", \"no\", \"no\", \"yes\", \"yes\", \"yes\", \"no\", \"no\", \"no\", \"no\", \"no\", \"no\", \"no\", \"no\", \"no\", \"no\", \"no\", \"no\", \"no\", \"yes\", \"yes\", \"no\", \"yes\", \"no\", \"no\", \"no\", \"no\", \"yes\", \"no\", \"yes\", \"no\", \"yes\", \"no\", \"yes\", \"yes\", \"no\", \"no\", \"yes\", \"no\", \"no\", \"no\", \"no\", \"no\", \"no\", \"no\", \"no\", \"no\", \"no\", \"no\", \"no\", \"no\", \"no\", \"no\", \"no\", \"no\", \"no\", \"no\", \"no\", \"no\", \"no\", \"yes\", \"no\", \"yes\", \"yes\", \"no\", \"no\", \"no\", \"yes\", \"no\", \"no\", \"yes\", \"no\", \"no\", \"yes\", \"no\", \"no\", \"no\", \"no\", \"yes\", \"no\", \"no\", \"no\", \"no\", \"no\", \"no\", \"no\", \"yes\", \"no\", \"yes\", \"no\", \"no\", \"no\", \"no\", \"yes\", \"yes\", \"no\", \"no\", \"no\", \"no\", \"no\", \"no\", \"no\", \"no\", \"no\", \"no\", \"no\", \"no\", \"no\", \"no\", \"no\", \"no\", \"no\", \"no\", \"no\", \"no\", \"no\", \"no\", \"no\", \"no\", \"no\", \"no\", \"no\", \"no\", \"no\", \"yes\", \"no\", \"yes\", \"no\", \"yes\", \"no\", \"yes\", \"yes\", \"no\", \"yes\", \"no\", \"yes\", \"no\", \"no\", \"no\", \"no\", \"no\", \"no\", \"no\", \"yes\", \"no\", \"no\", \"no\", \"no\", \"no\", \"no\", \"no\", \"no\", \"yes\", \"no\", \"no\", \"no\", \"no\", \"no\", \"no\", \"yes\", \"no\", \"no\", \"no\", \"no\", \"no\", \"no\", \"yes\", \"no\", \"no\", \"no\", \"no\", \"yes\", \"no\", \"no\", \"no\", \"no\", \"no\", \"yes\", \"yes\", \"no\", \"no\", \"no\", \"no\", \"no\", \"yes\", \"no\", \"no\", \"no\", \"yes\", \"no\", \"no\", \"no\", \"no\", \"no\", \"no\", \"no\", \"no\", \"no\", \"yes\", \"yes\", \"no\", \"no\", \"no\", \"yes\", \"no\", \"no\", \"no\", \"yes\", \"yes\", \"no\", \"yes\", \"no\", \"no\", \"yes\", \"yes\", \"no\", \"no\", \"yes\", \"no\", \"yes\", \"no\", \"no\", \"yes\", \"no\", \"yes\", \"no\", \"yes\", \"no\", \"no\", \"no\", \"yes\", \"no\", \"no\", \"no\", \"no\", \"no\", \"no\", \"no\", \"no\", \"yes\", \"no\", \"no\", \"no\", \"no\", \"no\", \"no\", \"no\", \"yes\", \"no\", \"no\", \"no\", \"no\", \"no\", \"no\", \"no\", \"yes\", \"no\", \"no\", \"no\", \"no\", \"no\", \"no\", \"yes\", \"no\", \"no\", \"no\", \"no\", \"yes\", \"no\", \"no\", \"yes\", \"no\", \"no\", \"yes\", \"no\", \"no\", \"no\", \"yes\", \"no\", \"no\", \"no\", \"no\", \"no\", \"no\", \"no\", \"no\", \"no\", \"no\", \"yes\", \"yes\", \"no\", \"no\", \"no\", \"no\", \"yes\", \"yes\", \"no\", \"yes\", \"no\", \"yes\", \"no\", \"yes\", \"no\", \"no\", \"no\", \"no\", \"no\", \"no\", \"no\", \"no\", \"no\", \"no\", \"no\", \"no\", \"no\", \"no\", \"yes\", \"no\", \"no\", \"no\", \"no\", \"no\", \"no\", \"yes\", \"no\", \"no\", \"no\", \"no\", \"no\", \"yes\", \"no\", \"no\", \"no\", \"yes\", \"no\", \"no\", \"no\", \"no\", \"no\", \"no\", \"no\", \"no\", \"no\", \"no\", \"no\", \"no\", \"no\", \"yes\", \"yes\", \"no\", \"no\", \"no\", \"no\", \"yes\", \"no\", \"no\", \"yes\", \"no\", \"no\", \"no\", \"no\", \"yes\", \"no\", \"yes\", \"no\", \"yes\", \"no\", \"no\", \"no\", \"no\", \"no\", \"no\", \"no\", \"yes\", \"no\", \"no\", \"no\", \"no\", \"no\", \"no\", \"no\", \"yes\", \"no\", \"no\", \"yes\", \"yes\", \"no\", \"no\", \"no\", \"no\", \"no\", \"no\", \"no\", \"no\", \"no\", \"yes\", \"no\", \"no\", \"no\", \"no\", \"yes\", \"no\", \"no\", \"no\", \"no\", \"no\", \"no\", \"yes\", \"yes\", \"no\", \"no\", \"no\", \"no\", \"no\", \"no\", \"no\", \"no\", \"yes\", \"yes\", \"no\", \"no\", \"no\", \"no\", \"no\", \"no\", \"no\", \"yes\", \"yes\", \"no\", \"yes\", \"no\", \"no\", \"no\", \"no\", \"no\", \"no\", \"no\", \"no\", \"no\", \"no\", \"no\", \"no\", \"yes\", \"no\", \"yes\", \"no\", \"no\", \"no\", \"no\", \"no\", \"no\", \"yes\", \"no\", \"no\", \"no\", \"yes\", \"no\", \"no\", \"yes\", \"yes\", \"no\", \"yes\", \"no\", \"no\", \"no\", \"yes\", \"no\", \"no\", \"yes\", \"no\", \"no\", \"no\", \"no\", \"no\", \"no\", \"no\", \"no\", \"yes\", \"yes\", \"no\", \"yes\", \"yes\", \"no\", \"yes\", \"yes\", \"yes\", \"no\", \"no\", \"no\", \"no\", \"yes\", \"yes\", \"no\", \"no\", \"no\", \"no\", \"no\", \"no\", \"yes\", \"no\", \"yes\", \"no\", \"no\", \"no\", \"no\", \"no\", \"no\", \"no\", \"no\", \"no\", \"no\", \"no\", \"no\", \"no\", \"yes\"]}, {\"axis\": {\"matches\": true}, \"label\": \"region\", \"values\": [\"southwest\", \"southeast\", \"southeast\", \"northwest\", \"northwest\", \"southeast\", \"southeast\", \"northwest\", \"northeast\", \"northwest\", \"northeast\", \"southeast\", \"southwest\", \"southeast\", \"southeast\", \"southwest\", \"northeast\", \"northeast\", \"southwest\", \"southwest\", \"northeast\", \"southwest\", \"southeast\", \"northeast\", \"northwest\", \"southeast\", \"northeast\", \"northwest\", \"northwest\", \"southwest\", \"southwest\", \"northeast\", \"southwest\", \"northwest\", \"southwest\", \"northwest\", \"northwest\", \"southwest\", \"northeast\", \"southwest\", \"northeast\", \"southeast\", \"southeast\", \"southeast\", \"northeast\", \"southwest\", \"northeast\", \"northwest\", \"southeast\", \"southeast\", \"northeast\", \"northwest\", \"southwest\", \"southeast\", \"northwest\", \"northwest\", \"northeast\", \"southeast\", \"southeast\", \"northwest\", \"northeast\", \"southeast\", \"northwest\", \"northwest\", \"northwest\", \"southwest\", \"southwest\", \"northwest\", \"southeast\", \"southeast\", \"southeast\", \"northeast\", \"southwest\", \"southeast\", \"southwest\", \"northwest\", \"southeast\", \"southeast\", \"northeast\", \"northwest\", \"northeast\", \"northeast\", \"southeast\", \"northwest\", \"southwest\", \"northwest\", \"northwest\", \"southwest\", \"northwest\", \"northwest\", \"southeast\", \"northwest\", \"northeast\", \"northwest\", \"southwest\", \"southeast\", \"southwest\", \"southeast\", \"northeast\", \"southwest\", \"southwest\", \"northeast\", \"northeast\", \"southeast\", \"southwest\", \"northwest\", \"southwest\", \"northwest\", \"southeast\", \"southeast\", \"northwest\", \"southwest\", \"southwest\", \"northwest\", \"northeast\", \"northeast\", \"southeast\", \"southeast\", \"southeast\", \"northwest\", \"southwest\", \"northeast\", \"northwest\", \"northeast\", \"northwest\", \"northeast\", \"southwest\", \"southwest\", \"northwest\", \"southwest\", \"northeast\", \"northeast\", \"southwest\", \"northwest\", \"northeast\", \"southeast\", \"southwest\", \"northwest\", \"southeast\", \"southwest\", \"northeast\", \"northeast\", \"southeast\", \"northwest\", \"northwest\", \"southeast\", \"northwest\", \"southeast\", \"northwest\", \"southwest\", \"northwest\", \"southeast\", \"northeast\", \"northeast\", \"northeast\", \"northwest\", \"southeast\", \"northeast\", \"southeast\", \"southeast\", \"northwest\", \"southeast\", \"southwest\", \"southwest\", \"northwest\", \"northeast\", \"southwest\", \"northwest\", \"northwest\", \"northeast\", \"southeast\", \"southwest\", \"northeast\", \"southwest\", \"northwest\", \"southwest\", \"northwest\", \"southwest\", \"southwest\", \"northeast\", \"northwest\", \"southeast\", \"northeast\", \"northwest\", \"southeast\", \"northeast\", \"southeast\", \"southwest\", \"southwest\", \"northwest\", \"southeast\", \"southwest\", \"southeast\", \"northwest\", \"southeast\", \"northwest\", \"southwest\", \"southeast\", \"northwest\", \"northeast\", \"northwest\", \"southeast\", \"northwest\", \"southeast\", \"southwest\", \"northeast\", \"southeast\", \"northeast\", \"southwest\", \"northeast\", \"southwest\", \"northwest\", \"northwest\", \"southeast\", \"southwest\", \"southwest\", \"northwest\", \"southeast\", \"southeast\", \"southeast\", \"southwest\", \"northeast\", \"southwest\", \"southwest\", \"southeast\", \"southeast\", \"southeast\", \"southeast\", \"northeast\", \"northeast\", \"northwest\", \"southeast\", \"southwest\", \"southwest\", \"northwest\", \"southeast\", \"southeast\", \"southeast\", \"northwest\", \"southeast\", \"northeast\", \"northeast\", \"southwest\", \"southwest\", \"northeast\", \"northwest\", \"southeast\", \"southeast\", \"southwest\", \"northeast\", \"northeast\", \"southwest\", \"southeast\", \"southwest\", \"northeast\", \"northeast\", \"northwest\", \"southeast\", \"northwest\", \"northwest\", \"southwest\", \"southeast\", \"northeast\", \"northwest\", \"southeast\", \"southeast\", \"southeast\", \"northeast\", \"southwest\", \"northeast\", \"southeast\", \"southwest\", \"northwest\", \"northeast\", \"northwest\", \"northeast\", \"northwest\", \"southwest\", \"southeast\", \"southeast\", \"northeast\", \"northeast\", \"northeast\", \"northeast\", \"southwest\", \"southeast\", \"northeast\", \"northwest\", \"northeast\", \"southeast\", \"southwest\", \"northeast\", \"southeast\", \"southeast\", \"southwest\", \"northeast\", \"southwest\", \"southeast\", \"northwest\", \"northwest\", \"northeast\", \"northeast\", \"southeast\", \"southeast\", \"southwest\", \"northwest\", \"southwest\", \"southeast\", \"northeast\", \"northwest\", \"southwest\", \"southwest\", \"southeast\", \"southeast\", \"southwest\", \"northeast\", \"northwest\", \"northeast\", \"northwest\", \"northeast\", \"northwest\", \"northeast\", \"southwest\", \"northeast\", \"southwest\", \"northeast\", \"southeast\", \"northwest\", \"southwest\", \"southwest\", \"northeast\", \"northwest\", \"northwest\", \"northeast\", \"northeast\", \"southwest\", \"southeast\", \"northwest\", \"northeast\", \"southeast\", \"southwest\", \"northwest\", \"northeast\", \"northeast\", \"southeast\", \"southeast\", \"southeast\", \"northeast\", \"southeast\", \"northwest\", \"northwest\", \"southwest\", \"southwest\", \"northeast\", \"southeast\", \"southwest\", \"southeast\", \"northwest\", \"southeast\", \"southeast\", \"northeast\", \"southwest\", \"southwest\", \"southwest\", \"southeast\", \"northeast\", \"northeast\", \"northwest\", \"northwest\", \"northeast\", \"northwest\", \"northeast\", \"northeast\", \"southwest\", \"southeast\", \"northwest\", \"northeast\", \"southeast\", \"northwest\", \"southeast\", \"northeast\", \"northeast\", \"southeast\", \"southeast\", \"northeast\", \"southwest\", \"southeast\", \"northwest\", \"northwest\", \"northwest\", \"northeast\", \"northwest\", \"northeast\", \"northeast\", \"northeast\", \"northwest\", \"southwest\", \"southeast\", \"southwest\", \"southeast\", \"southwest\", \"southeast\", \"northwest\", \"northwest\", \"southwest\", \"northeast\", \"southeast\", \"southwest\", \"southeast\", \"southeast\", \"northwest\", \"northeast\", \"northeast\", \"southwest\", \"northwest\", \"southeast\", \"southeast\", \"southwest\", \"southeast\", \"northwest\", \"southeast\", \"southeast\", \"northeast\", \"northeast\", \"southwest\", \"southeast\", \"northeast\", \"northeast\", \"northeast\", \"northwest\", \"southwest\", \"northwest\", \"southwest\", \"southwest\", \"northwest\", \"southeast\", \"northeast\", \"southwest\", \"southeast\", \"northeast\", \"northwest\", \"southwest\", \"southeast\", \"southeast\", \"northwest\", \"southwest\", \"northeast\", \"northwest\", \"southwest\", \"southwest\", \"southwest\", \"northwest\", \"southwest\", \"northwest\", \"southeast\", \"southwest\", \"southeast\", \"northwest\", \"southwest\", \"southeast\", \"southeast\", \"southwest\", \"northeast\", \"northeast\", \"northwest\", \"southeast\", \"southwest\", \"northwest\", \"northeast\", \"southeast\", \"southeast\", \"northeast\", \"southwest\", \"northeast\", \"southwest\", \"northwest\", \"northeast\", \"northwest\", \"southeast\", \"southeast\", \"northwest\", \"southeast\", \"southeast\", \"southwest\", \"southwest\", \"northeast\", \"northwest\", \"southwest\", \"southeast\", \"northwest\", \"southwest\", \"southeast\", \"northeast\", \"southwest\", \"southwest\", \"northeast\", \"southwest\", \"southwest\", \"southeast\", \"southwest\", \"southwest\", \"northeast\", \"southeast\", \"southeast\", \"southeast\", \"northwest\", \"northwest\", \"northwest\", \"northeast\", \"southwest\", \"northeast\", \"southeast\", \"northeast\", \"southwest\", \"southwest\", \"southwest\", \"southeast\", \"northwest\", \"southwest\", \"northeast\", \"northeast\", \"southeast\", \"northeast\", \"southeast\", \"southeast\", \"southeast\", \"northwest\", \"southwest\", \"northeast\", \"northeast\", \"southeast\", \"northeast\", \"southeast\", \"southeast\", \"southeast\", \"northeast\", \"southwest\", \"southwest\", \"southeast\", \"southeast\", \"southwest\", \"southeast\", \"southeast\", \"southeast\", \"northwest\", \"northwest\", \"northeast\", \"southwest\", \"northeast\", \"southeast\", \"southwest\", \"southeast\", \"southwest\", \"northwest\", \"northeast\", \"southwest\", \"northeast\", \"southeast\", \"northwest\", \"northwest\", \"northwest\", \"northeast\", \"southwest\", \"southeast\", \"southeast\", \"northwest\", \"northwest\", \"northwest\", \"southwest\", \"northwest\", \"southwest\", \"southeast\", \"southeast\", \"northeast\", \"northeast\", \"northwest\", \"southeast\", \"northeast\", \"southwest\", \"northeast\", \"northeast\", \"northwest\", \"southeast\", \"southeast\", \"southwest\", \"southeast\", \"northeast\", \"northwest\", \"northeast\", \"southeast\", \"southwest\", \"northwest\", \"southeast\", \"northeast\", \"southeast\", \"northeast\", \"southeast\", \"northeast\", \"southwest\", \"northwest\", \"southeast\", \"northwest\", \"southwest\", \"southeast\", \"northwest\", \"southeast\", \"northeast\", \"northwest\", \"northeast\", \"southwest\", \"southeast\", \"southwest\", \"northeast\", \"northeast\", \"southeast\", \"southeast\", \"northeast\", \"southwest\", \"southeast\", \"southwest\", \"southwest\", \"southwest\", \"southwest\", \"northeast\", \"northwest\", \"northwest\", \"northeast\", \"southeast\", \"southwest\", \"northwest\", \"southwest\", \"southwest\", \"southeast\", \"northeast\", \"southwest\", \"northeast\", \"northwest\", \"northeast\", \"northeast\", \"southeast\", \"southwest\", \"northwest\", \"northeast\", \"northwest\", \"southeast\", \"northeast\", \"northwest\", \"northeast\", \"northeast\", \"northeast\", \"southeast\", \"southeast\", \"southeast\", \"southeast\", \"southeast\", \"southeast\", \"southwest\", \"northwest\", \"northeast\", \"northeast\", \"southeast\", \"southeast\", \"northeast\", \"southeast\", \"southeast\", \"southeast\", \"southwest\", \"northwest\", \"northeast\", \"southeast\", \"southeast\", \"northeast\", \"southeast\", \"southeast\", \"southeast\", \"northwest\", \"southeast\", \"northwest\", \"southwest\", \"northwest\", \"southwest\", \"southwest\", \"southwest\", \"northwest\", \"southwest\", \"northeast\", \"northeast\", \"southeast\", \"southwest\", \"southeast\", \"northeast\", \"southwest\", \"northwest\", \"northwest\", \"southwest\", \"northwest\", \"northeast\", \"southeast\", \"northwest\", \"southeast\", \"southeast\", \"northeast\", \"southeast\", \"northwest\", \"northwest\", \"southwest\", \"southeast\", \"northwest\", \"northeast\", \"northeast\", \"southeast\", \"southeast\", \"northwest\", \"northeast\", \"southwest\", \"southwest\", \"northwest\", \"northwest\", \"northwest\", \"northwest\", \"northeast\", \"southwest\", \"southwest\", \"southwest\", \"northeast\", \"southeast\", \"northwest\", \"northeast\", \"northeast\", \"southeast\", \"southeast\", \"southwest\", \"southwest\", \"northeast\", \"southwest\", \"northwest\", \"southeast\", \"southwest\", \"northeast\", \"southwest\", \"northeast\", \"southeast\", \"northeast\", \"southeast\", \"northwest\", \"northwest\", \"southwest\", \"northwest\", \"southwest\", \"northwest\", \"southeast\", \"northwest\", \"northwest\", \"southeast\", \"northeast\", \"northeast\", \"northeast\", \"southeast\", \"northeast\", \"southeast\", \"northeast\", \"southwest\", \"southwest\", \"northeast\", \"northeast\", \"northwest\", \"southwest\", \"southwest\", \"southwest\", \"northwest\", \"southwest\", \"southwest\", \"northeast\", \"northwest\", \"northwest\", \"southeast\", \"northwest\", \"northeast\", \"southeast\", \"northwest\", \"southwest\", \"southeast\", \"southeast\", \"southwest\", \"southeast\", \"southwest\", \"northeast\", \"northwest\", \"northeast\", \"southeast\", \"southeast\", \"southwest\", \"northeast\", \"southeast\", \"northwest\", \"northwest\", \"southeast\", \"northeast\", \"southwest\", \"northeast\", \"southeast\", \"southeast\", \"southwest\", \"southeast\", \"southeast\", \"northwest\", \"northwest\", \"northwest\", \"southeast\", \"northeast\", \"southwest\", \"northwest\", \"southeast\", \"northeast\", \"southeast\", \"southeast\", \"northwest\", \"southwest\", \"northeast\", \"northwest\", \"southwest\", \"northwest\", \"southeast\", \"southeast\", \"northwest\", \"northeast\", \"southeast\", \"northeast\", \"northeast\", \"northwest\", \"southwest\", \"northwest\", \"northwest\", \"northwest\", \"northwest\", \"southeast\", \"southwest\", \"northeast\", \"northeast\", \"northwest\", \"southwest\", \"northeast\", \"southeast\", \"southeast\", \"northeast\", \"southeast\", \"southwest\", \"southeast\", \"southwest\", \"northwest\", \"northeast\", \"northwest\", \"northeast\", \"northeast\", \"northeast\", \"southwest\", \"southeast\", \"northwest\", \"southeast\", \"southwest\", \"southwest\", \"southwest\", \"northwest\", \"northeast\", \"southwest\", \"southwest\", \"southeast\", \"southwest\", \"northeast\", \"southwest\", \"southwest\", \"southeast\", \"southeast\", \"southwest\", \"northeast\", \"northwest\", \"southwest\", \"southeast\", \"southwest\", \"southwest\", \"southwest\", \"northwest\", \"northeast\", \"northeast\", \"northwest\", \"southeast\", \"northeast\", \"northwest\", \"southwest\", \"northwest\", \"northwest\", \"southeast\", \"northeast\", \"southeast\", \"northeast\", \"southwest\", \"northeast\", \"northwest\", \"southeast\", \"northwest\", \"northeast\", \"southeast\", \"northeast\", \"southeast\", \"southwest\", \"northeast\", \"northeast\", \"southeast\", \"southwest\", \"southwest\", \"northwest\", \"northeast\", \"northwest\", \"southwest\", \"northwest\", \"southeast\", \"northwest\", \"northeast\", \"southwest\", \"southeast\", \"southwest\", \"southwest\", \"southwest\", \"northwest\", \"southwest\", \"northeast\", \"southwest\", \"southwest\", \"southeast\", \"southeast\", \"southeast\", \"southwest\", \"southwest\", \"southwest\", \"southeast\", \"southwest\", \"northeast\", \"northwest\", \"southeast\", \"southeast\", \"southeast\", \"southeast\", \"northeast\", \"northwest\", \"southeast\", \"southwest\", \"southwest\", \"northeast\", \"northwest\", \"southwest\", \"northeast\", \"southeast\", \"northwest\", \"southwest\", \"northwest\", \"southeast\", \"southeast\", \"northwest\", \"northeast\", \"northwest\", \"northwest\", \"southwest\", \"southeast\", \"northeast\", \"northwest\", \"southwest\", \"northwest\", \"northwest\", \"northeast\", \"southeast\", \"southeast\", \"northeast\", \"northwest\", \"southwest\", \"southeast\", \"northeast\", \"southeast\", \"southeast\", \"northeast\", \"southeast\", \"northeast\", \"northeast\", \"southwest\", \"northeast\", \"northeast\", \"southwest\", \"northwest\", \"northwest\", \"northeast\", \"northeast\", \"southwest\", \"northeast\", \"southwest\", \"southeast\", \"northwest\", \"northeast\", \"southwest\", \"southeast\", \"northeast\", \"northwest\", \"northwest\", \"southwest\", \"southwest\", \"southwest\", \"northeast\", \"northwest\", \"northeast\", \"northwest\", \"northeast\", \"northeast\", \"southwest\", \"southeast\", \"southeast\", \"northwest\", \"southwest\", \"northwest\", \"northwest\", \"southwest\", \"northwest\", \"northwest\", \"southwest\", \"southeast\", \"southeast\", \"southeast\", \"southeast\", \"southwest\", \"northwest\", \"northwest\", \"southwest\", \"northeast\", \"northwest\", \"southeast\", \"northeast\", \"northeast\", \"northwest\", \"southwest\", \"southeast\", \"northwest\", \"northeast\", \"northwest\", \"northwest\", \"northeast\", \"northeast\", \"southwest\", \"northeast\", \"northwest\", \"northeast\", \"southeast\", \"northwest\", \"southwest\", \"northwest\", \"northeast\", \"northeast\", \"southwest\", \"northwest\", \"northwest\", \"southwest\", \"southeast\", \"southeast\", \"northwest\", \"southeast\", \"southeast\", \"southeast\", \"northwest\", \"southwest\", \"southwest\", \"southeast\", \"northeast\", \"northwest\", \"southeast\", \"southeast\", \"northeast\", \"northwest\", \"northeast\", \"northeast\", \"southeast\", \"southwest\", \"northeast\", \"southeast\", \"southeast\", \"southeast\", \"northwest\", \"northwest\", \"southwest\", \"northwest\", \"southwest\", \"northeast\", \"northwest\", \"southeast\", \"southwest\", \"southeast\", \"northeast\", \"southwest\", \"northwest\", \"southwest\", \"northeast\", \"northeast\", \"southeast\", \"northeast\", \"southeast\", \"northeast\", \"southwest\", \"southeast\", \"southeast\", \"southwest\", \"southeast\", \"northwest\", \"northwest\", \"southwest\", \"southeast\", \"northeast\", \"southeast\", \"southeast\", \"northwest\", \"northeast\", \"southeast\", \"northeast\", \"southeast\", \"southeast\", \"northwest\", \"southwest\", \"southeast\", \"northwest\", \"northeast\", \"northeast\", \"northwest\", \"southwest\", \"southeast\", \"southwest\", \"southwest\", \"southeast\", \"southwest\", \"northeast\", \"northwest\", \"northwest\", \"northwest\", \"southwest\", \"northwest\", \"southeast\", \"northwest\", \"southeast\", \"southwest\", \"southeast\", \"southeast\", \"southwest\", \"northwest\", \"southwest\", \"northwest\", \"southwest\", \"southwest\", \"northeast\", \"northwest\", \"southeast\", \"northwest\", \"northwest\", \"northeast\", \"southeast\", \"northwest\", \"northeast\", \"southwest\", \"northwest\", \"southeast\", \"southeast\", \"northeast\", \"northwest\", \"northeast\", \"southeast\", \"southwest\", \"southwest\", \"northwest\", \"northeast\", \"southwest\", \"southeast\", \"northwest\", \"northwest\", \"southwest\", \"northwest\", \"southwest\", \"northeast\", \"southeast\", \"northeast\", \"northwest\", \"southwest\", \"northeast\", \"southeast\", \"northeast\", \"northwest\", \"northwest\", \"northeast\", \"southwest\", \"northwest\", \"northeast\", \"northeast\", \"northwest\", \"northwest\", \"northwest\", \"northwest\", \"southeast\", \"northwest\", \"southwest\", \"northwest\", \"northwest\", \"northwest\", \"northeast\", \"southeast\", \"northwest\", \"southwest\", \"southwest\", \"northeast\", \"southwest\", \"northwest\", \"southeast\", \"northeast\", \"southwest\", \"northwest\", \"northeast\", \"southeast\", \"southeast\", \"southwest\", \"northwest\", \"northeast\", \"southeast\", \"southeast\", \"southeast\", \"northeast\", \"southeast\", \"northeast\", \"southeast\", \"southeast\", \"northeast\", \"northwest\", \"southwest\", \"northwest\", \"southwest\", \"southeast\", \"northwest\", \"northeast\", \"northwest\", \"northeast\", \"southeast\", \"southeast\", \"southeast\", \"northwest\", \"southeast\", \"southeast\", \"southwest\", \"southwest\", \"southwest\", \"southeast\", \"northeast\", \"northeast\", \"southwest\", \"southwest\", \"southwest\", \"southeast\", \"southwest\", \"northwest\", \"northwest\", \"northwest\", \"northeast\", \"northeast\", \"southwest\", \"southeast\", \"southwest\", \"northeast\", \"southeast\", \"southwest\", \"northeast\", \"southwest\", \"southwest\", \"northwest\", \"northwest\", \"southeast\", \"southeast\", \"southeast\", \"southwest\", \"northeast\", \"northwest\", \"northeast\", \"northwest\", \"southeast\", \"northwest\", \"northeast\", \"southeast\", \"southwest\", \"northeast\", \"northeast\", \"southwest\", \"southwest\", \"southeast\", \"northeast\", \"southwest\", \"southeast\", \"northwest\", \"northeast\", \"southwest\", \"northeast\", \"southeast\", \"northwest\", \"northwest\", \"southeast\", \"northwest\", \"southwest\", \"southwest\", \"northeast\", \"southeast\", \"northeast\", \"northwest\", \"southwest\", \"southwest\", \"northwest\", \"northwest\", \"southwest\", \"southwest\", \"northwest\", \"northeast\", \"southwest\", \"southeast\", \"northeast\", \"northwest\", \"northwest\", \"northeast\", \"southeast\", \"southeast\", \"northwest\", \"northeast\", \"northeast\", \"southeast\", \"northeast\", \"southwest\", \"southeast\", \"southwest\", \"southwest\", \"northwest\", \"northeast\", \"southeast\", \"southwest\", \"northwest\"]}, {\"axis\": {\"matches\": true}, \"label\": \"charges\", \"values\": [16884.924, 1725.5523, 4449.462, 21984.47061, 3866.8552, 3756.6216, 8240.5896, 7281.5056, 6406.4107, 28923.136919999997, 2721.3208, 27808.7251, 1826.8429999999998, 11090.7178, 39611.7577, 1837.237, 10797.3362, 2395.17155, 10602.385, 36837.467000000004, 13228.84695, 4149.736, 1137.011, 37701.8768, 6203.90175, 14001.1338, 14451.83515, 12268.63225, 2775.19215, 38711.0, 35585.576, 2198.18985, 4687.7970000000005, 13770.0979, 51194.55914, 1625.43375, 15612.19335, 2302.3, 39774.2763, 48173.361, 3046.062, 4949.7587, 6272.4772, 6313.759, 6079.6715, 20630.28351, 3393.35635, 3556.9223, 12629.8967, 38709.176, 2211.13075, 3579.8287, 23568.272, 37742.5757, 8059.6791, 47496.49445, 13607.36875, 34303.1672, 23244.7902, 5989.52365, 8606.2174, 4504.6624, 30166.618169999998, 4133.64165, 14711.7438, 1743.214, 14235.072, 6389.37785, 5920.1041, 17663.1442, 16577.7795, 6799.4580000000005, 11741.726, 11946.6259, 7726.854, 11356.6609, 3947.4131, 1532.4697, 2755.02095, 6571.02435, 4441.21315, 7935.29115, 37165.1638, 11033.6617, 39836.519, 21098.55405, 43578.9394, 11073.176000000001, 8026.6666, 11082.5772, 2026.9741, 10942.13205, 30184.9367, 5729.0053, 47291.055, 3766.8838, 12105.32, 10226.2842, 22412.6485, 15820.698999999999, 6186.1269999999995, 3645.0894, 21344.8467, 30942.1918, 5003.853, 17560.37975, 2331.519, 3877.30425, 2867.1196, 47055.5321, 10825.2537, 11881.358, 4646.759, 2404.7338, 11488.31695, 30259.995560000003, 11381.3254, 19107.7796, 8601.3293, 6686.4313, 7740.3369999999995, 1705.6245, 2257.47525, 39556.4945, 10115.00885, 3385.39915, 17081.08, 9634.538, 32734.1863, 6082.405, 12815.44495, 13616.3586, 11163.568000000001, 1632.56445, 2457.21115, 2155.6815, 1261.442, 2045.68525, 27322.733860000004, 2166.732, 27375.90478, 3490.5491, 18972.495, 18157.876, 20745.9891, 5138.2567, 40720.55105, 9877.6077, 10959.6947, 1842.519, 5125.2157, 7789.635, 6334.34355, 19964.7463, 7077.1894, 6948.7008, 21223.6758, 15518.18025, 36950.2567, 19749.383380000003, 21348.706000000002, 36149.4835, 10450.552, 5152.134, 5028.1466, 10407.08585, 4830.63, 6128.79745, 2719.27975, 4827.90495, 13405.3903, 8116.68, 1694.7964, 5246.047, 2855.43755, 48824.45, 6455.86265, 10436.096, 8823.279, 8538.28845, 11735.87905, 1631.8212, 4005.4225, 7419.4779, 7731.4271, 43753.33705, 3981.9768, 5325.651, 6775.960999999999, 4922.9159, 12557.6053, 4883.866, 2137.6536, 12044.341999999999, 1137.4697, 1639.5631, 5649.715, 8516.829, 9644.2525, 14901.5167, 2130.6759, 8871.1517, 13012.20865, 37133.8982, 7147.105, 4337.7352, 11743.298999999999, 20984.0936, 13880.948999999999, 6610.1097, 1980.07, 8162.71625, 3537.703, 5002.7827, 8520.026, 7371.772, 10355.641, 2483.736, 3392.9768, 25081.76784, 5012.471, 10564.8845, 5253.524, 34779.615, 19515.5416, 11987.1682, 2689.4954, 24227.33724, 7358.17565, 9225.2564, 7443.64305, 14001.2867, 1727.785, 12333.828000000001, 6710.1919, 19444.2658, 1615.7667, 4463.2051, 17352.6803, 7152.6714, 38511.6283, 5354.07465, 35160.13457, 7196.866999999999, 29523.1656, 24476.47851, 12648.7034, 1986.9334, 1832.094, 4040.55825, 12829.4551, 47305.305, 44260.7499, 4260.744000000001, 41097.16175, 13047.33235, 43921.1837, 5400.9805, 11520.09985, 33750.2918, 11837.16, 17085.2676, 24869.8368, 36219.40545, 20462.99766, 46151.1245, 17179.522, 14590.63205, 7441.053000000001, 9282.4806, 1719.4363, 42856.837999999996, 7265.7025, 9617.66245, 2523.1695, 9715.841, 2803.69785, 2150.469, 12928.7911, 9855.1314, 22331.5668, 48549.17835, 4237.12655, 11879.10405, 9625.92, 7742.1098, 9432.9253, 14256.1928, 47896.79135, 25992.82104, 3172.018, 20277.80751, 42112.2356, 2156.7518, 3906.127, 1704.5681, 16297.846000000001, 21978.6769, 38746.3551, 9249.4952, 6746.7425, 24873.3849, 12265.5069, 4349.462, 12646.207, 19442.3535, 20177.671130000002, 4151.0287, 11944.59435, 7749.1564, 8444.474, 1737.376, 42124.5153, 8124.4084, 34838.873, 9722.7695, 8835.26495, 10435.06525, 7421.19455, 4667.60765, 4894.7533, 24671.66334, 35491.64, 11566.30055, 2866.091, 6600.20595, 3561.8889, 42760.5022, 47928.03, 9144.565, 48517.56315, 24393.6224, 13429.0354, 11658.37915, 19144.57652, 13822.803, 12142.5786, 13937.6665, 41919.097, 8232.6388, 18955.22017, 13352.0998, 13217.0945, 13981.85035, 10977.2063, 6184.2994, 4889.9995, 8334.45755, 5478.0368, 1635.73365, 11830.6072, 8932.084, 3554.203, 12404.8791, 14133.03775, 24603.04837, 8944.1151, 9620.3307, 1837.2819, 1607.5101, 10043.249, 4751.07, 13844.506000000001, 2597.779, 3180.5101, 9778.3472, 13430.265, 8017.06115, 8116.26885, 3481.868, 13415.0381, 12029.2867, 7639.41745, 36085.219, 1391.5287, 18033.9679, 21659.9301, 38126.2465, 16455.70785, 27000.98473, 15006.57945, 42303.69215, 20781.48892, 5846.9176, 8302.53565, 1261.859, 11856.4115, 30284.642939999998, 3176.8159, 4618.0799, 10736.87075, 2138.0707, 8964.06055, 9290.1395, 9411.005, 7526.70645, 8522.003, 16586.49771, 14988.431999999999, 1631.6683, 9264.796999999999, 8083.9198, 14692.66935, 10269.46, 3260.199, 11396.9002, 4185.0979, 8539.671, 6652.5288, 4074.4537, 1621.3402, 19594.80965, 14455.64405, 5080.096, 2134.9015, 7345.7266, 9140.951, 18608.262, 14418.2804, 28950.4692, 46889.2612, 46599.1084, 39125.33225, 2727.3951, 8968.33, 9788.8659, 6555.07035, 7323.734818999999, 3167.45585, 18804.7524, 23082.95533, 4906.40965, 5969.723000000001, 12638.195, 4243.59005, 13919.8229, 2254.7967, 5926.846, 12592.5345, 2897.3235, 4738.2682, 37079.372, 1149.3959, 28287.897660000002, 26109.32905, 7345.084, 12730.9996, 11454.0215, 5910.944, 4762.329000000001, 7512.267, 4032.2407, 1969.614, 1769.53165, 4686.3887, 21797.0004, 11881.9696, 11840.77505, 10601.412, 7682.67, 10381.4787, 22144.032000000003, 15230.32405, 11165.41765, 1632.03625, 19521.9682, 13224.693000000001, 12643.3778, 23288.9284, 2201.0971, 2497.0383, 2203.47185, 1744.465, 20878.78443, 25382.297000000002, 28868.6639, 35147.52848, 2534.39375, 1534.3045, 1824.2854, 15555.18875, 9304.7019, 1622.1885, 9880.068000000001, 9563.029, 4347.02335, 12475.3513, 1253.9360000000001, 48885.135610000005, 10461.9794, 1748.774, 24513.09126, 2196.4732, 12574.048999999999, 17942.106, 1967.0227, 4931.647, 8027.968000000001, 8211.1002, 13470.86, 36197.699, 6837.3687, 22218.1149, 32548.3405, 5974.3847, 6796.86325, 2643.2685, 3077.0955, 3044.2133, 11455.28, 11763.0009, 2498.4144, 9361.3268, 1256.299, 21082.16, 11362.755, 27724.28875, 8413.46305, 5240.765, 3857.75925, 25656.575259999998, 3994.1778, 9866.30485, 5397.6167, 38245.59327, 11482.63485, 24059.68019, 9861.025, 8342.90875, 1708.0014, 48675.5177, 14043.4767, 12925.886, 19214.705530000003, 13831.1152, 6067.12675, 5972.378000000001, 8825.086, 8233.0975, 27346.04207, 6196.448, 3056.3881, 13887.204, 63770.42801, 10231.4999, 23807.2406, 3268.84665, 11538.421, 3213.62205, 45863.205, 13390.559, 3972.9247, 12957.118, 11187.6567, 17878.900680000002, 3847.6740000000004, 8334.5896, 3935.1799, 39983.42595, 1646.4297, 9193.8385, 10923.9332, 2494.022, 9058.7303, 2801.2588, 2128.43105, 6373.55735, 7256.7231, 11552.903999999999, 45702.02235, 3761.292, 2219.4451, 4753.6368, 31620.001060000002, 13224.05705, 12222.8983, 1664.9996, 58571.074479999996, 9724.53, 3206.49135, 12913.9924, 1639.5631, 6356.2707, 17626.23951, 1242.816, 4779.6023, 3861.20965, 43943.8761, 13635.6379, 5976.8311, 11842.442, 8428.0693, 2566.4707, 15359.1045, 5709.1644, 8823.98575, 7640.3092, 5594.8455, 7441.501, 33471.97189, 1633.0444, 9174.13565, 11070.535, 16085.1275, 17468.9839, 9283.562, 3558.62025, 25678.77845, 4435.0942, 39241.442, 8547.6913, 6571.544, 2207.69745, 6753.0380000000005, 1880.07, 42969.8527, 11658.11505, 23306.547000000002, 34439.8559, 10713.643999999998, 3659.3459999999995, 40182.246, 9182.17, 34617.84065, 12129.61415, 3736.4647, 6748.5912, 11326.71487, 11365.952, 42983.4585, 10085.846, 1977.815, 3366.6697, 7173.35995, 9391.346, 14410.9321, 2709.1119, 24915.04626, 20149.3229, 12949.1554, 6666.243, 32787.458589999995, 13143.86485, 4466.6214, 18806.14547, 10141.1362, 6123.5688, 8252.2843, 1712.227, 12430.95335, 9800.8882, 10579.711000000001, 8280.6227, 8527.532, 12244.531, 24667.418999999998, 3410.324, 4058.71245, 26392.260290000002, 14394.39815, 6435.6237, 22192.43711, 5148.5526, 1136.3994, 27037.9141, 42560.4304, 8703.456, 40003.33225, 45710.20785, 6500.2359, 4837.5823, 3943.5954, 4399.731, 6185.3208, 46200.9851, 7222.78625, 12485.8009, 46130.5265, 12363.546999999999, 10156.7832, 2585.269, 1242.26, 40103.89, 9863.4718, 4766.022, 11244.3769, 7729.64575, 5438.7491, 26236.57997, 34806.4677, 2104.1134, 8068.185, 2362.22905, 2352.96845, 3577.9990000000003, 3201.24515, 29186.48236, 40273.6455, 10976.24575, 3500.6123, 2020.5523, 9541.69555, 9504.3103, 5385.3379, 8930.93455, 5375.0380000000005, 44400.4064, 10264.4421, 6113.23105, 5469.0066, 1727.54, 10107.2206, 8310.83915, 1984.4533, 2457.502, 12146.971000000001, 9566.9909, 13112.6048, 10848.1343, 12231.6136, 9875.6804, 11264.541000000001, 12979.358, 1263.249, 10106.13425, 40932.4295, 6664.68595, 16657.71745, 2217.6012, 6781.3542, 19361.9988, 10065.413, 4234.927, 9447.25035, 14007.222, 9583.8933, 40419.0191, 3484.3309999999997, 36189.1017, 44585.45587, 8604.48365, 18246.4955, 43254.41795, 3757.8448, 8827.2099, 9910.35985, 11737.84884, 1627.28245, 8556.907, 3062.50825, 19539.243000000002, 1906.35825, 14210.53595, 11833.7823, 17128.42608, 5031.26955, 7985.815, 23065.4207, 5428.7277, 36307.7983, 3925.7582, 2416.955, 19040.876, 3070.8087, 9095.06825, 11842.62375, 8062.764, 7050.642, 14319.031, 6933.24225, 27941.28758, 11150.78, 12797.20962, 17748.5062, 7261.741, 10560.4917, 6986.696999999999, 7448.40395, 5934.3798, 9869.8102, 18259.216, 1146.7966, 9386.1613, 24520.264, 4350.5144, 6414.178000000001, 12741.16745, 1917.3184, 5209.57885, 13457.9608, 5662.225, 1252.407, 2731.9122, 21195.818, 7209.4918, 18310.742, 4266.1658, 4719.52405, 11848.141000000001, 17904.52705, 7046.7222, 14313.8463, 2103.08, 38792.6856, 1815.8759, 7731.85785, 28476.734989999997, 2136.88225, 1131.5066, 3309.7926, 9414.92, 6360.9936, 11013.7119, 4428.88785, 5584.3057, 1877.9294, 2842.76075, 3597.5959999999995, 23401.30575, 55135.402089999996, 7445.918000000001, 2680.9493, 1621.8827, 8219.2039, 12523.6048, 16069.08475, 43813.8661, 20773.62775, 39597.4072, 6117.4945, 13393.756000000001, 5266.3656, 4719.73655, 11743.9341, 5377.4578, 7160.3303, 4402.233, 11657.7189, 6402.29135, 12622.1795, 1526.3120000000001, 12323.936000000002, 36021.0112, 27533.9129, 10072.05505, 45008.9555, 9872.701, 2438.0552, 2974.1259999999997, 10601.63225, 37270.1512, 14119.62, 42111.6647, 11729.6795, 24106.91255, 1875.344, 40974.1649, 15817.9857, 18218.16139, 10965.446000000002, 46113.511, 7151.092, 12269.68865, 5458.04645, 8782.469000000001, 6600.361, 1141.4451, 11576.13, 13129.60345, 4391.652, 8457.818000000001, 3392.3652, 5966.8874, 6849.026, 8891.1395, 2690.1138, 26140.3603, 6653.7886, 6282.235, 6311.951999999999, 3443.0640000000003, 2789.0574, 2585.85065, 46255.1125, 4877.98105, 19719.6947, 27218.43725, 5272.1758, 1682.5970000000002, 11945.1327, 29330.98315, 7243.8136, 10422.91665, 44202.6536, 13555.0049, 13063.883, 19798.05455, 2221.56445, 1634.5734, 2117.33885, 8688.85885, 48673.5588, 4661.28635, 8125.7845, 12644.589, 4564.19145, 4846.92015, 7633.7206, 15170.069, 17496.306, 2639.0429, 33732.6867, 14382.70905, 7626.993, 5257.50795, 2473.3341, 21774.32215, 35069.37452, 13041.921, 5245.2269, 13451.122, 13462.52, 5488.262, 4320.41085, 6250.435, 25333.33284, 2913.5690000000004, 12032.326000000001, 13470.8044, 6289.7549, 2927.0647, 6238.298000000001, 10096.97, 7348.142, 4673.3922, 12233.828000000001, 32108.662819999998, 8965.79575, 2304.0022, 9487.6442, 1121.8739, 9549.5651, 2217.46915, 1628.4709, 12982.8747, 11674.13, 7160.094, 39047.285, 6358.77645, 19933.458, 11534.87265, 47462.894, 4527.18295, 38998.546, 20009.63365, 3875.7341, 41999.52, 12609.88702, 41034.2214, 28468.91901, 2730.10785, 3353.284, 14474.675, 9500.57305, 26467.09737, 4746.344, 23967.38305, 7518.02535, 3279.86855, 8596.8278, 10702.6424, 4992.3764, 2527.81865, 1759.338, 2322.6218, 16138.76205, 7804.1605, 2902.9065, 9704.66805, 4889.0368, 25517.11363, 4500.33925, 19199.944, 16796.41194, 4915.05985, 7624.63, 8410.04685, 28340.18885, 4518.82625, 14571.8908, 3378.91, 7144.86265, 10118.424, 5484.4673, 16420.49455, 7986.47525, 7418.522, 13887.9685, 6551.7501, 5267.81815, 17361.7661, 34472.841, 1972.95, 21232.182259999998, 8627.5411, 4433.3877, 4438.2634, 24915.22085, 23241.47453, 9957.7216, 8269.044, 18767.7377, 36580.28216, 8765.249, 5383.536, 12124.9924, 2709.24395, 3987.926, 12495.29085, 26018.95052, 8798.593, 35595.5898, 42211.1382, 1711.0268, 8569.8618, 2020.1770000000001, 16450.8947, 21595.38229, 9850.431999999999, 6877.9801, 21677.28345, 44423.803, 4137.5227, 13747.87235, 12950.0712, 12094.478000000001, 37484.4493, 39725.51805, 2250.8352, 22493.65964, 20234.85475, 1704.70015, 33475.81715, 3161.454, 11394.06555, 21880.82, 7325.0482, 44501.3982, 3594.17085, 39727.614, 8023.13545, 14394.5579, 9288.0267, 25309.488999999998, 3353.4703, 10594.50155, 8277.523000000001, 17929.303369999998, 2480.9791, 4462.7218, 1981.5819, 11554.2236, 48970.2476, 6548.19505, 5708.866999999999, 7045.499, 8978.1851, 5757.41345, 14349.8544, 10928.848999999998, 39871.7043, 13974.45555, 1909.52745, 12096.6512, 13204.28565, 4562.8421, 8551.347, 2102.2647, 34672.1472, 15161.5344, 11884.04858, 4454.40265, 5855.9025, 4076.4970000000003, 15019.76005, 19023.26, 10796.35025, 11353.2276, 9748.9106, 10577.087, 41676.0811, 11286.5387, 3591.48, 33907.547999999995, 11299.343, 4561.1885, 44641.1974, 1674.6323, 23045.56616, 3227.1211, 16776.30405, 11253.421, 3471.4096, 11363.2832, 20420.60465, 10338.9316, 8988.15875, 10493.9458, 2904.0879999999997, 8605.3615, 11512.405, 41949.2441, 24180.9335, 5312.16985, 2396.0959, 10807.4863, 9222.4026, 36124.5737, 38282.7495, 5693.4305, 34166.273, 8347.1643, 46661.4424, 18903.49141, 40904.1995, 14254.6082, 10214.636, 5836.5204, 14358.36437, 1728.8970000000002, 8582.3023, 3693.428, 20709.02034, 9991.03765, 19673.335730000003, 11085.5868, 7623.518, 3176.2877, 3704.3545, 36898.73308, 9048.0273, 7954.517, 27117.99378, 6338.0756, 9630.396999999999, 11289.10925, 52590.82939, 2261.5688, 10791.96, 5979.731, 2203.73595, 12235.8392, 40941.2854, 5630.45785, 11015.1747, 7228.21565, 39722.7462, 14426.07385, 2459.7201, 3989.841, 7727.2532, 5124.1887, 18963.171919999997, 2200.83085, 7153.5539, 5227.98875, 10982.5013, 4529.477, 4670.64, 6112.35295, 17178.6824, 22478.6, 11093.6229, 6457.8434, 4433.9159, 2154.361, 23887.6627, 6496.8859999999995, 2899.48935, 19350.3689, 7650.77375, 2850.68375, 2632.992, 9447.3824, 18328.2381, 8603.8234, 37465.34375, 13844.7972, 21771.3423, 13126.67745, 5327.40025, 13725.47184, 13019.16105, 8671.19125, 4134.08245, 18838.70366, 33307.5508, 5699.8375, 6393.60345, 4934.705, 6198.7518, 8733.22925, 2055.3249, 9964.06, 18223.4512, 5116.5004, 36910.60803, 38415.474, 20296.86345, 12347.171999999999, 5373.36425, 23563.016180000002, 1702.4553, 10806.839, 3956.07145, 12890.05765, 5415.6612, 4058.1161, 41661.602, 7537.1639, 4718.20355, 6593.5083, 8442.667, 26125.674769999998, 6858.4796, 4795.6568, 6640.54485, 7162.0122, 10594.2257, 11938.25595, 60021.39897, 20167.336030000002, 12479.70895, 11345.518999999998, 8515.7587, 2699.56835, 14449.8544, 12224.35085, 6985.50695, 3238.4357, 47269.85400000001, 49577.6624, 4296.2712, 3171.6149, 1135.9407, 5615.369000000001, 9101.798, 6059.173000000001, 1633.9618, 37607.5277, 18648.4217, 1241.565, 16232.847, 15828.821730000001, 4415.1588, 6474.013000000001, 11436.73815, 11305.93455, 30063.58055, 10197.7722, 4544.2348, 3277.1609999999996, 6770.1925, 7337.7480000000005, 10370.91255, 26926.5144, 10704.47, 34254.05335, 1880.487, 8615.3, 3292.52985, 3021.80915, 14478.33015, 4747.0529, 17043.3414, 10959.33, 2741.948, 4357.04365, 22462.04375, 4189.1131, 8283.6807, 24535.69855, 14283.4594, 1720.3537, 47403.88, 8534.6718, 3732.6251, 5472.4490000000005, 38344.566, 7147.4728, 7133.9025, 34828.654, 1515.3449, 9301.89355, 11931.12525, 1964.78, 1708.92575, 4340.4409, 5261.46945, 2710.82855, 62592.87309, 46718.16325, 3208.7870000000003, 37829.7242, 21259.37795, 2464.6188, 16115.3045, 21472.4788, 33900.653, 6875.960999999999, 6940.90985, 4571.41305, 4536.259, 36397.576, 18765.87545, 11272.331390000001, 1731.6770000000001, 1163.4627, 19496.71917, 7201.70085, 5425.02335, 28101.33305, 12981.3457, 43896.3763, 4239.89265, 13143.33665, 7050.0213, 9377.9047, 22395.74424, 10325.206, 12629.1656, 10795.937329999999, 11411.685, 10600.5483, 2205.9808, 1629.8335, 2007.945, 29141.3603]}], \"hoverlabel\": {\"namelength\": 0}, \"hovertemplate\": \"%{xaxis.title.text}=%{x}<br>%{yaxis.title.text}=%{y}<br>charges=%{marker.color}\", \"legendgroup\": \"\", \"marker\": {\"color\": [16884.924, 1725.5523, 4449.462, 21984.47061, 3866.8552, 3756.6216, 8240.5896, 7281.5056, 6406.4107, 28923.136919999997, 2721.3208, 27808.7251, 1826.8429999999998, 11090.7178, 39611.7577, 1837.237, 10797.3362, 2395.17155, 10602.385, 36837.467000000004, 13228.84695, 4149.736, 1137.011, 37701.8768, 6203.90175, 14001.1338, 14451.83515, 12268.63225, 2775.19215, 38711.0, 35585.576, 2198.18985, 4687.7970000000005, 13770.0979, 51194.55914, 1625.43375, 15612.19335, 2302.3, 39774.2763, 48173.361, 3046.062, 4949.7587, 6272.4772, 6313.759, 6079.6715, 20630.28351, 3393.35635, 3556.9223, 12629.8967, 38709.176, 2211.13075, 3579.8287, 23568.272, 37742.5757, 8059.6791, 47496.49445, 13607.36875, 34303.1672, 23244.7902, 5989.52365, 8606.2174, 4504.6624, 30166.618169999998, 4133.64165, 14711.7438, 1743.214, 14235.072, 6389.37785, 5920.1041, 17663.1442, 16577.7795, 6799.4580000000005, 11741.726, 11946.6259, 7726.854, 11356.6609, 3947.4131, 1532.4697, 2755.02095, 6571.02435, 4441.21315, 7935.29115, 37165.1638, 11033.6617, 39836.519, 21098.55405, 43578.9394, 11073.176000000001, 8026.6666, 11082.5772, 2026.9741, 10942.13205, 30184.9367, 5729.0053, 47291.055, 3766.8838, 12105.32, 10226.2842, 22412.6485, 15820.698999999999, 6186.1269999999995, 3645.0894, 21344.8467, 30942.1918, 5003.853, 17560.37975, 2331.519, 3877.30425, 2867.1196, 47055.5321, 10825.2537, 11881.358, 4646.759, 2404.7338, 11488.31695, 30259.995560000003, 11381.3254, 19107.7796, 8601.3293, 6686.4313, 7740.3369999999995, 1705.6245, 2257.47525, 39556.4945, 10115.00885, 3385.39915, 17081.08, 9634.538, 32734.1863, 6082.405, 12815.44495, 13616.3586, 11163.568000000001, 1632.56445, 2457.21115, 2155.6815, 1261.442, 2045.68525, 27322.733860000004, 2166.732, 27375.90478, 3490.5491, 18972.495, 18157.876, 20745.9891, 5138.2567, 40720.55105, 9877.6077, 10959.6947, 1842.519, 5125.2157, 7789.635, 6334.34355, 19964.7463, 7077.1894, 6948.7008, 21223.6758, 15518.18025, 36950.2567, 19749.383380000003, 21348.706000000002, 36149.4835, 10450.552, 5152.134, 5028.1466, 10407.08585, 4830.63, 6128.79745, 2719.27975, 4827.90495, 13405.3903, 8116.68, 1694.7964, 5246.047, 2855.43755, 48824.45, 6455.86265, 10436.096, 8823.279, 8538.28845, 11735.87905, 1631.8212, 4005.4225, 7419.4779, 7731.4271, 43753.33705, 3981.9768, 5325.651, 6775.960999999999, 4922.9159, 12557.6053, 4883.866, 2137.6536, 12044.341999999999, 1137.4697, 1639.5631, 5649.715, 8516.829, 9644.2525, 14901.5167, 2130.6759, 8871.1517, 13012.20865, 37133.8982, 7147.105, 4337.7352, 11743.298999999999, 20984.0936, 13880.948999999999, 6610.1097, 1980.07, 8162.71625, 3537.703, 5002.7827, 8520.026, 7371.772, 10355.641, 2483.736, 3392.9768, 25081.76784, 5012.471, 10564.8845, 5253.524, 34779.615, 19515.5416, 11987.1682, 2689.4954, 24227.33724, 7358.17565, 9225.2564, 7443.64305, 14001.2867, 1727.785, 12333.828000000001, 6710.1919, 19444.2658, 1615.7667, 4463.2051, 17352.6803, 7152.6714, 38511.6283, 5354.07465, 35160.13457, 7196.866999999999, 29523.1656, 24476.47851, 12648.7034, 1986.9334, 1832.094, 4040.55825, 12829.4551, 47305.305, 44260.7499, 4260.744000000001, 41097.16175, 13047.33235, 43921.1837, 5400.9805, 11520.09985, 33750.2918, 11837.16, 17085.2676, 24869.8368, 36219.40545, 20462.99766, 46151.1245, 17179.522, 14590.63205, 7441.053000000001, 9282.4806, 1719.4363, 42856.837999999996, 7265.7025, 9617.66245, 2523.1695, 9715.841, 2803.69785, 2150.469, 12928.7911, 9855.1314, 22331.5668, 48549.17835, 4237.12655, 11879.10405, 9625.92, 7742.1098, 9432.9253, 14256.1928, 47896.79135, 25992.82104, 3172.018, 20277.80751, 42112.2356, 2156.7518, 3906.127, 1704.5681, 16297.846000000001, 21978.6769, 38746.3551, 9249.4952, 6746.7425, 24873.3849, 12265.5069, 4349.462, 12646.207, 19442.3535, 20177.671130000002, 4151.0287, 11944.59435, 7749.1564, 8444.474, 1737.376, 42124.5153, 8124.4084, 34838.873, 9722.7695, 8835.26495, 10435.06525, 7421.19455, 4667.60765, 4894.7533, 24671.66334, 35491.64, 11566.30055, 2866.091, 6600.20595, 3561.8889, 42760.5022, 47928.03, 9144.565, 48517.56315, 24393.6224, 13429.0354, 11658.37915, 19144.57652, 13822.803, 12142.5786, 13937.6665, 41919.097, 8232.6388, 18955.22017, 13352.0998, 13217.0945, 13981.85035, 10977.2063, 6184.2994, 4889.9995, 8334.45755, 5478.0368, 1635.73365, 11830.6072, 8932.084, 3554.203, 12404.8791, 14133.03775, 24603.04837, 8944.1151, 9620.3307, 1837.2819, 1607.5101, 10043.249, 4751.07, 13844.506000000001, 2597.779, 3180.5101, 9778.3472, 13430.265, 8017.06115, 8116.26885, 3481.868, 13415.0381, 12029.2867, 7639.41745, 36085.219, 1391.5287, 18033.9679, 21659.9301, 38126.2465, 16455.70785, 27000.98473, 15006.57945, 42303.69215, 20781.48892, 5846.9176, 8302.53565, 1261.859, 11856.4115, 30284.642939999998, 3176.8159, 4618.0799, 10736.87075, 2138.0707, 8964.06055, 9290.1395, 9411.005, 7526.70645, 8522.003, 16586.49771, 14988.431999999999, 1631.6683, 9264.796999999999, 8083.9198, 14692.66935, 10269.46, 3260.199, 11396.9002, 4185.0979, 8539.671, 6652.5288, 4074.4537, 1621.3402, 19594.80965, 14455.64405, 5080.096, 2134.9015, 7345.7266, 9140.951, 18608.262, 14418.2804, 28950.4692, 46889.2612, 46599.1084, 39125.33225, 2727.3951, 8968.33, 9788.8659, 6555.07035, 7323.734818999999, 3167.45585, 18804.7524, 23082.95533, 4906.40965, 5969.723000000001, 12638.195, 4243.59005, 13919.8229, 2254.7967, 5926.846, 12592.5345, 2897.3235, 4738.2682, 37079.372, 1149.3959, 28287.897660000002, 26109.32905, 7345.084, 12730.9996, 11454.0215, 5910.944, 4762.329000000001, 7512.267, 4032.2407, 1969.614, 1769.53165, 4686.3887, 21797.0004, 11881.9696, 11840.77505, 10601.412, 7682.67, 10381.4787, 22144.032000000003, 15230.32405, 11165.41765, 1632.03625, 19521.9682, 13224.693000000001, 12643.3778, 23288.9284, 2201.0971, 2497.0383, 2203.47185, 1744.465, 20878.78443, 25382.297000000002, 28868.6639, 35147.52848, 2534.39375, 1534.3045, 1824.2854, 15555.18875, 9304.7019, 1622.1885, 9880.068000000001, 9563.029, 4347.02335, 12475.3513, 1253.9360000000001, 48885.135610000005, 10461.9794, 1748.774, 24513.09126, 2196.4732, 12574.048999999999, 17942.106, 1967.0227, 4931.647, 8027.968000000001, 8211.1002, 13470.86, 36197.699, 6837.3687, 22218.1149, 32548.3405, 5974.3847, 6796.86325, 2643.2685, 3077.0955, 3044.2133, 11455.28, 11763.0009, 2498.4144, 9361.3268, 1256.299, 21082.16, 11362.755, 27724.28875, 8413.46305, 5240.765, 3857.75925, 25656.575259999998, 3994.1778, 9866.30485, 5397.6167, 38245.59327, 11482.63485, 24059.68019, 9861.025, 8342.90875, 1708.0014, 48675.5177, 14043.4767, 12925.886, 19214.705530000003, 13831.1152, 6067.12675, 5972.378000000001, 8825.086, 8233.0975, 27346.04207, 6196.448, 3056.3881, 13887.204, 63770.42801, 10231.4999, 23807.2406, 3268.84665, 11538.421, 3213.62205, 45863.205, 13390.559, 3972.9247, 12957.118, 11187.6567, 17878.900680000002, 3847.6740000000004, 8334.5896, 3935.1799, 39983.42595, 1646.4297, 9193.8385, 10923.9332, 2494.022, 9058.7303, 2801.2588, 2128.43105, 6373.55735, 7256.7231, 11552.903999999999, 45702.02235, 3761.292, 2219.4451, 4753.6368, 31620.001060000002, 13224.05705, 12222.8983, 1664.9996, 58571.074479999996, 9724.53, 3206.49135, 12913.9924, 1639.5631, 6356.2707, 17626.23951, 1242.816, 4779.6023, 3861.20965, 43943.8761, 13635.6379, 5976.8311, 11842.442, 8428.0693, 2566.4707, 15359.1045, 5709.1644, 8823.98575, 7640.3092, 5594.8455, 7441.501, 33471.97189, 1633.0444, 9174.13565, 11070.535, 16085.1275, 17468.9839, 9283.562, 3558.62025, 25678.77845, 4435.0942, 39241.442, 8547.6913, 6571.544, 2207.69745, 6753.0380000000005, 1880.07, 42969.8527, 11658.11505, 23306.547000000002, 34439.8559, 10713.643999999998, 3659.3459999999995, 40182.246, 9182.17, 34617.84065, 12129.61415, 3736.4647, 6748.5912, 11326.71487, 11365.952, 42983.4585, 10085.846, 1977.815, 3366.6697, 7173.35995, 9391.346, 14410.9321, 2709.1119, 24915.04626, 20149.3229, 12949.1554, 6666.243, 32787.458589999995, 13143.86485, 4466.6214, 18806.14547, 10141.1362, 6123.5688, 8252.2843, 1712.227, 12430.95335, 9800.8882, 10579.711000000001, 8280.6227, 8527.532, 12244.531, 24667.418999999998, 3410.324, 4058.71245, 26392.260290000002, 14394.39815, 6435.6237, 22192.43711, 5148.5526, 1136.3994, 27037.9141, 42560.4304, 8703.456, 40003.33225, 45710.20785, 6500.2359, 4837.5823, 3943.5954, 4399.731, 6185.3208, 46200.9851, 7222.78625, 12485.8009, 46130.5265, 12363.546999999999, 10156.7832, 2585.269, 1242.26, 40103.89, 9863.4718, 4766.022, 11244.3769, 7729.64575, 5438.7491, 26236.57997, 34806.4677, 2104.1134, 8068.185, 2362.22905, 2352.96845, 3577.9990000000003, 3201.24515, 29186.48236, 40273.6455, 10976.24575, 3500.6123, 2020.5523, 9541.69555, 9504.3103, 5385.3379, 8930.93455, 5375.0380000000005, 44400.4064, 10264.4421, 6113.23105, 5469.0066, 1727.54, 10107.2206, 8310.83915, 1984.4533, 2457.502, 12146.971000000001, 9566.9909, 13112.6048, 10848.1343, 12231.6136, 9875.6804, 11264.541000000001, 12979.358, 1263.249, 10106.13425, 40932.4295, 6664.68595, 16657.71745, 2217.6012, 6781.3542, 19361.9988, 10065.413, 4234.927, 9447.25035, 14007.222, 9583.8933, 40419.0191, 3484.3309999999997, 36189.1017, 44585.45587, 8604.48365, 18246.4955, 43254.41795, 3757.8448, 8827.2099, 9910.35985, 11737.84884, 1627.28245, 8556.907, 3062.50825, 19539.243000000002, 1906.35825, 14210.53595, 11833.7823, 17128.42608, 5031.26955, 7985.815, 23065.4207, 5428.7277, 36307.7983, 3925.7582, 2416.955, 19040.876, 3070.8087, 9095.06825, 11842.62375, 8062.764, 7050.642, 14319.031, 6933.24225, 27941.28758, 11150.78, 12797.20962, 17748.5062, 7261.741, 10560.4917, 6986.696999999999, 7448.40395, 5934.3798, 9869.8102, 18259.216, 1146.7966, 9386.1613, 24520.264, 4350.5144, 6414.178000000001, 12741.16745, 1917.3184, 5209.57885, 13457.9608, 5662.225, 1252.407, 2731.9122, 21195.818, 7209.4918, 18310.742, 4266.1658, 4719.52405, 11848.141000000001, 17904.52705, 7046.7222, 14313.8463, 2103.08, 38792.6856, 1815.8759, 7731.85785, 28476.734989999997, 2136.88225, 1131.5066, 3309.7926, 9414.92, 6360.9936, 11013.7119, 4428.88785, 5584.3057, 1877.9294, 2842.76075, 3597.5959999999995, 23401.30575, 55135.402089999996, 7445.918000000001, 2680.9493, 1621.8827, 8219.2039, 12523.6048, 16069.08475, 43813.8661, 20773.62775, 39597.4072, 6117.4945, 13393.756000000001, 5266.3656, 4719.73655, 11743.9341, 5377.4578, 7160.3303, 4402.233, 11657.7189, 6402.29135, 12622.1795, 1526.3120000000001, 12323.936000000002, 36021.0112, 27533.9129, 10072.05505, 45008.9555, 9872.701, 2438.0552, 2974.1259999999997, 10601.63225, 37270.1512, 14119.62, 42111.6647, 11729.6795, 24106.91255, 1875.344, 40974.1649, 15817.9857, 18218.16139, 10965.446000000002, 46113.511, 7151.092, 12269.68865, 5458.04645, 8782.469000000001, 6600.361, 1141.4451, 11576.13, 13129.60345, 4391.652, 8457.818000000001, 3392.3652, 5966.8874, 6849.026, 8891.1395, 2690.1138, 26140.3603, 6653.7886, 6282.235, 6311.951999999999, 3443.0640000000003, 2789.0574, 2585.85065, 46255.1125, 4877.98105, 19719.6947, 27218.43725, 5272.1758, 1682.5970000000002, 11945.1327, 29330.98315, 7243.8136, 10422.91665, 44202.6536, 13555.0049, 13063.883, 19798.05455, 2221.56445, 1634.5734, 2117.33885, 8688.85885, 48673.5588, 4661.28635, 8125.7845, 12644.589, 4564.19145, 4846.92015, 7633.7206, 15170.069, 17496.306, 2639.0429, 33732.6867, 14382.70905, 7626.993, 5257.50795, 2473.3341, 21774.32215, 35069.37452, 13041.921, 5245.2269, 13451.122, 13462.52, 5488.262, 4320.41085, 6250.435, 25333.33284, 2913.5690000000004, 12032.326000000001, 13470.8044, 6289.7549, 2927.0647, 6238.298000000001, 10096.97, 7348.142, 4673.3922, 12233.828000000001, 32108.662819999998, 8965.79575, 2304.0022, 9487.6442, 1121.8739, 9549.5651, 2217.46915, 1628.4709, 12982.8747, 11674.13, 7160.094, 39047.285, 6358.77645, 19933.458, 11534.87265, 47462.894, 4527.18295, 38998.546, 20009.63365, 3875.7341, 41999.52, 12609.88702, 41034.2214, 28468.91901, 2730.10785, 3353.284, 14474.675, 9500.57305, 26467.09737, 4746.344, 23967.38305, 7518.02535, 3279.86855, 8596.8278, 10702.6424, 4992.3764, 2527.81865, 1759.338, 2322.6218, 16138.76205, 7804.1605, 2902.9065, 9704.66805, 4889.0368, 25517.11363, 4500.33925, 19199.944, 16796.41194, 4915.05985, 7624.63, 8410.04685, 28340.18885, 4518.82625, 14571.8908, 3378.91, 7144.86265, 10118.424, 5484.4673, 16420.49455, 7986.47525, 7418.522, 13887.9685, 6551.7501, 5267.81815, 17361.7661, 34472.841, 1972.95, 21232.182259999998, 8627.5411, 4433.3877, 4438.2634, 24915.22085, 23241.47453, 9957.7216, 8269.044, 18767.7377, 36580.28216, 8765.249, 5383.536, 12124.9924, 2709.24395, 3987.926, 12495.29085, 26018.95052, 8798.593, 35595.5898, 42211.1382, 1711.0268, 8569.8618, 2020.1770000000001, 16450.8947, 21595.38229, 9850.431999999999, 6877.9801, 21677.28345, 44423.803, 4137.5227, 13747.87235, 12950.0712, 12094.478000000001, 37484.4493, 39725.51805, 2250.8352, 22493.65964, 20234.85475, 1704.70015, 33475.81715, 3161.454, 11394.06555, 21880.82, 7325.0482, 44501.3982, 3594.17085, 39727.614, 8023.13545, 14394.5579, 9288.0267, 25309.488999999998, 3353.4703, 10594.50155, 8277.523000000001, 17929.303369999998, 2480.9791, 4462.7218, 1981.5819, 11554.2236, 48970.2476, 6548.19505, 5708.866999999999, 7045.499, 8978.1851, 5757.41345, 14349.8544, 10928.848999999998, 39871.7043, 13974.45555, 1909.52745, 12096.6512, 13204.28565, 4562.8421, 8551.347, 2102.2647, 34672.1472, 15161.5344, 11884.04858, 4454.40265, 5855.9025, 4076.4970000000003, 15019.76005, 19023.26, 10796.35025, 11353.2276, 9748.9106, 10577.087, 41676.0811, 11286.5387, 3591.48, 33907.547999999995, 11299.343, 4561.1885, 44641.1974, 1674.6323, 23045.56616, 3227.1211, 16776.30405, 11253.421, 3471.4096, 11363.2832, 20420.60465, 10338.9316, 8988.15875, 10493.9458, 2904.0879999999997, 8605.3615, 11512.405, 41949.2441, 24180.9335, 5312.16985, 2396.0959, 10807.4863, 9222.4026, 36124.5737, 38282.7495, 5693.4305, 34166.273, 8347.1643, 46661.4424, 18903.49141, 40904.1995, 14254.6082, 10214.636, 5836.5204, 14358.36437, 1728.8970000000002, 8582.3023, 3693.428, 20709.02034, 9991.03765, 19673.335730000003, 11085.5868, 7623.518, 3176.2877, 3704.3545, 36898.73308, 9048.0273, 7954.517, 27117.99378, 6338.0756, 9630.396999999999, 11289.10925, 52590.82939, 2261.5688, 10791.96, 5979.731, 2203.73595, 12235.8392, 40941.2854, 5630.45785, 11015.1747, 7228.21565, 39722.7462, 14426.07385, 2459.7201, 3989.841, 7727.2532, 5124.1887, 18963.171919999997, 2200.83085, 7153.5539, 5227.98875, 10982.5013, 4529.477, 4670.64, 6112.35295, 17178.6824, 22478.6, 11093.6229, 6457.8434, 4433.9159, 2154.361, 23887.6627, 6496.8859999999995, 2899.48935, 19350.3689, 7650.77375, 2850.68375, 2632.992, 9447.3824, 18328.2381, 8603.8234, 37465.34375, 13844.7972, 21771.3423, 13126.67745, 5327.40025, 13725.47184, 13019.16105, 8671.19125, 4134.08245, 18838.70366, 33307.5508, 5699.8375, 6393.60345, 4934.705, 6198.7518, 8733.22925, 2055.3249, 9964.06, 18223.4512, 5116.5004, 36910.60803, 38415.474, 20296.86345, 12347.171999999999, 5373.36425, 23563.016180000002, 1702.4553, 10806.839, 3956.07145, 12890.05765, 5415.6612, 4058.1161, 41661.602, 7537.1639, 4718.20355, 6593.5083, 8442.667, 26125.674769999998, 6858.4796, 4795.6568, 6640.54485, 7162.0122, 10594.2257, 11938.25595, 60021.39897, 20167.336030000002, 12479.70895, 11345.518999999998, 8515.7587, 2699.56835, 14449.8544, 12224.35085, 6985.50695, 3238.4357, 47269.85400000001, 49577.6624, 4296.2712, 3171.6149, 1135.9407, 5615.369000000001, 9101.798, 6059.173000000001, 1633.9618, 37607.5277, 18648.4217, 1241.565, 16232.847, 15828.821730000001, 4415.1588, 6474.013000000001, 11436.73815, 11305.93455, 30063.58055, 10197.7722, 4544.2348, 3277.1609999999996, 6770.1925, 7337.7480000000005, 10370.91255, 26926.5144, 10704.47, 34254.05335, 1880.487, 8615.3, 3292.52985, 3021.80915, 14478.33015, 4747.0529, 17043.3414, 10959.33, 2741.948, 4357.04365, 22462.04375, 4189.1131, 8283.6807, 24535.69855, 14283.4594, 1720.3537, 47403.88, 8534.6718, 3732.6251, 5472.4490000000005, 38344.566, 7147.4728, 7133.9025, 34828.654, 1515.3449, 9301.89355, 11931.12525, 1964.78, 1708.92575, 4340.4409, 5261.46945, 2710.82855, 62592.87309, 46718.16325, 3208.7870000000003, 37829.7242, 21259.37795, 2464.6188, 16115.3045, 21472.4788, 33900.653, 6875.960999999999, 6940.90985, 4571.41305, 4536.259, 36397.576, 18765.87545, 11272.331390000001, 1731.6770000000001, 1163.4627, 19496.71917, 7201.70085, 5425.02335, 28101.33305, 12981.3457, 43896.3763, 4239.89265, 13143.33665, 7050.0213, 9377.9047, 22395.74424, 10325.206, 12629.1656, 10795.937329999999, 11411.685, 10600.5483, 2205.9808, 1629.8335, 2007.945, 29141.3603], \"coloraxis\": \"coloraxis\", \"symbol\": \"circle\"}, \"name\": \"\", \"showlegend\": false, \"type\": \"splom\"}],\n",
              "                        {\"coloraxis\": {\"colorbar\": {\"title\": {\"text\": \"charges\"}}, \"colorscale\": [[0.0, \"#0d0887\"], [0.1111111111111111, \"#46039f\"], [0.2222222222222222, \"#7201a8\"], [0.3333333333333333, \"#9c179e\"], [0.4444444444444444, \"#bd3786\"], [0.5555555555555556, \"#d8576b\"], [0.6666666666666666, \"#ed7953\"], [0.7777777777777778, \"#fb9f3a\"], [0.8888888888888888, \"#fdca26\"], [1.0, \"#f0f921\"]]}, \"dragmode\": \"select\", \"legend\": {\"tracegroupgap\": 0}, \"margin\": {\"t\": 60}, \"template\": {\"data\": {\"bar\": [{\"error_x\": {\"color\": \"#2a3f5f\"}, \"error_y\": {\"color\": \"#2a3f5f\"}, \"marker\": {\"line\": {\"color\": \"#E5ECF6\", \"width\": 0.5}}, \"type\": \"bar\"}], \"barpolar\": [{\"marker\": {\"line\": {\"color\": \"#E5ECF6\", \"width\": 0.5}}, \"type\": \"barpolar\"}], \"carpet\": [{\"aaxis\": {\"endlinecolor\": \"#2a3f5f\", \"gridcolor\": \"white\", \"linecolor\": \"white\", \"minorgridcolor\": \"white\", \"startlinecolor\": \"#2a3f5f\"}, \"baxis\": {\"endlinecolor\": \"#2a3f5f\", \"gridcolor\": \"white\", \"linecolor\": \"white\", \"minorgridcolor\": \"white\", \"startlinecolor\": \"#2a3f5f\"}, \"type\": \"carpet\"}], \"choropleth\": [{\"colorbar\": {\"outlinewidth\": 0, \"ticks\": \"\"}, \"type\": \"choropleth\"}], \"contour\": [{\"colorbar\": {\"outlinewidth\": 0, \"ticks\": \"\"}, \"colorscale\": [[0.0, \"#0d0887\"], [0.1111111111111111, \"#46039f\"], [0.2222222222222222, \"#7201a8\"], [0.3333333333333333, \"#9c179e\"], [0.4444444444444444, \"#bd3786\"], [0.5555555555555556, \"#d8576b\"], [0.6666666666666666, \"#ed7953\"], [0.7777777777777778, \"#fb9f3a\"], [0.8888888888888888, \"#fdca26\"], [1.0, \"#f0f921\"]], \"type\": \"contour\"}], \"contourcarpet\": [{\"colorbar\": {\"outlinewidth\": 0, \"ticks\": \"\"}, \"type\": \"contourcarpet\"}], \"heatmap\": [{\"colorbar\": {\"outlinewidth\": 0, \"ticks\": \"\"}, \"colorscale\": [[0.0, \"#0d0887\"], [0.1111111111111111, \"#46039f\"], [0.2222222222222222, \"#7201a8\"], [0.3333333333333333, \"#9c179e\"], [0.4444444444444444, \"#bd3786\"], [0.5555555555555556, \"#d8576b\"], [0.6666666666666666, \"#ed7953\"], [0.7777777777777778, \"#fb9f3a\"], [0.8888888888888888, \"#fdca26\"], [1.0, \"#f0f921\"]], \"type\": \"heatmap\"}], \"heatmapgl\": [{\"colorbar\": {\"outlinewidth\": 0, \"ticks\": \"\"}, \"colorscale\": [[0.0, \"#0d0887\"], [0.1111111111111111, \"#46039f\"], [0.2222222222222222, \"#7201a8\"], [0.3333333333333333, \"#9c179e\"], [0.4444444444444444, \"#bd3786\"], [0.5555555555555556, \"#d8576b\"], [0.6666666666666666, \"#ed7953\"], [0.7777777777777778, \"#fb9f3a\"], [0.8888888888888888, \"#fdca26\"], [1.0, \"#f0f921\"]], \"type\": \"heatmapgl\"}], \"histogram\": [{\"marker\": {\"colorbar\": {\"outlinewidth\": 0, \"ticks\": \"\"}}, \"type\": \"histogram\"}], \"histogram2d\": [{\"colorbar\": {\"outlinewidth\": 0, \"ticks\": \"\"}, \"colorscale\": [[0.0, \"#0d0887\"], [0.1111111111111111, \"#46039f\"], [0.2222222222222222, \"#7201a8\"], [0.3333333333333333, \"#9c179e\"], [0.4444444444444444, \"#bd3786\"], [0.5555555555555556, \"#d8576b\"], [0.6666666666666666, \"#ed7953\"], [0.7777777777777778, \"#fb9f3a\"], [0.8888888888888888, \"#fdca26\"], [1.0, \"#f0f921\"]], \"type\": \"histogram2d\"}], \"histogram2dcontour\": [{\"colorbar\": {\"outlinewidth\": 0, \"ticks\": \"\"}, \"colorscale\": [[0.0, \"#0d0887\"], [0.1111111111111111, \"#46039f\"], [0.2222222222222222, \"#7201a8\"], [0.3333333333333333, \"#9c179e\"], [0.4444444444444444, \"#bd3786\"], [0.5555555555555556, \"#d8576b\"], [0.6666666666666666, \"#ed7953\"], [0.7777777777777778, \"#fb9f3a\"], [0.8888888888888888, \"#fdca26\"], [1.0, \"#f0f921\"]], \"type\": \"histogram2dcontour\"}], \"mesh3d\": [{\"colorbar\": {\"outlinewidth\": 0, \"ticks\": \"\"}, \"type\": \"mesh3d\"}], \"parcoords\": [{\"line\": {\"colorbar\": {\"outlinewidth\": 0, \"ticks\": \"\"}}, \"type\": \"parcoords\"}], \"pie\": [{\"automargin\": true, \"type\": \"pie\"}], \"scatter\": [{\"marker\": {\"colorbar\": {\"outlinewidth\": 0, \"ticks\": \"\"}}, \"type\": \"scatter\"}], \"scatter3d\": [{\"line\": {\"colorbar\": {\"outlinewidth\": 0, \"ticks\": \"\"}}, \"marker\": {\"colorbar\": {\"outlinewidth\": 0, \"ticks\": \"\"}}, \"type\": \"scatter3d\"}], \"scattercarpet\": [{\"marker\": {\"colorbar\": {\"outlinewidth\": 0, \"ticks\": \"\"}}, \"type\": \"scattercarpet\"}], \"scattergeo\": [{\"marker\": {\"colorbar\": {\"outlinewidth\": 0, \"ticks\": \"\"}}, \"type\": \"scattergeo\"}], \"scattergl\": [{\"marker\": {\"colorbar\": {\"outlinewidth\": 0, \"ticks\": \"\"}}, \"type\": \"scattergl\"}], \"scattermapbox\": [{\"marker\": {\"colorbar\": {\"outlinewidth\": 0, \"ticks\": \"\"}}, \"type\": \"scattermapbox\"}], \"scatterpolar\": [{\"marker\": {\"colorbar\": {\"outlinewidth\": 0, \"ticks\": \"\"}}, \"type\": \"scatterpolar\"}], \"scatterpolargl\": [{\"marker\": {\"colorbar\": {\"outlinewidth\": 0, \"ticks\": \"\"}}, \"type\": \"scatterpolargl\"}], \"scatterternary\": [{\"marker\": {\"colorbar\": {\"outlinewidth\": 0, \"ticks\": \"\"}}, \"type\": \"scatterternary\"}], \"surface\": [{\"colorbar\": {\"outlinewidth\": 0, \"ticks\": \"\"}, \"colorscale\": [[0.0, \"#0d0887\"], [0.1111111111111111, \"#46039f\"], [0.2222222222222222, \"#7201a8\"], [0.3333333333333333, \"#9c179e\"], [0.4444444444444444, \"#bd3786\"], [0.5555555555555556, \"#d8576b\"], [0.6666666666666666, \"#ed7953\"], [0.7777777777777778, \"#fb9f3a\"], [0.8888888888888888, \"#fdca26\"], [1.0, \"#f0f921\"]], \"type\": \"surface\"}], \"table\": [{\"cells\": {\"fill\": {\"color\": \"#EBF0F8\"}, \"line\": {\"color\": \"white\"}}, \"header\": {\"fill\": {\"color\": \"#C8D4E3\"}, \"line\": {\"color\": \"white\"}}, \"type\": \"table\"}]}, \"layout\": {\"annotationdefaults\": {\"arrowcolor\": \"#2a3f5f\", \"arrowhead\": 0, \"arrowwidth\": 1}, \"coloraxis\": {\"colorbar\": {\"outlinewidth\": 0, \"ticks\": \"\"}}, \"colorscale\": {\"diverging\": [[0, \"#8e0152\"], [0.1, \"#c51b7d\"], [0.2, \"#de77ae\"], [0.3, \"#f1b6da\"], [0.4, \"#fde0ef\"], [0.5, \"#f7f7f7\"], [0.6, \"#e6f5d0\"], [0.7, \"#b8e186\"], [0.8, \"#7fbc41\"], [0.9, \"#4d9221\"], [1, \"#276419\"]], \"sequential\": [[0.0, \"#0d0887\"], [0.1111111111111111, \"#46039f\"], [0.2222222222222222, \"#7201a8\"], [0.3333333333333333, \"#9c179e\"], [0.4444444444444444, \"#bd3786\"], [0.5555555555555556, \"#d8576b\"], [0.6666666666666666, \"#ed7953\"], [0.7777777777777778, \"#fb9f3a\"], [0.8888888888888888, \"#fdca26\"], [1.0, \"#f0f921\"]], \"sequentialminus\": [[0.0, \"#0d0887\"], [0.1111111111111111, \"#46039f\"], [0.2222222222222222, \"#7201a8\"], [0.3333333333333333, \"#9c179e\"], [0.4444444444444444, \"#bd3786\"], [0.5555555555555556, \"#d8576b\"], [0.6666666666666666, \"#ed7953\"], [0.7777777777777778, \"#fb9f3a\"], [0.8888888888888888, \"#fdca26\"], [1.0, \"#f0f921\"]]}, \"colorway\": [\"#636efa\", \"#EF553B\", \"#00cc96\", \"#ab63fa\", \"#FFA15A\", \"#19d3f3\", \"#FF6692\", \"#B6E880\", \"#FF97FF\", \"#FECB52\"], \"font\": {\"color\": \"#2a3f5f\"}, \"geo\": {\"bgcolor\": \"white\", \"lakecolor\": \"white\", \"landcolor\": \"#E5ECF6\", \"showlakes\": true, \"showland\": true, \"subunitcolor\": \"white\"}, \"hoverlabel\": {\"align\": \"left\"}, \"hovermode\": \"closest\", \"mapbox\": {\"style\": \"light\"}, \"paper_bgcolor\": \"white\", \"plot_bgcolor\": \"#E5ECF6\", \"polar\": {\"angularaxis\": {\"gridcolor\": \"white\", \"linecolor\": \"white\", \"ticks\": \"\"}, \"bgcolor\": \"#E5ECF6\", \"radialaxis\": {\"gridcolor\": \"white\", \"linecolor\": \"white\", \"ticks\": \"\"}}, \"scene\": {\"xaxis\": {\"backgroundcolor\": \"#E5ECF6\", \"gridcolor\": \"white\", \"gridwidth\": 2, \"linecolor\": \"white\", \"showbackground\": true, \"ticks\": \"\", \"zerolinecolor\": \"white\"}, \"yaxis\": {\"backgroundcolor\": \"#E5ECF6\", \"gridcolor\": \"white\", \"gridwidth\": 2, \"linecolor\": \"white\", \"showbackground\": true, \"ticks\": \"\", \"zerolinecolor\": \"white\"}, \"zaxis\": {\"backgroundcolor\": \"#E5ECF6\", \"gridcolor\": \"white\", \"gridwidth\": 2, \"linecolor\": \"white\", \"showbackground\": true, \"ticks\": \"\", \"zerolinecolor\": \"white\"}}, \"shapedefaults\": {\"line\": {\"color\": \"#2a3f5f\"}}, \"ternary\": {\"aaxis\": {\"gridcolor\": \"white\", \"linecolor\": \"white\", \"ticks\": \"\"}, \"baxis\": {\"gridcolor\": \"white\", \"linecolor\": \"white\", \"ticks\": \"\"}, \"bgcolor\": \"#E5ECF6\", \"caxis\": {\"gridcolor\": \"white\", \"linecolor\": \"white\", \"ticks\": \"\"}}, \"title\": {\"x\": 0.05}, \"xaxis\": {\"automargin\": true, \"gridcolor\": \"white\", \"linecolor\": \"white\", \"ticks\": \"\", \"title\": {\"standoff\": 15}, \"zerolinecolor\": \"white\", \"zerolinewidth\": 2}, \"yaxis\": {\"automargin\": true, \"gridcolor\": \"white\", \"linecolor\": \"white\", \"ticks\": \"\", \"title\": {\"standoff\": 15}, \"zerolinecolor\": \"white\", \"zerolinewidth\": 2}}}},\n",
              "                        {\"responsive\": true}\n",
              "                    ).then(function(){\n",
              "                            \n",
              "var gd = document.getElementById('e47adc89-5a0c-4afc-8ae7-d994d2fc405e');\n",
              "var x = new MutationObserver(function (mutations, observer) {{\n",
              "        var display = window.getComputedStyle(gd).display;\n",
              "        if (!display || display === 'none') {{\n",
              "            console.log([gd, 'removed!']);\n",
              "            Plotly.purge(gd);\n",
              "            observer.disconnect();\n",
              "        }}\n",
              "}});\n",
              "\n",
              "// Listen for the removal of the full notebook cells\n",
              "var notebookContainer = gd.closest('#notebook-container');\n",
              "if (notebookContainer) {{\n",
              "    x.observe(notebookContainer, {childList: true});\n",
              "}}\n",
              "\n",
              "// Listen for the clearing of the current output cell\n",
              "var outputEl = gd.closest('.output');\n",
              "if (outputEl) {{\n",
              "    x.observe(outputEl, {childList: true});\n",
              "}}\n",
              "\n",
              "                        })\n",
              "                };\n",
              "                \n",
              "            </script>\n",
              "        </div>\n",
              "</body>\n",
              "</html>"
            ]
          },
          "metadata": {}
        }
      ]
    },
    {
      "cell_type": "markdown",
      "metadata": {
        "id": "tBsadhU8E_UN"
      },
      "source": [
        "This is the scatter plot matrix of the dataframe"
      ]
    },
    {
      "cell_type": "markdown",
      "metadata": {
        "id": "Rim6IdfYmbuM"
      },
      "source": [
        "**Histogram Plot (feature varriable)**"
      ]
    },
    {
      "cell_type": "code",
      "metadata": {
        "id": "eRmbumtKi30D",
        "colab": {
          "base_uri": "https://localhost:8080/",
          "height": 414
        },
        "outputId": "4162c443-1f99-427f-f6a9-c15c7ac3b567"
      },
      "source": [
        "%matplotlib inline\n",
        "plt.figure();\n",
        "dataset[['age', 'bmi', 'children']].diff().hist(color=\"g\", alpha=0.8, bins=50, figsize=(12, 6));"
      ],
      "execution_count": 232,
      "outputs": [
        {
          "output_type": "display_data",
          "data": {
            "text/plain": [
              "<Figure size 432x288 with 0 Axes>"
            ]
          },
          "metadata": {}
        },
        {
          "output_type": "display_data",
          "data": {
            "image/png": "[encoded data removed]",
            "text/plain": [
              "<Figure size 864x432 with 4 Axes>"
            ]
          },
          "metadata": {
            "needs_background": "light"
          }
        }
      ]
    },
    {
      "cell_type": "markdown",
      "metadata": {
        "id": "nT1Yv23xm71T"
      },
      "source": [
        "Independent Varriable age,children, bmi follows fairly normal distribution.\n"
      ]
    },
    {
      "cell_type": "markdown",
      "metadata": {
        "id": "SYCTfpYO6Gta"
      },
      "source": [
        "**Histogram Plot (Charges)**"
      ]
    },
    {
      "cell_type": "code",
      "metadata": {
        "colab": {
          "base_uri": "https://localhost:8080/",
          "height": 414
        },
        "id": "6VdcqTZrGH9T",
        "outputId": "6f7be0c8-10a6-4f7d-8e8f-e22c7ed0e9d4"
      },
      "source": [
        "plt.figure(figsize=(10,4))\n",
        "plt.subplot(1,2,1)\n",
        "plt.hist(dataset[\"charges\"], color=\"pink\")\n",
        "plt.xlabel(\"charges\")\n",
        "plt.ylabel(\"Frequency\")\n",
        "plt.title(\"charges histogram\", color = \"darkblue\")\n",
        "plt.subplot(1,2,2)\n",
        "sns.distplot(dataset[\"charges\"], fit=norm)\n",
        "plt.title(\"charges Distplot\", color = \"darkblue\")\n"
      ],
      "execution_count": 233,
      "outputs": [
        {
          "output_type": "stream",
          "name": "stderr",
          "text": [
            "/usr/local/lib/python3.7/dist-packages/seaborn/distributions.py:2619: FutureWarning:\n",
            "\n",
            "`distplot` is a deprecated function and will be removed in a future version. Please adapt your code to use either `displot` (a figure-level function with similar flexibility) or `histplot` (an axes-level function for histograms).\n",
            "\n"
          ]
        },
        {
          "output_type": "execute_result",
          "data": {
            "text/plain": [
              "Text(0.5, 1.0, 'charges Distplot')"
            ]
          },
          "metadata": {},
          "execution_count": 233
        },
        {
          "output_type": "display_data",
          "data": {
            "image/png": "[encoded data removed]",
            "text/plain": [
              "<Figure size 720x288 with 2 Axes>"
            ]
          },
          "metadata": {
            "needs_background": "light"
          }
        }
      ]
    },
    {
      "cell_type": "markdown",
      "metadata": {
        "id": "Gc0OmjDUHweq"
      },
      "source": [
        "We take a look at the charges distribution. On the second graph we can see more clearly that there is a tail to the right. We can edit this in the feature review section. It will make our model better."
      ]
    },
    {
      "cell_type": "markdown",
      "metadata": {
        "id": "WkVCErk1SlEp"
      },
      "source": [
        "## **Visualisation of the effect of different features on others**\n",
        "\n"
      ]
    },
    {
      "cell_type": "code",
      "metadata": {
        "colab": {
          "base_uri": "https://localhost:8080/"
        },
        "id": "XY154XKpHZnN",
        "outputId": "c23071b0-ebd9-434b-dd50-0c321b69dbaa"
      },
      "source": [
        "(mu, sigma) = norm.fit(dataset[\"charges\"])\n",
        "print(\"mu {} : {}, sigma {} : {}\".format(\"charges\", mu, \"charges\", sigma))"
      ],
      "execution_count": 234,
      "outputs": [
        {
          "output_type": "stream",
          "name": "stdout",
          "text": [
            "mu charges : 13270.422265141257, sigma charges : 12105.484975561612\n"
          ]
        }
      ]
    },
    {
      "cell_type": "markdown",
      "metadata": {
        "id": "DXwLVYZ7TX3d"
      },
      "source": [
        "**Effect of age on Charges**"
      ]
    },
    {
      "cell_type": "code",
      "metadata": {
        "colab": {
          "base_uri": "https://localhost:8080/",
          "height": 304
        },
        "id": "k2ld0PwSVLTZ",
        "outputId": "21dd0feb-ecd5-4a83-a5fc-3e587a4da043"
      },
      "source": [
        "ageFirstDecember = dataset[dataset[\"age\"].between(18,28, inclusive = True)][\"charges\"].mean()\n",
        "ageSecondDecember = dataset[dataset[\"age\"].between(29,39, inclusive = True)][\"charges\"].mean()\n",
        "ageThirdDecember = dataset[dataset[\"age\"].between(40,50, inclusive = True)][\"charges\"].mean()\n",
        "ageFourthDecember = dataset[dataset[\"age\"].between(51,64, inclusive = True)][\"charges\"].mean()\n",
        "averageAge = [ageFirstDecember,ageSecondDecember,ageThirdDecember,ageFourthDecember]\n",
        "ageRanges = [\"18-28 Age\",\"29-39 Age\",\"40-50 Age\",\"51-64 Age\"]\n",
        "sns.barplot(x=ageRanges, y=averageAge, palette=\"Greens\")\n",
        "plt.title(\"Charges by age range\", color = \"darkgreen\")\n",
        "plt.xlabel(\"age range\")\n",
        "plt.ylabel(\"Charges\")\n",
        "\n",
        "plt.show()"
      ],
      "execution_count": 235,
      "outputs": [
        {
          "output_type": "display_data",
          "data": {
            "image/png": "[encoded data removed]",
            "text/plain": [
              "<Figure size 432x288 with 1 Axes>"
            ]
          },
          "metadata": {
            "needs_background": "light"
          }
        }
      ]
    },
    {
      "cell_type": "markdown",
      "metadata": {
        "id": "H12-9fU5a1gu"
      },
      "source": [
        "we see the wages paid according to the average age. We see that the insurance charges increase as the age gets older. The highest wages appear between the ages of 51-64. We can use this in the model section."
      ]
    },
    {
      "cell_type": "markdown",
      "metadata": {
        "id": "XDDSjXAqifXw"
      },
      "source": [
        "**Effect of gender on Smoking Habbits**"
      ]
    },
    {
      "cell_type": "code",
      "metadata": {
        "colab": {
          "base_uri": "https://localhost:8080/",
          "height": 304
        },
        "id": "bLluz-syfG4-",
        "outputId": "9e36089d-463c-4109-fd3b-967daf0b197a"
      },
      "source": [
        "sns.set_theme(style=\"whitegrid\")\n",
        "ax = sns.countplot(x=\"sex\", hue=\"smoker\", data=dataset)\n",
        "plt.title(\"smoking status by gender\", color = \"darkgreen\")\n",
        "plt.xlabel(\"gender\")\n",
        "plt.show()"
      ],
      "execution_count": 236,
      "outputs": [
        {
          "output_type": "display_data",
          "data": {
            "image/png": "[encoded data removed]",
            "text/plain": [
              "<Figure size 432x288 with 1 Axes>"
            ]
          },
          "metadata": {}
        }
      ]
    },
    {
      "cell_type": "markdown",
      "metadata": {
        "id": "Vmyx2zi7icN6"
      },
      "source": [
        "Here, we examined the smoking status by gender. Yhey look close to each other as men and women."
      ]
    },
    {
      "cell_type": "markdown",
      "metadata": {
        "id": "ytECGwxQvxyI"
      },
      "source": [
        "**Effect of no. of Children on Charges**"
      ]
    },
    {
      "cell_type": "code",
      "metadata": {
        "colab": {
          "base_uri": "https://localhost:8080/",
          "height": 304
        },
        "id": "Hkv4gjEKuoEo",
        "outputId": "52b2bb07-fc82-4bb6-e3bd-365ff3e791ca"
      },
      "source": [
        "sns.set_theme(style=\"whitegrid\")\n",
        "barplot= sns.barplot(x=\"children\", y=\"charges\", data=dataset)\n",
        "plt.title(\"charges by child number\", color = \"blue\")\n",
        "plt.xlabel(\"child number\")\n",
        "plt.ylabel(\"charges\")\n",
        "plt.show()"
      ],
      "execution_count": 237,
      "outputs": [
        {
          "output_type": "display_data",
          "data": {
            "image/png": "[encoded data removed]",
            "text/plain": [
              "<Figure size 432x288 with 1 Axes>"
            ]
          },
          "metadata": {}
        }
      ]
    },
    {
      "cell_type": "markdown",
      "metadata": {
        "id": "erqZTU77vwbi"
      },
      "source": [
        "Here we notice that at first with the increase of no. of children people were more opting for insurance, but after a certain no. it started decreasing "
      ]
    },
    {
      "cell_type": "markdown",
      "metadata": {
        "id": "KvANu169GBTg"
      },
      "source": [
        "**Effect of Smoking Status**"
      ]
    },
    {
      "cell_type": "code",
      "metadata": {
        "id": "95AQMKrapxN-",
        "colab": {
          "base_uri": "https://localhost:8080/",
          "height": 352
        },
        "outputId": "fc23b8d9-146d-45cd-d621-cb2cc5b6c78e"
      },
      "source": [
        "smoker = [\"yes\", \"no\"]\n",
        "\n",
        "smokerAge = []\n",
        "smokerCharges = []\n",
        "\n",
        "for each in smoker:\n",
        "    smokerDistinction = dataset[dataset[\"smoker\"] == each]\n",
        "    xxx = smokerDistinction[\"age\"].mean()\n",
        "    yyy = smokerDistinction[\"charges\"].mean()\n",
        "    smokerAge.append(xxx)\n",
        "    smokerCharges.append(yyy)\n",
        "\n",
        "    \n",
        "plt.figure(figsize=(11,10))\n",
        "plt.subplot(2,2,1)\n",
        "sns.barplot(x = smoker, y = smokerAge, palette= \"Greens\")\n",
        "plt.title(\"average age by smoking status\", color = \"darkgreen\")\n",
        "plt.xlabel(\"smoker\")\n",
        "plt.ylabel(\"age mean\")\n",
        "plt.subplot(2,2,2)\n",
        "sns.barplot(x = smoker, y = smokerCharges, palette=\"crest\")\n",
        "plt.title(\"Average charges by child number\", color = \"blue\")\n",
        "plt.xlabel(\"smoker\")\n",
        "plt.ylabel(\"charges mean\")"
      ],
      "execution_count": 238,
      "outputs": [
        {
          "output_type": "execute_result",
          "data": {
            "text/plain": [
              "Text(0, 0.5, 'charges mean')"
            ]
          },
          "metadata": {},
          "execution_count": 238
        },
        {
          "output_type": "display_data",
          "data": {
            "image/png": "[encoded data removed]",
            "text/plain": [
              "<Figure size 792x720 with 2 Axes>"
            ]
          },
          "metadata": {}
        }
      ]
    },
    {
      "cell_type": "markdown",
      "metadata": {
        "id": "9AiFVvoGFjL0"
      },
      "source": [
        "\n",
        "*   In the first graph, the average age of smokers and non-smokers is looked at.\n",
        "*   In the second graph, we look at the impact of smoking status on wages. Here we see that smokers pay much more than non-smokers.\n",
        "\n",
        "\n",
        "\n",
        "\n",
        "\n"
      ]
    },
    {
      "cell_type": "code",
      "metadata": {
        "colab": {
          "base_uri": "https://localhost:8080/",
          "height": 457
        },
        "id": "ftEzsJss6Klv",
        "outputId": "0f7ed177-2aa5-44c9-fd91-d09b7a6078c5"
      },
      "source": [
        "g = sns.factorplot(x = \"smoker\", y = \"charges\", data = dataset, kind = \"bar\")\n",
        "g.set_ylabels(\"Charges Probability\")\n",
        "plt.show()"
      ],
      "execution_count": 239,
      "outputs": [
        {
          "output_type": "stream",
          "name": "stderr",
          "text": [
            "/usr/local/lib/python3.7/dist-packages/seaborn/categorical.py:3717: UserWarning:\n",
            "\n",
            "The `factorplot` function has been renamed to `catplot`. The original name will be removed in a future release. Please update your code. Note that the default `kind` in `factorplot` (`'point'`) has changed `'strip'` in `catplot`.\n",
            "\n"
          ]
        },
        {
          "output_type": "display_data",
          "data": {
            "image/png": "[encoded data removed]",
            "text/plain": [
              "<Figure size 360x360 with 1 Axes>"
            ]
          },
          "metadata": {}
        }
      ]
    },
    {
      "cell_type": "markdown",
      "metadata": {
        "id": "AuEefZmJ6XNO"
      },
      "source": [
        "Smoker's medical charges are more than the non-smokers"
      ]
    },
    {
      "cell_type": "markdown",
      "metadata": {
        "id": "PLIyjJvdAeU_"
      },
      "source": [
        "**Effect of Region on Charges**"
      ]
    },
    {
      "cell_type": "code",
      "metadata": {
        "colab": {
          "base_uri": "https://localhost:8080/",
          "height": 457
        },
        "id": "o_Y2ccMRATkb",
        "outputId": "075d92ea-7505-4153-fe70-72460d3fcb01"
      },
      "source": [
        "g = sns.factorplot(x = \"region\", y = \"charges\", data = dataset, kind = \"bar\")\n",
        "g.set_ylabels(\"Charges Probability\")\n",
        "plt.show()"
      ],
      "execution_count": 240,
      "outputs": [
        {
          "output_type": "stream",
          "name": "stderr",
          "text": [
            "/usr/local/lib/python3.7/dist-packages/seaborn/categorical.py:3717: UserWarning:\n",
            "\n",
            "The `factorplot` function has been renamed to `catplot`. The original name will be removed in a future release. Please update your code. Note that the default `kind` in `factorplot` (`'point'`) has changed `'strip'` in `catplot`.\n",
            "\n"
          ]
        },
        {
          "output_type": "display_data",
          "data": {
            "image/png": "[encoded data removed]",
            "text/plain": [
              "<Figure size 360x360 with 1 Axes>"
            ]
          },
          "metadata": {}
        }
      ]
    },
    {
      "cell_type": "markdown",
      "metadata": {
        "id": "Azsp5HvWzhJL"
      },
      "source": [
        "People belong to southeast have the highest medical insurance charges"
      ]
    },
    {
      "cell_type": "markdown",
      "source": [
        "# **Data Preprocessing**"
      ],
      "metadata": {
        "id": "JBPSdQXgFTSu"
      }
    },
    {
      "cell_type": "markdown",
      "metadata": {
        "id": "iMzOMQND-ldv"
      },
      "source": [
        "**Handling Missing Value**"
      ]
    },
    {
      "cell_type": "markdown",
      "source": [
        "We will take a look at if there is any missing data in our data. If there are, we will try to eliminate them."
      ],
      "metadata": {
        "id": "5DE7-EZ0GdhH"
      }
    },
    {
      "cell_type": "code",
      "source": [
        "dataset.columns[dataset.isnull().any()]"
      ],
      "metadata": {
        "colab": {
          "base_uri": "https://localhost:8080/"
        },
        "id": "0fu0id-QGkmJ",
        "outputId": "8ab38f18-b9e7-4750-d858-a31311ff226b"
      },
      "execution_count": 241,
      "outputs": [
        {
          "output_type": "execute_result",
          "data": {
            "text/plain": [
              "Index([], dtype='object')"
            ]
          },
          "metadata": {},
          "execution_count": 241
        }
      ]
    },
    {
      "cell_type": "code",
      "source": [
        "dataset.isnull().sum()"
      ],
      "metadata": {
        "colab": {
          "base_uri": "https://localhost:8080/"
        },
        "id": "X1U3t1FIGuqs",
        "outputId": "4435ad7d-ae3c-4bbf-95d5-3849f5436be2"
      },
      "execution_count": 242,
      "outputs": [
        {
          "output_type": "execute_result",
          "data": {
            "text/plain": [
              "age         0\n",
              "sex         0\n",
              "bmi         0\n",
              "children    0\n",
              "smoker      0\n",
              "region      0\n",
              "charges     0\n",
              "dtype: int64"
            ]
          },
          "metadata": {},
          "execution_count": 242
        }
      ]
    },
    {
      "cell_type": "markdown",
      "source": [
        "we see that there is no missing data in the data."
      ],
      "metadata": {
        "id": "HcEPpVoSM8NC"
      }
    },
    {
      "cell_type": "markdown",
      "metadata": {
        "id": "o7LPf9PpMI-c"
      },
      "source": [
        "**Feature Engineering**"
      ]
    },
    {
      "cell_type": "markdown",
      "metadata": {
        "id": "4vZyk3LlgesI"
      },
      "source": [
        "Encoding\n",
        "Machine learning algorithms cannot work with categorical data directly, categorical data must be converted to number.\n",
        "\n",
        "Label Encoding\n",
        "One hot encoding\n",
        "Dummy variable trap\n",
        "\n",
        "Label encoding refers to transforming the word labels into numerical form so that the algorithms can understand how to operate on them.\n",
        "\n",
        "A One hot encoding is a representation of categorical variable as binary vectors.It allows the representation of categorical data to be more expresive. This first requires that the categorical values be mapped to integer values, that is label encoding. Then, each integer value is represented as a binary vector that is all zero values except the index of the integer, which is marked with a 1.\n",
        "\n",
        "The Dummy variable trap is a scenario in which the independent variable are multicollinear, a scenario in which two or more variables are highly correlated in simple term one variable can be predicted from the others.\n",
        "\n",
        "By using pandas get_dummies function we can do all above three step in line of code. We will this fuction to get dummy variable for sex, children,smoker,region features. By setting drop_first =True function will remove dummy variable trap by droping one variable and original variable.The pandas makes our life easy."
      ]
    },
    {
      "cell_type": "code",
      "metadata": {
        "colab": {
          "base_uri": "https://localhost:8080/",
          "height": 206
        },
        "id": "BEPn7QGpSVrO",
        "outputId": "469d4d71-e076-4ee9-cd28-eebd111bd892"
      },
      "source": [
        "dataset[\"sex\"] = [0 if i == \"female\" else 1 for i in dataset[\"sex\"]]\n",
        "dataset[\"sex\"] = dataset[\"sex\"].astype(\"category\")\n",
        "dataset = pd.get_dummies(dataset, columns= [\"sex\"])\n",
        "dataset.head()"
      ],
      "execution_count": 243,
      "outputs": [
        {
          "output_type": "execute_result",
          "data": {
            "text/html": [
              "<div>\n",
              "<style scoped>\n",
              "    .dataframe tbody tr th:only-of-type {\n",
              "        vertical-align: middle;\n",
              "    }\n",
              "\n",
              "    .dataframe tbody tr th {\n",
              "        vertical-align: top;\n",
              "    }\n",
              "\n",
              "    .dataframe thead th {\n",
              "        text-align: right;\n",
              "    }\n",
              "</style>\n",
              "<table border=\"1\" class=\"dataframe\">\n",
              "  <thead>\n",
              "    <tr style=\"text-align: right;\">\n",
              "      <th></th>\n",
              "      <th>age</th>\n",
              "      <th>bmi</th>\n",
              "      <th>children</th>\n",
              "      <th>smoker</th>\n",
              "      <th>region</th>\n",
              "      <th>charges</th>\n",
              "      <th>sex_0</th>\n",
              "      <th>sex_1</th>\n",
              "    </tr>\n",
              "  </thead>\n",
              "  <tbody>\n",
              "    <tr>\n",
              "      <th>0</th>\n",
              "      <td>19</td>\n",
              "      <td>27.900</td>\n",
              "      <td>0</td>\n",
              "      <td>yes</td>\n",
              "      <td>southwest</td>\n",
              "      <td>16884.92400</td>\n",
              "      <td>1</td>\n",
              "      <td>0</td>\n",
              "    </tr>\n",
              "    <tr>\n",
              "      <th>1</th>\n",
              "      <td>18</td>\n",
              "      <td>33.770</td>\n",
              "      <td>1</td>\n",
              "      <td>no</td>\n",
              "      <td>southeast</td>\n",
              "      <td>1725.55230</td>\n",
              "      <td>0</td>\n",
              "      <td>1</td>\n",
              "    </tr>\n",
              "    <tr>\n",
              "      <th>2</th>\n",
              "      <td>28</td>\n",
              "      <td>33.000</td>\n",
              "      <td>3</td>\n",
              "      <td>no</td>\n",
              "      <td>southeast</td>\n",
              "      <td>4449.46200</td>\n",
              "      <td>0</td>\n",
              "      <td>1</td>\n",
              "    </tr>\n",
              "    <tr>\n",
              "      <th>3</th>\n",
              "      <td>33</td>\n",
              "      <td>22.705</td>\n",
              "      <td>0</td>\n",
              "      <td>no</td>\n",
              "      <td>northwest</td>\n",
              "      <td>21984.47061</td>\n",
              "      <td>0</td>\n",
              "      <td>1</td>\n",
              "    </tr>\n",
              "    <tr>\n",
              "      <th>4</th>\n",
              "      <td>32</td>\n",
              "      <td>28.880</td>\n",
              "      <td>0</td>\n",
              "      <td>no</td>\n",
              "      <td>northwest</td>\n",
              "      <td>3866.85520</td>\n",
              "      <td>0</td>\n",
              "      <td>1</td>\n",
              "    </tr>\n",
              "  </tbody>\n",
              "</table>\n",
              "</div>"
            ],
            "text/plain": [
              "   age     bmi  children smoker     region      charges  sex_0  sex_1\n",
              "0   19  27.900         0    yes  southwest  16884.92400      1      0\n",
              "1   18  33.770         1     no  southeast   1725.55230      0      1\n",
              "2   28  33.000         3     no  southeast   4449.46200      0      1\n",
              "3   33  22.705         0     no  northwest  21984.47061      0      1\n",
              "4   32  28.880         0     no  northwest   3866.85520      0      1"
            ]
          },
          "metadata": {},
          "execution_count": 243
        }
      ]
    },
    {
      "cell_type": "markdown",
      "metadata": {
        "id": "UFZgWvXfStYK"
      },
      "source": [
        "the gender is recorded as male and female. We change this to 0 and 1 so that our model can understand.\n",
        "\n",
        "female --> 0\n",
        "\n",
        "male --> 1\n",
        "\n",
        "\n"
      ]
    },
    {
      "cell_type": "code",
      "metadata": {
        "colab": {
          "base_uri": "https://localhost:8080/",
          "height": 206
        },
        "id": "-sLJAx0I8-tD",
        "outputId": "1c98ef01-0605-49a3-8534-8b172ca9aa0e"
      },
      "source": [
        "dataset[\"smoker\"] = [0 if i == \"no\" else 1 for i in dataset[\"smoker\"]]\n",
        "dataset[\"smoker\"] = dataset[\"smoker\"].astype(\"category\")\n",
        "dataset = pd.get_dummies(dataset, columns= [\"smoker\"])\n",
        "dataset.head()"
      ],
      "execution_count": 244,
      "outputs": [
        {
          "output_type": "execute_result",
          "data": {
            "text/html": [
              "<div>\n",
              "<style scoped>\n",
              "    .dataframe tbody tr th:only-of-type {\n",
              "        vertical-align: middle;\n",
              "    }\n",
              "\n",
              "    .dataframe tbody tr th {\n",
              "        vertical-align: top;\n",
              "    }\n",
              "\n",
              "    .dataframe thead th {\n",
              "        text-align: right;\n",
              "    }\n",
              "</style>\n",
              "<table border=\"1\" class=\"dataframe\">\n",
              "  <thead>\n",
              "    <tr style=\"text-align: right;\">\n",
              "      <th></th>\n",
              "      <th>age</th>\n",
              "      <th>bmi</th>\n",
              "      <th>children</th>\n",
              "      <th>region</th>\n",
              "      <th>charges</th>\n",
              "      <th>sex_0</th>\n",
              "      <th>sex_1</th>\n",
              "      <th>smoker_0</th>\n",
              "      <th>smoker_1</th>\n",
              "    </tr>\n",
              "  </thead>\n",
              "  <tbody>\n",
              "    <tr>\n",
              "      <th>0</th>\n",
              "      <td>19</td>\n",
              "      <td>27.900</td>\n",
              "      <td>0</td>\n",
              "      <td>southwest</td>\n",
              "      <td>16884.92400</td>\n",
              "      <td>1</td>\n",
              "      <td>0</td>\n",
              "      <td>0</td>\n",
              "      <td>1</td>\n",
              "    </tr>\n",
              "    <tr>\n",
              "      <th>1</th>\n",
              "      <td>18</td>\n",
              "      <td>33.770</td>\n",
              "      <td>1</td>\n",
              "      <td>southeast</td>\n",
              "      <td>1725.55230</td>\n",
              "      <td>0</td>\n",
              "      <td>1</td>\n",
              "      <td>1</td>\n",
              "      <td>0</td>\n",
              "    </tr>\n",
              "    <tr>\n",
              "      <th>2</th>\n",
              "      <td>28</td>\n",
              "      <td>33.000</td>\n",
              "      <td>3</td>\n",
              "      <td>southeast</td>\n",
              "      <td>4449.46200</td>\n",
              "      <td>0</td>\n",
              "      <td>1</td>\n",
              "      <td>1</td>\n",
              "      <td>0</td>\n",
              "    </tr>\n",
              "    <tr>\n",
              "      <th>3</th>\n",
              "      <td>33</td>\n",
              "      <td>22.705</td>\n",
              "      <td>0</td>\n",
              "      <td>northwest</td>\n",
              "      <td>21984.47061</td>\n",
              "      <td>0</td>\n",
              "      <td>1</td>\n",
              "      <td>1</td>\n",
              "      <td>0</td>\n",
              "    </tr>\n",
              "    <tr>\n",
              "      <th>4</th>\n",
              "      <td>32</td>\n",
              "      <td>28.880</td>\n",
              "      <td>0</td>\n",
              "      <td>northwest</td>\n",
              "      <td>3866.85520</td>\n",
              "      <td>0</td>\n",
              "      <td>1</td>\n",
              "      <td>1</td>\n",
              "      <td>0</td>\n",
              "    </tr>\n",
              "  </tbody>\n",
              "</table>\n",
              "</div>"
            ],
            "text/plain": [
              "   age     bmi  children     region  ...  sex_0  sex_1  smoker_0  smoker_1\n",
              "0   19  27.900         0  southwest  ...      1      0         0         1\n",
              "1   18  33.770         1  southeast  ...      0      1         1         0\n",
              "2   28  33.000         3  southeast  ...      0      1         1         0\n",
              "3   33  22.705         0  northwest  ...      0      1         1         0\n",
              "4   32  28.880         0  northwest  ...      0      1         1         0\n",
              "\n",
              "[5 rows x 9 columns]"
            ]
          },
          "metadata": {},
          "execution_count": 244
        }
      ]
    },
    {
      "cell_type": "markdown",
      "metadata": {
        "id": "ZZapOPPL9odD"
      },
      "source": [
        "the smoking status is recorded as non-smoker and smoker. We change this to 0 and 1 so that our model can understand.\n",
        "\n",
        "non-smoker --> 0\n",
        "\n",
        "smoker --> 1"
      ]
    },
    {
      "cell_type": "code",
      "metadata": {
        "colab": {
          "base_uri": "https://localhost:8080/",
          "height": 226
        },
        "id": "ijRPvNfr9UHT",
        "outputId": "e79ffb7a-0b8d-4ced-8904-715efe788613"
      },
      "source": [
        "dataset[\"region\"] = [0 if i == \"southeast\" else 1 if i == \"southwest\" else 2 if i == \"northwest\" else 3 for i in dataset[\"region\"]]\n",
        "dataset[\"region\"] = dataset[\"region\"].astype(\"category\")\n",
        "dataset = pd.get_dummies(dataset, columns= [\"region\"])\n",
        "dataset.head()"
      ],
      "execution_count": 245,
      "outputs": [
        {
          "output_type": "execute_result",
          "data": {
            "text/html": [
              "<div>\n",
              "<style scoped>\n",
              "    .dataframe tbody tr th:only-of-type {\n",
              "        vertical-align: middle;\n",
              "    }\n",
              "\n",
              "    .dataframe tbody tr th {\n",
              "        vertical-align: top;\n",
              "    }\n",
              "\n",
              "    .dataframe thead th {\n",
              "        text-align: right;\n",
              "    }\n",
              "</style>\n",
              "<table border=\"1\" class=\"dataframe\">\n",
              "  <thead>\n",
              "    <tr style=\"text-align: right;\">\n",
              "      <th></th>\n",
              "      <th>age</th>\n",
              "      <th>bmi</th>\n",
              "      <th>children</th>\n",
              "      <th>charges</th>\n",
              "      <th>sex_0</th>\n",
              "      <th>sex_1</th>\n",
              "      <th>smoker_0</th>\n",
              "      <th>smoker_1</th>\n",
              "      <th>region_0</th>\n",
              "      <th>region_1</th>\n",
              "      <th>region_2</th>\n",
              "      <th>region_3</th>\n",
              "    </tr>\n",
              "  </thead>\n",
              "  <tbody>\n",
              "    <tr>\n",
              "      <th>0</th>\n",
              "      <td>19</td>\n",
              "      <td>27.900</td>\n",
              "      <td>0</td>\n",
              "      <td>16884.92400</td>\n",
              "      <td>1</td>\n",
              "      <td>0</td>\n",
              "      <td>0</td>\n",
              "      <td>1</td>\n",
              "      <td>0</td>\n",
              "      <td>1</td>\n",
              "      <td>0</td>\n",
              "      <td>0</td>\n",
              "    </tr>\n",
              "    <tr>\n",
              "      <th>1</th>\n",
              "      <td>18</td>\n",
              "      <td>33.770</td>\n",
              "      <td>1</td>\n",
              "      <td>1725.55230</td>\n",
              "      <td>0</td>\n",
              "      <td>1</td>\n",
              "      <td>1</td>\n",
              "      <td>0</td>\n",
              "      <td>1</td>\n",
              "      <td>0</td>\n",
              "      <td>0</td>\n",
              "      <td>0</td>\n",
              "    </tr>\n",
              "    <tr>\n",
              "      <th>2</th>\n",
              "      <td>28</td>\n",
              "      <td>33.000</td>\n",
              "      <td>3</td>\n",
              "      <td>4449.46200</td>\n",
              "      <td>0</td>\n",
              "      <td>1</td>\n",
              "      <td>1</td>\n",
              "      <td>0</td>\n",
              "      <td>1</td>\n",
              "      <td>0</td>\n",
              "      <td>0</td>\n",
              "      <td>0</td>\n",
              "    </tr>\n",
              "    <tr>\n",
              "      <th>3</th>\n",
              "      <td>33</td>\n",
              "      <td>22.705</td>\n",
              "      <td>0</td>\n",
              "      <td>21984.47061</td>\n",
              "      <td>0</td>\n",
              "      <td>1</td>\n",
              "      <td>1</td>\n",
              "      <td>0</td>\n",
              "      <td>0</td>\n",
              "      <td>0</td>\n",
              "      <td>1</td>\n",
              "      <td>0</td>\n",
              "    </tr>\n",
              "    <tr>\n",
              "      <th>4</th>\n",
              "      <td>32</td>\n",
              "      <td>28.880</td>\n",
              "      <td>0</td>\n",
              "      <td>3866.85520</td>\n",
              "      <td>0</td>\n",
              "      <td>1</td>\n",
              "      <td>1</td>\n",
              "      <td>0</td>\n",
              "      <td>0</td>\n",
              "      <td>0</td>\n",
              "      <td>1</td>\n",
              "      <td>0</td>\n",
              "    </tr>\n",
              "  </tbody>\n",
              "</table>\n",
              "</div>"
            ],
            "text/plain": [
              "   age     bmi  children      charges  ...  region_0  region_1  region_2  region_3\n",
              "0   19  27.900         0  16884.92400  ...         0         1         0         0\n",
              "1   18  33.770         1   1725.55230  ...         1         0         0         0\n",
              "2   28  33.000         3   4449.46200  ...         1         0         0         0\n",
              "3   33  22.705         0  21984.47061  ...         0         0         1         0\n",
              "4   32  28.880         0   3866.85520  ...         0         0         1         0\n",
              "\n",
              "[5 rows x 12 columns]"
            ]
          },
          "metadata": {},
          "execution_count": 245
        }
      ]
    },
    {
      "cell_type": "markdown",
      "metadata": {
        "id": "ZUmyNfKg-3CK"
      },
      "source": [
        "we are doing to the regions as we did above.\n",
        "\n",
        "\n",
        "*   southeast --> 0\n",
        "\n",
        "*   southwest --> 1\n",
        "\n",
        "*   northwest --> 2\n",
        "\n",
        "*   northeast --> 3\n",
        "\n",
        "\n",
        "\n",
        "\n",
        "\n",
        "\n",
        "\n",
        "\n"
      ]
    },
    {
      "cell_type": "markdown",
      "metadata": {
        "id": "ebHmQGtruVG_"
      },
      "source": [
        "The original categorical variable are remove and also one of the one hot encode varible column for perticular categorical variable is droped from the column. So we completed all three encoding step by using get dummies function.\n",
        "\n"
      ]
    },
    {
      "cell_type": "markdown",
      "metadata": {
        "id": "lrzoiyd9lbb6"
      },
      "source": [
        "**Handling skewness of Charges**"
      ]
    },
    {
      "cell_type": "markdown",
      "metadata": {
        "id": "4Vl__MoGv5ZL"
      },
      "source": [
        "By examining the charges in the charts above, we noticed that there was skewness. We took notes to fix this. We're going to fix this here."
      ]
    },
    {
      "cell_type": "code",
      "metadata": {
        "colab": {
          "base_uri": "https://localhost:8080/"
        },
        "id": "weHrWQDXhH1p",
        "outputId": "d83beb74-d150-4771-c78a-c14123c3c117"
      },
      "source": [
        "(mu, sigma) = norm.fit(dataset[\"charges\"])\n",
        "print(\"mu {} : {}, sigma {} : {}\".format(\"charges\", mu, \"charges\", sigma))"
      ],
      "execution_count": 246,
      "outputs": [
        {
          "output_type": "stream",
          "name": "stdout",
          "text": [
            "mu charges : 13270.422265141257, sigma charges : 12105.484975561612\n"
          ]
        }
      ]
    },
    {
      "cell_type": "code",
      "metadata": {
        "colab": {
          "base_uri": "https://localhost:8080/",
          "height": 396
        },
        "id": "evTSVWFuugrx",
        "outputId": "6f649e07-32d7-4fff-fd1d-dac67c620f4f"
      },
      "source": [
        "plt.figure(figsize=(10,4))\n",
        "plt.subplot(1,2,1)\n",
        "sns.distplot(dataset[\"charges\"], fit=norm)\n",
        "plt.title(\"charges Distplot\", color = \"darkgreen\")\n",
        "plt.subplot(1,2,2)\n",
        "stats.probplot(dataset[\"charges\"], plot = plt)\n",
        "plt.show()"
      ],
      "execution_count": 247,
      "outputs": [
        {
          "output_type": "stream",
          "name": "stderr",
          "text": [
            "/usr/local/lib/python3.7/dist-packages/seaborn/distributions.py:2619: FutureWarning:\n",
            "\n",
            "`distplot` is a deprecated function and will be removed in a future version. Please adapt your code to use either `displot` (a figure-level function with similar flexibility) or `histplot` (an axes-level function for histograms).\n",
            "\n"
          ]
        },
        {
          "output_type": "display_data",
          "data": {
            "image/png": "[encoded data removed]",
            "text/plain": [
              "<Figure size 720x288 with 2 Axes>"
            ]
          },
          "metadata": {}
        }
      ]
    },
    {
      "cell_type": "markdown",
      "metadata": {
        "id": "4TLCV-OowB_o"
      },
      "source": [
        "We have already taken a look at the first graphic above. We can see from the second graph that we have skewness in our data.\n",
        "\n",
        "The more data is collected above the middle red line, the better."
      ]
    },
    {
      "cell_type": "markdown",
      "metadata": {
        "id": "0mfSI5UuwD0y"
      },
      "source": [
        "There are many ways to fix this. one here we will use numpy library."
      ]
    },
    {
      "cell_type": "code",
      "metadata": {
        "id": "412rQKi4vLDs"
      },
      "source": [
        "dataset[\"charges\"] = np.log1p(dataset[\"charges\"])"
      ],
      "execution_count": 248,
      "outputs": []
    },
    {
      "cell_type": "code",
      "metadata": {
        "colab": {
          "base_uri": "https://localhost:8080/"
        },
        "id": "Q1TilZaKvaz5",
        "outputId": "e1b26063-02c3-42bd-b288-54fdb4daac95"
      },
      "source": [
        "(mu, sigma) = norm.fit(dataset[\"charges\"])\n",
        "print(\"mu {} : {}, sigma {} : {}\".format(\"charges\", mu, \"charges\", sigma))"
      ],
      "execution_count": 249,
      "outputs": [
        {
          "output_type": "stream",
          "name": "stdout",
          "text": [
            "mu charges : 9.098827980629359, sigma charges : 0.9190355163595243\n"
          ]
        }
      ]
    },
    {
      "cell_type": "code",
      "metadata": {
        "colab": {
          "base_uri": "https://localhost:8080/",
          "height": 396
        },
        "id": "1FRpx7jpvj-A",
        "outputId": "b51575a4-1d86-4233-8511-636b1cfe6840"
      },
      "source": [
        "plt.figure(figsize=(10,4))\n",
        "plt.subplot(1,2,1)\n",
        "sns.distplot(dataset[\"charges\"], fit=norm)\n",
        "plt.title(\"charges Distplot\", color = \"darkgreen\")\n",
        "plt.subplot(1,2,2)\n",
        "stats.probplot(dataset[\"charges\"], plot = plt)\n",
        "plt.show()\n"
      ],
      "execution_count": 250,
      "outputs": [
        {
          "output_type": "stream",
          "name": "stderr",
          "text": [
            "/usr/local/lib/python3.7/dist-packages/seaborn/distributions.py:2619: FutureWarning:\n",
            "\n",
            "`distplot` is a deprecated function and will be removed in a future version. Please adapt your code to use either `displot` (a figure-level function with similar flexibility) or `histplot` (an axes-level function for histograms).\n",
            "\n"
          ]
        },
        {
          "output_type": "display_data",
          "data": {
            "image/png": "[encoded data removed]",
            "text/plain": [
              "<Figure size 720x288 with 2 Axes>"
            ]
          },
          "metadata": {}
        }
      ]
    },
    {
      "cell_type": "markdown",
      "metadata": {
        "id": "erSSMSyZwOd_"
      },
      "source": [
        "As we can see by comparing with the 2 graphs above. We see the fix."
      ]
    },
    {
      "cell_type": "markdown",
      "metadata": {
        "id": "hN265G0bmCY2"
      },
      "source": [
        "# **Modeling**"
      ]
    },
    {
      "cell_type": "markdown",
      "metadata": {
        "id": "e7y086f1xCUS"
      },
      "source": [
        "**Importing Model Library**"
      ]
    },
    {
      "cell_type": "code",
      "metadata": {
        "id": "y2lHuNXKwfhP"
      },
      "source": [
        "from sklearn.linear_model import LinearRegression, Ridge\n",
        "from sklearn.model_selection import train_test_split\n",
        "from sklearn.preprocessing import StandardScaler\n",
        "from sklearn.metrics import r2_score\n",
        "from sklearn import metrics\n",
        "from yellowbrick.regressor import PredictionError"
      ],
      "execution_count": 251,
      "outputs": []
    },
    {
      "cell_type": "code",
      "source": [
        "dataset.columns"
      ],
      "metadata": {
        "colab": {
          "base_uri": "https://localhost:8080/"
        },
        "id": "2NmtGQq-WZqk",
        "outputId": "66d77fb8-1910-4eae-9d10-edc5c0646867"
      },
      "execution_count": 252,
      "outputs": [
        {
          "output_type": "execute_result",
          "data": {
            "text/plain": [
              "Index(['age', 'bmi', 'children', 'charges', 'sex_0', 'sex_1', 'smoker_0',\n",
              "       'smoker_1', 'region_0', 'region_1', 'region_2', 'region_3'],\n",
              "      dtype='object')"
            ]
          },
          "metadata": {},
          "execution_count": 252
        }
      ]
    },
    {
      "cell_type": "markdown",
      "source": [
        "**Dummy Variable Trap**"
      ],
      "metadata": {
        "id": "wZU7pqF_dt6K"
      }
    },
    {
      "cell_type": "markdown",
      "source": [
        "Since, one dummy variable is highly correlated with other dummy variables, using all dummy variables for regression models leads to a dummy variable trap. So I have to consider one dummy variable columns as reference dummy and have to drop that column "
      ],
      "metadata": {
        "id": "SJhzDLv8YRGb"
      }
    },
    {
      "cell_type": "code",
      "source": [
        "del dataset[\"sex_1\"]\n",
        "del dataset[\"smoker_0\"]\n",
        "del dataset[\"region_0\"]"
      ],
      "metadata": {
        "id": "Ctig9vbUWe7Z"
      },
      "execution_count": 253,
      "outputs": []
    },
    {
      "cell_type": "code",
      "source": [
        "dataset.columns"
      ],
      "metadata": {
        "colab": {
          "base_uri": "https://localhost:8080/"
        },
        "id": "Oq-SQlJYWxBA",
        "outputId": "0fc5080a-cbe2-4e60-bc96-0e9ef92e4323"
      },
      "execution_count": 254,
      "outputs": [
        {
          "output_type": "execute_result",
          "data": {
            "text/plain": [
              "Index(['age', 'bmi', 'children', 'charges', 'sex_0', 'smoker_1', 'region_1',\n",
              "       'region_2', 'region_3'],\n",
              "      dtype='object')"
            ]
          },
          "metadata": {},
          "execution_count": 254
        }
      ]
    },
    {
      "cell_type": "markdown",
      "metadata": {
        "id": "328JsGyEmcGJ"
      },
      "source": [
        "**Defining Independent and Dependent Varriable**"
      ]
    },
    {
      "cell_type": "code",
      "metadata": {
        "id": "-_w7CoLjyNuY"
      },
      "source": [
        "y = dataset.charges\n",
        "X = dataset.drop([\"charges\"], axis = 1)"
      ],
      "execution_count": 255,
      "outputs": []
    },
    {
      "cell_type": "code",
      "metadata": {
        "colab": {
          "base_uri": "https://localhost:8080/"
        },
        "id": "UW6CNc9JyUZz",
        "outputId": "f6ca314d-5edf-4e71-9306-f0e78aa4f8c1"
      },
      "source": [
        "print(X)"
      ],
      "execution_count": 256,
      "outputs": [
        {
          "output_type": "stream",
          "name": "stdout",
          "text": [
            "      age     bmi  children  sex_0  smoker_1  region_1  region_2  region_3\n",
            "0      19  27.900         0      1         1         1         0         0\n",
            "1      18  33.770         1      0         0         0         0         0\n",
            "2      28  33.000         3      0         0         0         0         0\n",
            "3      33  22.705         0      0         0         0         1         0\n",
            "4      32  28.880         0      0         0         0         1         0\n",
            "...   ...     ...       ...    ...       ...       ...       ...       ...\n",
            "1333   50  30.970         3      0         0         0         1         0\n",
            "1334   18  31.920         0      1         0         0         0         1\n",
            "1335   18  36.850         0      1         0         0         0         0\n",
            "1336   21  25.800         0      1         0         1         0         0\n",
            "1337   61  29.070         0      1         1         0         1         0\n",
            "\n",
            "[1338 rows x 8 columns]\n"
          ]
        }
      ]
    },
    {
      "cell_type": "code",
      "metadata": {
        "colab": {
          "base_uri": "https://localhost:8080/"
        },
        "id": "gOqt303NyhKH",
        "outputId": "c9017429-dba4-40f4-da0e-bf0571d8e22c"
      },
      "source": [
        "print(y)"
      ],
      "execution_count": 257,
      "outputs": [
        {
          "output_type": "stream",
          "name": "stdout",
          "text": [
            "0        9.734236\n",
            "1        7.453882\n",
            "2        8.400763\n",
            "3        9.998137\n",
            "4        8.260455\n",
            "          ...    \n",
            "1333     9.268755\n",
            "1334     7.699381\n",
            "1335     7.396847\n",
            "1336     7.605365\n",
            "1337    10.279948\n",
            "Name: charges, Length: 1338, dtype: float64\n"
          ]
        }
      ]
    },
    {
      "cell_type": "markdown",
      "metadata": {
        "id": "nGCoQDwky1E0"
      },
      "source": [
        "**Splitting dataset in Training Set and Test Set**"
      ]
    },
    {
      "cell_type": "code",
      "metadata": {
        "id": "dgz0DyOAykdR"
      },
      "source": [
        "test_size = 0.2\n",
        "X_train, X_test, Y_train, Y_test = train_test_split(X, y, test_size = test_size, random_state = 20)"
      ],
      "execution_count": 258,
      "outputs": []
    },
    {
      "cell_type": "code",
      "metadata": {
        "colab": {
          "base_uri": "https://localhost:8080/"
        },
        "id": "RPiUMRdTyvl8",
        "outputId": "822728fb-f9bd-4a3d-ee9a-aa347d6110e7"
      },
      "source": [
        "print(\"X_train shape {}, len {}.\".format(X_train.shape,len(X_train)))\n",
        "print(\"X_test shape {}, len {}.\".format(X_test.shape,len(X_test)))\n",
        "print(\"Y_train shape {}, len {}.\".format(Y_train.shape,len(Y_train)))\n",
        "print(\"Y_test shape {}, len {}.\".format(Y_test.shape,len(Y_test)))"
      ],
      "execution_count": 259,
      "outputs": [
        {
          "output_type": "stream",
          "name": "stdout",
          "text": [
            "X_train shape (1070, 8), len 1070.\n",
            "X_test shape (268, 8), len 268.\n",
            "Y_train shape (1070,), len 1070.\n",
            "Y_test shape (268,), len 268.\n"
          ]
        }
      ]
    },
    {
      "cell_type": "markdown",
      "metadata": {
        "id": "qYRMgpmv0YPP"
      },
      "source": [
        "We have defined the list in which we will save the model results for later comparison."
      ]
    },
    {
      "cell_type": "markdown",
      "metadata": {
        "id": "UFAccj700bjL"
      },
      "source": [
        "**A) Linear Regression**"
      ]
    },
    {
      "cell_type": "markdown",
      "metadata": {
        "id": "9kJOMmeHGAyG"
      },
      "source": [
        "Linear Regression establishes relationship between dependent variable  y  and one or more independent variable  x  using best fit line. It work on the principle of ordinary least square  (OLS)  / Mean square errror  (MSE) . In statistics ols is method to estimated unkown parameter of linear regression function, it's goal is to minimize sum of square difference between observed dependent variable in the given data set and those predicted by linear regression fuction.\n"
      ]
    },
    {
      "cell_type": "code",
      "metadata": {
        "id": "fsWLhhqH0Pui"
      },
      "source": [
        "multiple_linear = LinearRegression()\n",
        "multiple_linear.fit(X_train, Y_train)\n",
        "predict = multiple_linear.predict(X_test)\n",
        "score = r2_score(Y_test,predict)"
      ],
      "execution_count": 260,
      "outputs": []
    },
    {
      "cell_type": "code",
      "metadata": {
        "colab": {
          "base_uri": "https://localhost:8080/"
        },
        "id": "X7zdjdYt0fFz",
        "outputId": "02528136-3f8f-44a6-acfb-d49ac610df80"
      },
      "source": [
        "print(\"r_square score --> \",score)\n",
        "print('Mean Absolute Error -->', metrics.mean_absolute_error(Y_test, predict))\n",
        "print('Mean Squared Error -->', metrics.mean_squared_error(Y_test, predict))\n",
        "print('Root Mean Squared Error -->', np.sqrt(metrics.mean_squared_error(Y_test, predict)))"
      ],
      "execution_count": 261,
      "outputs": [
        {
          "output_type": "stream",
          "name": "stdout",
          "text": [
            "r_square score -->  0.8243798270715377\n",
            "Mean Absolute Error --> 0.2647688757079816\n",
            "Mean Squared Error --> 0.15078227497485558\n",
            "Root Mean Squared Error --> 0.3883069339773056\n"
          ]
        }
      ]
    },
    {
      "cell_type": "code",
      "source": [
        "multiple_linear.coef_"
      ],
      "metadata": {
        "colab": {
          "base_uri": "https://localhost:8080/"
        },
        "id": "QZf9VcyIyHvs",
        "outputId": "0037ffda-4dba-4a13-e03b-97aae94d93ae"
      },
      "execution_count": 262,
      "outputs": [
        {
          "output_type": "execute_result",
          "data": {
            "text/plain": [
              "array([0.03388977, 0.0142813 , 0.10507763, 0.06921998, 1.55673292,\n",
              "       0.01201444, 0.08371074, 0.13262148])"
            ]
          },
          "metadata": {},
          "execution_count": 262
        }
      ]
    },
    {
      "cell_type": "code",
      "source": [
        "multiple_linear.intercept_"
      ],
      "metadata": {
        "colab": {
          "base_uri": "https://localhost:8080/"
        },
        "id": "RGMAXwfR91wZ",
        "outputId": "a1c2381b-37aa-458d-c8fa-6f23ef8c0786"
      },
      "execution_count": 263,
      "outputs": [
        {
          "output_type": "execute_result",
          "data": {
            "text/plain": [
              "6.821191708219468"
            ]
          },
          "metadata": {},
          "execution_count": 263
        }
      ]
    },
    {
      "cell_type": "markdown",
      "source": [
        "**Regression Equation** obtained is \n",
        "\n",
        "Charges = 6.821191708219468 + 0.03388977 * age +  0.0142813 * bmi +  0.10507763 * children + 0.06921998 * sex_0 +  1.55673292 * smoker_1  - 0.01201444 * region_1 + 0.08371074 * region_2 + 0.13262148 * region_3"
      ],
      "metadata": {
        "id": "Ak11cx6vJPPn"
      }
    },
    {
      "cell_type": "code",
      "metadata": {
        "colab": {
          "base_uri": "https://localhost:8080/",
          "height": 206
        },
        "id": "8Kejg1FICu5T",
        "outputId": "7fa2e99b-719b-41e1-91a7-a81a397d2269"
      },
      "source": [
        "df_linearRegression = pd.DataFrame({'Actual': Y_test, 'Predicted': predict})\n",
        "df_linearRegression.head()"
      ],
      "execution_count": 264,
      "outputs": [
        {
          "output_type": "execute_result",
          "data": {
            "text/html": [
              "<div>\n",
              "<style scoped>\n",
              "    .dataframe tbody tr th:only-of-type {\n",
              "        vertical-align: middle;\n",
              "    }\n",
              "\n",
              "    .dataframe tbody tr th {\n",
              "        vertical-align: top;\n",
              "    }\n",
              "\n",
              "    .dataframe thead th {\n",
              "        text-align: right;\n",
              "    }\n",
              "</style>\n",
              "<table border=\"1\" class=\"dataframe\">\n",
              "  <thead>\n",
              "    <tr style=\"text-align: right;\">\n",
              "      <th></th>\n",
              "      <th>Actual</th>\n",
              "      <th>Predicted</th>\n",
              "    </tr>\n",
              "  </thead>\n",
              "  <tbody>\n",
              "    <tr>\n",
              "      <th>698</th>\n",
              "      <td>9.303580</td>\n",
              "      <td>9.284366</td>\n",
              "    </tr>\n",
              "    <tr>\n",
              "      <th>520</th>\n",
              "      <td>10.152594</td>\n",
              "      <td>9.108258</td>\n",
              "    </tr>\n",
              "    <tr>\n",
              "      <th>1144</th>\n",
              "      <td>9.172784</td>\n",
              "      <td>9.199136</td>\n",
              "    </tr>\n",
              "    <tr>\n",
              "      <th>908</th>\n",
              "      <td>9.627146</td>\n",
              "      <td>9.851890</td>\n",
              "    </tr>\n",
              "    <tr>\n",
              "      <th>559</th>\n",
              "      <td>7.406972</td>\n",
              "      <td>8.056223</td>\n",
              "    </tr>\n",
              "  </tbody>\n",
              "</table>\n",
              "</div>"
            ],
            "text/plain": [
              "         Actual  Predicted\n",
              "698    9.303580   9.284366\n",
              "520   10.152594   9.108258\n",
              "1144   9.172784   9.199136\n",
              "908    9.627146   9.851890\n",
              "559    7.406972   8.056223"
            ]
          },
          "metadata": {},
          "execution_count": 264
        }
      ]
    },
    {
      "cell_type": "markdown",
      "metadata": {
        "id": "vm-mSeSOZuD_"
      },
      "source": [
        "For Linear Regression, we see the actual result and the results we predicted."
      ]
    },
    {
      "cell_type": "code",
      "metadata": {
        "colab": {
          "base_uri": "https://localhost:8080/",
          "height": 310
        },
        "id": "qLAfAAuBIVY-",
        "outputId": "6baf7a62-48de-487f-a170-3eca210c7ff9"
      },
      "source": [
        "sns.regplot(x= Y_test, y= predict, data=dataset)"
      ],
      "execution_count": 265,
      "outputs": [
        {
          "output_type": "execute_result",
          "data": {
            "text/plain": [
              "<matplotlib.axes._subplots.AxesSubplot at 0x7f9e2570ac50>"
            ]
          },
          "metadata": {},
          "execution_count": 265
        },
        {
          "output_type": "display_data",
          "data": {
            "image/png": "[encoded data removed]",
            "text/plain": [
              "<Figure size 432x288 with 1 Axes>"
            ]
          },
          "metadata": {}
        }
      ]
    },
    {
      "cell_type": "markdown",
      "metadata": {
        "id": "oVXJyxiryEWJ"
      },
      "source": [
        "# **Conclusions**"
      ]
    },
    {
      "cell_type": "markdown",
      "metadata": {
        "id": "rwBeMBNLyNlx"
      },
      "source": [
        "\n",
        "*  We see that the insurance charges increase as the age gets older. The highest wages appear between the ages of 51-64.\n",
        "* we notice that at first with the increase of no. of children people were more opting for insurance, but after a certain no. it started decreasing\n",
        "* Smoker's medical charges are more than the non-smokers\n",
        "* People belong to southeast have the highest medical insurance charges.\n",
        "\n",
        "Regression Equation obtained is\n",
        "\n",
        "Charges = 6.821191708219468 + 0.03388977 * age + 0.0142813 * bmi + 0.10507763 * children + 0.06921998 * sex_0 + 1.55673292 * smoker_1 - 0.01201444 * region_1 + 0.08371074 * region_2 + 0.13262148 * region_3\n",
        "\n",
        "*   From the regression equation we can see weightage of columns - children and smoker are higher. \n",
        "\n",
        "This regression equation can be used to predict medical cost of an individual given his other data - age, sex,\tbmi,\tchildren,\tsmoker,\tregion,\tcharges\n",
        "\n",
        "\n",
        "\n",
        "\n",
        "\n",
        "\n"
      ]
    }
  ]
}